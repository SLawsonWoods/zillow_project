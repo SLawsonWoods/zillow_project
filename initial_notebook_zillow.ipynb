{
 "cells": [
  {
   "cell_type": "code",
   "execution_count": 1,
   "id": "c8f53b60",
   "metadata": {},
   "outputs": [],
   "source": [
    "import pandas as pd\n",
    "import numpy as np\n",
    "from env import username, password, host\n",
    "import wrangle\n",
    "import prepare\n",
    "from scipy import stats\n",
    "from sklearn.model_selection import train_test_split\n",
    "\n",
    "import matplotlib.pyplot as plt\n",
    "import seaborn as sns\n",
    "\n",
    "from sklearn.model_selection import train_test_split\n",
    "from sklearn.impute import SimpleImputer\n",
    "from sklearn.preprocessing import MinMaxScaler\n",
    "\n",
    "import warnings\n",
    "warnings.filterwarnings(\"ignore\")"
   ]
  },
  {
   "cell_type": "code",
   "execution_count": 2,
   "id": "99bcdb51",
   "metadata": {},
   "outputs": [],
   "source": [
    "#Acquire"
   ]
  },
  {
   "cell_type": "code",
   "execution_count": 3,
   "id": "0fc4b1eb",
   "metadata": {},
   "outputs": [
    {
     "data": {
      "text/html": [
       "<div>\n",
       "<style scoped>\n",
       "    .dataframe tbody tr th:only-of-type {\n",
       "        vertical-align: middle;\n",
       "    }\n",
       "\n",
       "    .dataframe tbody tr th {\n",
       "        vertical-align: top;\n",
       "    }\n",
       "\n",
       "    .dataframe thead th {\n",
       "        text-align: right;\n",
       "    }\n",
       "</style>\n",
       "<table border=\"1\" class=\"dataframe\">\n",
       "  <thead>\n",
       "    <tr style=\"text-align: right;\">\n",
       "      <th></th>\n",
       "      <th>parcelid</th>\n",
       "      <th>bedroomcnt</th>\n",
       "      <th>bathroomcnt</th>\n",
       "      <th>calculatedfinishedsquarefeet</th>\n",
       "      <th>taxvaluedollarcnt</th>\n",
       "      <th>taxamount</th>\n",
       "      <th>assessmentyear</th>\n",
       "      <th>regionidcounty</th>\n",
       "      <th>regionidzip</th>\n",
       "      <th>transactiondate</th>\n",
       "    </tr>\n",
       "  </thead>\n",
       "  <tbody>\n",
       "    <tr>\n",
       "      <th>0</th>\n",
       "      <td>12354372</td>\n",
       "      <td>2.0</td>\n",
       "      <td>1.0</td>\n",
       "      <td>756.0</td>\n",
       "      <td>83520.0</td>\n",
       "      <td>1355.47</td>\n",
       "      <td>2016.0</td>\n",
       "      <td>3101.0</td>\n",
       "      <td>96119.0</td>\n",
       "      <td>2017-05-08</td>\n",
       "    </tr>\n",
       "    <tr>\n",
       "      <th>1</th>\n",
       "      <td>13973867</td>\n",
       "      <td>4.0</td>\n",
       "      <td>3.0</td>\n",
       "      <td>1850.0</td>\n",
       "      <td>517000.0</td>\n",
       "      <td>6116.96</td>\n",
       "      <td>2016.0</td>\n",
       "      <td>1286.0</td>\n",
       "      <td>97004.0</td>\n",
       "      <td>2017-05-08</td>\n",
       "    </tr>\n",
       "    <tr>\n",
       "      <th>2</th>\n",
       "      <td>13981618</td>\n",
       "      <td>3.0</td>\n",
       "      <td>2.5</td>\n",
       "      <td>3271.0</td>\n",
       "      <td>1814378.0</td>\n",
       "      <td>19686.04</td>\n",
       "      <td>2016.0</td>\n",
       "      <td>1286.0</td>\n",
       "      <td>96978.0</td>\n",
       "      <td>2017-05-08</td>\n",
       "    </tr>\n",
       "    <tr>\n",
       "      <th>3</th>\n",
       "      <td>17120696</td>\n",
       "      <td>4.0</td>\n",
       "      <td>2.5</td>\n",
       "      <td>1807.0</td>\n",
       "      <td>265679.0</td>\n",
       "      <td>3150.70</td>\n",
       "      <td>2016.0</td>\n",
       "      <td>2061.0</td>\n",
       "      <td>97107.0</td>\n",
       "      <td>2017-05-08</td>\n",
       "    </tr>\n",
       "    <tr>\n",
       "      <th>4</th>\n",
       "      <td>12438626</td>\n",
       "      <td>4.0</td>\n",
       "      <td>3.0</td>\n",
       "      <td>2468.0</td>\n",
       "      <td>443691.0</td>\n",
       "      <td>5364.53</td>\n",
       "      <td>2016.0</td>\n",
       "      <td>3101.0</td>\n",
       "      <td>96242.0</td>\n",
       "      <td>2017-05-08</td>\n",
       "    </tr>\n",
       "    <tr>\n",
       "      <th>...</th>\n",
       "      <td>...</td>\n",
       "      <td>...</td>\n",
       "      <td>...</td>\n",
       "      <td>...</td>\n",
       "      <td>...</td>\n",
       "      <td>...</td>\n",
       "      <td>...</td>\n",
       "      <td>...</td>\n",
       "      <td>...</td>\n",
       "      <td>...</td>\n",
       "    </tr>\n",
       "    <tr>\n",
       "      <th>28119</th>\n",
       "      <td>11927617</td>\n",
       "      <td>3.0</td>\n",
       "      <td>2.0</td>\n",
       "      <td>1345.0</td>\n",
       "      <td>634832.0</td>\n",
       "      <td>7395.36</td>\n",
       "      <td>2016.0</td>\n",
       "      <td>3101.0</td>\n",
       "      <td>96517.0</td>\n",
       "      <td>2017-08-30</td>\n",
       "    </tr>\n",
       "    <tr>\n",
       "      <th>28120</th>\n",
       "      <td>14210331</td>\n",
       "      <td>2.0</td>\n",
       "      <td>1.5</td>\n",
       "      <td>1087.0</td>\n",
       "      <td>319000.0</td>\n",
       "      <td>3570.20</td>\n",
       "      <td>2016.0</td>\n",
       "      <td>1286.0</td>\n",
       "      <td>97063.0</td>\n",
       "      <td>2017-08-30</td>\n",
       "    </tr>\n",
       "    <tr>\n",
       "      <th>28121</th>\n",
       "      <td>11446352</td>\n",
       "      <td>4.0</td>\n",
       "      <td>2.0</td>\n",
       "      <td>1271.0</td>\n",
       "      <td>514037.0</td>\n",
       "      <td>5996.69</td>\n",
       "      <td>2016.0</td>\n",
       "      <td>3101.0</td>\n",
       "      <td>96162.0</td>\n",
       "      <td>2017-08-30</td>\n",
       "    </tr>\n",
       "    <tr>\n",
       "      <th>28122</th>\n",
       "      <td>12954981</td>\n",
       "      <td>4.0</td>\n",
       "      <td>2.0</td>\n",
       "      <td>2058.0</td>\n",
       "      <td>532592.0</td>\n",
       "      <td>6151.04</td>\n",
       "      <td>2016.0</td>\n",
       "      <td>3101.0</td>\n",
       "      <td>96524.0</td>\n",
       "      <td>2017-08-30</td>\n",
       "    </tr>\n",
       "    <tr>\n",
       "      <th>28123</th>\n",
       "      <td>14000845</td>\n",
       "      <td>3.0</td>\n",
       "      <td>2.0</td>\n",
       "      <td>1307.0</td>\n",
       "      <td>68808.0</td>\n",
       "      <td>1336.16</td>\n",
       "      <td>2016.0</td>\n",
       "      <td>1286.0</td>\n",
       "      <td>97052.0</td>\n",
       "      <td>2017-08-30</td>\n",
       "    </tr>\n",
       "  </tbody>\n",
       "</table>\n",
       "<p>28124 rows × 10 columns</p>\n",
       "</div>"
      ],
      "text/plain": [
       "       parcelid  bedroomcnt  bathroomcnt  calculatedfinishedsquarefeet  \\\n",
       "0      12354372         2.0          1.0                         756.0   \n",
       "1      13973867         4.0          3.0                        1850.0   \n",
       "2      13981618         3.0          2.5                        3271.0   \n",
       "3      17120696         4.0          2.5                        1807.0   \n",
       "4      12438626         4.0          3.0                        2468.0   \n",
       "...         ...         ...          ...                           ...   \n",
       "28119  11927617         3.0          2.0                        1345.0   \n",
       "28120  14210331         2.0          1.5                        1087.0   \n",
       "28121  11446352         4.0          2.0                        1271.0   \n",
       "28122  12954981         4.0          2.0                        2058.0   \n",
       "28123  14000845         3.0          2.0                        1307.0   \n",
       "\n",
       "       taxvaluedollarcnt  taxamount  assessmentyear  regionidcounty  \\\n",
       "0                83520.0    1355.47          2016.0          3101.0   \n",
       "1               517000.0    6116.96          2016.0          1286.0   \n",
       "2              1814378.0   19686.04          2016.0          1286.0   \n",
       "3               265679.0    3150.70          2016.0          2061.0   \n",
       "4               443691.0    5364.53          2016.0          3101.0   \n",
       "...                  ...        ...             ...             ...   \n",
       "28119           634832.0    7395.36          2016.0          3101.0   \n",
       "28120           319000.0    3570.20          2016.0          1286.0   \n",
       "28121           514037.0    5996.69          2016.0          3101.0   \n",
       "28122           532592.0    6151.04          2016.0          3101.0   \n",
       "28123            68808.0    1336.16          2016.0          1286.0   \n",
       "\n",
       "       regionidzip transactiondate  \n",
       "0          96119.0      2017-05-08  \n",
       "1          97004.0      2017-05-08  \n",
       "2          96978.0      2017-05-08  \n",
       "3          97107.0      2017-05-08  \n",
       "4          96242.0      2017-05-08  \n",
       "...            ...             ...  \n",
       "28119      96517.0      2017-08-30  \n",
       "28120      97063.0      2017-08-30  \n",
       "28121      96162.0      2017-08-30  \n",
       "28122      96524.0      2017-08-30  \n",
       "28123      97052.0      2017-08-30  \n",
       "\n",
       "[28124 rows x 10 columns]"
      ]
     },
     "execution_count": 3,
     "metadata": {},
     "output_type": "execute_result"
    }
   ],
   "source": [
    "url = f\"mysql+pymysql://{username}:{password}@{host}/zillow\"\n",
    "# this query brings in all the columns necessary to ask the questions posed by the zillow team  \n",
    "query = \"\"\"\n",
    "            \n",
    "SELECT parcelid, bedroomcnt, bathroomcnt, calculatedfinishedsquarefeet, taxvaluedollarcnt, taxamount, assessmentyear, regionidcounty,regionidzip, transactiondate\n",
    "FROM properties_2017\n",
    "\n",
    "LEFT JOIN propertylandusetype USING(propertylandusetypeid)\n",
    "\n",
    "JOIN predictions_2017 USING(parcelid)\n",
    "\n",
    "WHERE propertylandusedesc IN (\"Single Family Residential\",                       \n",
    "                              \"Inferred Single Family Residential\")\n",
    "                              AND (transactiondate BETWEEN '2017-05-01' AND '2017-08-31');\n",
    "                              \n",
    "                              \"\"\"\n",
    "    \n",
    "df = pd.read_sql(query, url)\n",
    "df"
   ]
  },
  {
   "cell_type": "code",
   "execution_count": 4,
   "id": "aa51591b",
   "metadata": {},
   "outputs": [],
   "source": [
    "### PREARE ###"
   ]
  },
  {
   "cell_type": "code",
   "execution_count": 5,
   "id": "8948d9b8",
   "metadata": {},
   "outputs": [],
   "source": [
    "# I need to prepare one df for answering the questions posed and a 2nd df name df2 that is for exploring and modeling"
   ]
  },
  {
   "cell_type": "code",
   "execution_count": 6,
   "id": "cd8944b0",
   "metadata": {},
   "outputs": [
    {
     "name": "stdout",
     "output_type": "stream",
     "text": [
      "<class 'pandas.core.frame.DataFrame'>\n",
      "RangeIndex: 28124 entries, 0 to 28123\n",
      "Data columns (total 10 columns):\n",
      " #   Column                        Non-Null Count  Dtype  \n",
      "---  ------                        --------------  -----  \n",
      " 0   parcelid                      28124 non-null  int64  \n",
      " 1   bedroomcnt                    28124 non-null  float64\n",
      " 2   bathroomcnt                   28124 non-null  float64\n",
      " 3   calculatedfinishedsquarefeet  28077 non-null  float64\n",
      " 4   taxvaluedollarcnt             28123 non-null  float64\n",
      " 5   taxamount                     28123 non-null  float64\n",
      " 6   assessmentyear                28124 non-null  float64\n",
      " 7   regionidcounty                28124 non-null  float64\n",
      " 8   regionidzip                   28107 non-null  float64\n",
      " 9   transactiondate               28124 non-null  object \n",
      "dtypes: float64(8), int64(1), object(1)\n",
      "memory usage: 2.1+ MB\n"
     ]
    }
   ],
   "source": [
    "df.info()\n",
    "# these are all the correct datatype"
   ]
  },
  {
   "cell_type": "markdown",
   "id": "dda8077a",
   "metadata": {},
   "source": [
    "Feature                             Description\n",
    "\n",
    "'assessmentyear':\t                The year of the property tax assessment \n",
    "'bathroomcnt':   \t                Number of bathrooms in home including fractional bathrooms\n",
    "'bedroomcnt':   \t                Number of bedrooms in home \n",
    "'calculatedfinishedsquarefeet': \tCalculated total finished living area of the home \n",
    "'parcelid':                     \tUnique identifier for parcels (lots) \n",
    "'regionidcounty':                \tCounty in which the property is located\n",
    "'regionidzip':                  \tZip code in which the property is located\n",
    "'taxamount':                        The total property tax assessed for that assessment year\n",
    "'taxvaluedollarcnt':             \tThe total tax assessed value of the parcel"
   ]
  },
  {
   "cell_type": "markdown",
   "id": "19288023",
   "metadata": {},
   "source": [
    "-I chose to use the column regionidzip instead of fips because this holds the actual zipcode\n",
    "-I chose to keep parcelid so I could use it as the index \n",
    "-I chose to use calculatedfinishedsquarefeet because all of the other squarefeet features did not include the amount that would be advertised with the house which would only be the finished sqft\n",
    "-I brought in the assessmentyear in order to only capture homes in the year of 2017\n",
    "-Last I brought in transaction date to limit the dataset to only those homes with tranactions in the \"hot months\" May through August"
   ]
  },
  {
   "cell_type": "code",
   "execution_count": 7,
   "id": "bea367a9",
   "metadata": {},
   "outputs": [
    {
     "data": {
      "text/html": [
       "<div>\n",
       "<style scoped>\n",
       "    .dataframe tbody tr th:only-of-type {\n",
       "        vertical-align: middle;\n",
       "    }\n",
       "\n",
       "    .dataframe tbody tr th {\n",
       "        vertical-align: top;\n",
       "    }\n",
       "\n",
       "    .dataframe thead th {\n",
       "        text-align: right;\n",
       "    }\n",
       "</style>\n",
       "<table border=\"1\" class=\"dataframe\">\n",
       "  <thead>\n",
       "    <tr style=\"text-align: right;\">\n",
       "      <th></th>\n",
       "      <th>parcelid</th>\n",
       "      <th>bedroomcnt</th>\n",
       "      <th>bathroomcnt</th>\n",
       "      <th>calculatedfinishedsquarefeet</th>\n",
       "      <th>taxvaluedollarcnt</th>\n",
       "      <th>taxamount</th>\n",
       "      <th>assessmentyear</th>\n",
       "      <th>regionidcounty</th>\n",
       "      <th>regionidzip</th>\n",
       "      <th>transactiondate</th>\n",
       "    </tr>\n",
       "  </thead>\n",
       "  <tbody>\n",
       "    <tr>\n",
       "      <th>0</th>\n",
       "      <td>12354372</td>\n",
       "      <td>2.0</td>\n",
       "      <td>1.0</td>\n",
       "      <td>756.0</td>\n",
       "      <td>83520.0</td>\n",
       "      <td>1355.47</td>\n",
       "      <td>2016.0</td>\n",
       "      <td>3101.0</td>\n",
       "      <td>96119.0</td>\n",
       "      <td>2017-05-08</td>\n",
       "    </tr>\n",
       "    <tr>\n",
       "      <th>1</th>\n",
       "      <td>13973867</td>\n",
       "      <td>4.0</td>\n",
       "      <td>3.0</td>\n",
       "      <td>1850.0</td>\n",
       "      <td>517000.0</td>\n",
       "      <td>6116.96</td>\n",
       "      <td>2016.0</td>\n",
       "      <td>1286.0</td>\n",
       "      <td>97004.0</td>\n",
       "      <td>2017-05-08</td>\n",
       "    </tr>\n",
       "    <tr>\n",
       "      <th>2</th>\n",
       "      <td>13981618</td>\n",
       "      <td>3.0</td>\n",
       "      <td>2.5</td>\n",
       "      <td>3271.0</td>\n",
       "      <td>1814378.0</td>\n",
       "      <td>19686.04</td>\n",
       "      <td>2016.0</td>\n",
       "      <td>1286.0</td>\n",
       "      <td>96978.0</td>\n",
       "      <td>2017-05-08</td>\n",
       "    </tr>\n",
       "    <tr>\n",
       "      <th>3</th>\n",
       "      <td>17120696</td>\n",
       "      <td>4.0</td>\n",
       "      <td>2.5</td>\n",
       "      <td>1807.0</td>\n",
       "      <td>265679.0</td>\n",
       "      <td>3150.70</td>\n",
       "      <td>2016.0</td>\n",
       "      <td>2061.0</td>\n",
       "      <td>97107.0</td>\n",
       "      <td>2017-05-08</td>\n",
       "    </tr>\n",
       "    <tr>\n",
       "      <th>4</th>\n",
       "      <td>12438626</td>\n",
       "      <td>4.0</td>\n",
       "      <td>3.0</td>\n",
       "      <td>2468.0</td>\n",
       "      <td>443691.0</td>\n",
       "      <td>5364.53</td>\n",
       "      <td>2016.0</td>\n",
       "      <td>3101.0</td>\n",
       "      <td>96242.0</td>\n",
       "      <td>2017-05-08</td>\n",
       "    </tr>\n",
       "  </tbody>\n",
       "</table>\n",
       "</div>"
      ],
      "text/plain": [
       "   parcelid  bedroomcnt  bathroomcnt  calculatedfinishedsquarefeet  \\\n",
       "0  12354372         2.0          1.0                         756.0   \n",
       "1  13973867         4.0          3.0                        1850.0   \n",
       "2  13981618         3.0          2.5                        3271.0   \n",
       "3  17120696         4.0          2.5                        1807.0   \n",
       "4  12438626         4.0          3.0                        2468.0   \n",
       "\n",
       "   taxvaluedollarcnt  taxamount  assessmentyear  regionidcounty  regionidzip  \\\n",
       "0            83520.0    1355.47          2016.0          3101.0      96119.0   \n",
       "1           517000.0    6116.96          2016.0          1286.0      97004.0   \n",
       "2          1814378.0   19686.04          2016.0          1286.0      96978.0   \n",
       "3           265679.0    3150.70          2016.0          2061.0      97107.0   \n",
       "4           443691.0    5364.53          2016.0          3101.0      96242.0   \n",
       "\n",
       "  transactiondate  \n",
       "0      2017-05-08  \n",
       "1      2017-05-08  \n",
       "2      2017-05-08  \n",
       "3      2017-05-08  \n",
       "4      2017-05-08  "
      ]
     },
     "execution_count": 7,
     "metadata": {},
     "output_type": "execute_result"
    }
   ],
   "source": [
    "# here I check out all the columns I brought in to make sure I have all\n",
    "# of the information necessary to answer questions posed by the team\n",
    "df.head()"
   ]
  },
  {
   "cell_type": "code",
   "execution_count": 8,
   "id": "c60f6882",
   "metadata": {},
   "outputs": [
    {
     "data": {
      "text/html": [
       "<div>\n",
       "<style scoped>\n",
       "    .dataframe tbody tr th:only-of-type {\n",
       "        vertical-align: middle;\n",
       "    }\n",
       "\n",
       "    .dataframe tbody tr th {\n",
       "        vertical-align: top;\n",
       "    }\n",
       "\n",
       "    .dataframe thead th {\n",
       "        text-align: right;\n",
       "    }\n",
       "</style>\n",
       "<table border=\"1\" class=\"dataframe\">\n",
       "  <thead>\n",
       "    <tr style=\"text-align: right;\">\n",
       "      <th></th>\n",
       "      <th>parcelid</th>\n",
       "      <th>bedroomcnt</th>\n",
       "      <th>bathroomcnt</th>\n",
       "      <th>calculatedfinishedsquarefeet</th>\n",
       "      <th>taxvaluedollarcnt</th>\n",
       "      <th>taxamount</th>\n",
       "      <th>assessmentyear</th>\n",
       "      <th>regionidcounty</th>\n",
       "      <th>regionidzip</th>\n",
       "    </tr>\n",
       "  </thead>\n",
       "  <tbody>\n",
       "    <tr>\n",
       "      <th>count</th>\n",
       "      <td>2.812400e+04</td>\n",
       "      <td>28124.000000</td>\n",
       "      <td>28124.000000</td>\n",
       "      <td>28077.000000</td>\n",
       "      <td>2.812300e+04</td>\n",
       "      <td>28123.000000</td>\n",
       "      <td>28124.0</td>\n",
       "      <td>28124.000000</td>\n",
       "      <td>28107.000000</td>\n",
       "    </tr>\n",
       "    <tr>\n",
       "      <th>mean</th>\n",
       "      <td>1.304239e+07</td>\n",
       "      <td>3.309487</td>\n",
       "      <td>2.316509</td>\n",
       "      <td>1934.930014</td>\n",
       "      <td>5.350049e+05</td>\n",
       "      <td>6508.829263</td>\n",
       "      <td>2016.0</td>\n",
       "      <td>2509.060909</td>\n",
       "      <td>96656.246629</td>\n",
       "    </tr>\n",
       "    <tr>\n",
       "      <th>std</th>\n",
       "      <td>3.747700e+06</td>\n",
       "      <td>0.943073</td>\n",
       "      <td>1.016983</td>\n",
       "      <td>995.684457</td>\n",
       "      <td>7.076811e+05</td>\n",
       "      <td>8221.720405</td>\n",
       "      <td>0.0</td>\n",
       "      <td>808.588534</td>\n",
       "      <td>5130.262567</td>\n",
       "    </tr>\n",
       "    <tr>\n",
       "      <th>min</th>\n",
       "      <td>1.071186e+07</td>\n",
       "      <td>0.000000</td>\n",
       "      <td>0.000000</td>\n",
       "      <td>240.000000</td>\n",
       "      <td>1.000000e+03</td>\n",
       "      <td>51.260000</td>\n",
       "      <td>2016.0</td>\n",
       "      <td>1286.000000</td>\n",
       "      <td>95982.000000</td>\n",
       "    </tr>\n",
       "    <tr>\n",
       "      <th>25%</th>\n",
       "      <td>1.151380e+07</td>\n",
       "      <td>3.000000</td>\n",
       "      <td>2.000000</td>\n",
       "      <td>1278.000000</td>\n",
       "      <td>1.986360e+05</td>\n",
       "      <td>2705.330000</td>\n",
       "      <td>2016.0</td>\n",
       "      <td>1286.000000</td>\n",
       "      <td>96208.000000</td>\n",
       "    </tr>\n",
       "    <tr>\n",
       "      <th>50%</th>\n",
       "      <td>1.259670e+07</td>\n",
       "      <td>3.000000</td>\n",
       "      <td>2.000000</td>\n",
       "      <td>1675.000000</td>\n",
       "      <td>3.827980e+05</td>\n",
       "      <td>4735.280000</td>\n",
       "      <td>2016.0</td>\n",
       "      <td>3101.000000</td>\n",
       "      <td>96414.000000</td>\n",
       "    </tr>\n",
       "    <tr>\n",
       "      <th>75%</th>\n",
       "      <td>1.414914e+07</td>\n",
       "      <td>4.000000</td>\n",
       "      <td>3.000000</td>\n",
       "      <td>2326.000000</td>\n",
       "      <td>6.327670e+05</td>\n",
       "      <td>7528.405000</td>\n",
       "      <td>2016.0</td>\n",
       "      <td>3101.000000</td>\n",
       "      <td>96995.000000</td>\n",
       "    </tr>\n",
       "    <tr>\n",
       "      <th>max</th>\n",
       "      <td>1.676878e+08</td>\n",
       "      <td>12.000000</td>\n",
       "      <td>11.000000</td>\n",
       "      <td>17245.000000</td>\n",
       "      <td>2.385837e+07</td>\n",
       "      <td>276797.830000</td>\n",
       "      <td>2016.0</td>\n",
       "      <td>3101.000000</td>\n",
       "      <td>399675.000000</td>\n",
       "    </tr>\n",
       "  </tbody>\n",
       "</table>\n",
       "</div>"
      ],
      "text/plain": [
       "           parcelid    bedroomcnt   bathroomcnt  calculatedfinishedsquarefeet  \\\n",
       "count  2.812400e+04  28124.000000  28124.000000                  28077.000000   \n",
       "mean   1.304239e+07      3.309487      2.316509                   1934.930014   \n",
       "std    3.747700e+06      0.943073      1.016983                    995.684457   \n",
       "min    1.071186e+07      0.000000      0.000000                    240.000000   \n",
       "25%    1.151380e+07      3.000000      2.000000                   1278.000000   \n",
       "50%    1.259670e+07      3.000000      2.000000                   1675.000000   \n",
       "75%    1.414914e+07      4.000000      3.000000                   2326.000000   \n",
       "max    1.676878e+08     12.000000     11.000000                  17245.000000   \n",
       "\n",
       "       taxvaluedollarcnt      taxamount  assessmentyear  regionidcounty  \\\n",
       "count       2.812300e+04   28123.000000         28124.0    28124.000000   \n",
       "mean        5.350049e+05    6508.829263          2016.0     2509.060909   \n",
       "std         7.076811e+05    8221.720405             0.0      808.588534   \n",
       "min         1.000000e+03      51.260000          2016.0     1286.000000   \n",
       "25%         1.986360e+05    2705.330000          2016.0     1286.000000   \n",
       "50%         3.827980e+05    4735.280000          2016.0     3101.000000   \n",
       "75%         6.327670e+05    7528.405000          2016.0     3101.000000   \n",
       "max         2.385837e+07  276797.830000          2016.0     3101.000000   \n",
       "\n",
       "         regionidzip  \n",
       "count   28107.000000  \n",
       "mean    96656.246629  \n",
       "std      5130.262567  \n",
       "min     95982.000000  \n",
       "25%     96208.000000  \n",
       "50%     96414.000000  \n",
       "75%     96995.000000  \n",
       "max    399675.000000  "
      ]
     },
     "execution_count": 8,
     "metadata": {},
     "output_type": "execute_result"
    }
   ],
   "source": [
    "# here I want to get an idea of the summarized numbers\n",
    "df.describe()"
   ]
  },
  {
   "cell_type": "code",
   "execution_count": 9,
   "id": "3c047ba1",
   "metadata": {},
   "outputs": [
    {
     "data": {
      "text/plain": [
       "parcelid                         0\n",
       "bedroomcnt                       0\n",
       "bathroomcnt                      0\n",
       "calculatedfinishedsquarefeet    47\n",
       "taxvaluedollarcnt                1\n",
       "taxamount                        1\n",
       "assessmentyear                   0\n",
       "regionidcounty                   0\n",
       "regionidzip                     17\n",
       "transactiondate                  0\n",
       "dtype: int64"
      ]
     },
     "execution_count": 9,
     "metadata": {},
     "output_type": "execute_result"
    }
   ],
   "source": [
    "# next I'll look at null values\n",
    "df.isnull().sum()"
   ]
  },
  {
   "cell_type": "code",
   "execution_count": 10,
   "id": "590ff213",
   "metadata": {},
   "outputs": [
    {
     "data": {
      "text/plain": [
       "(28124, 10)"
      ]
     },
     "execution_count": 10,
     "metadata": {},
     "output_type": "execute_result"
    }
   ],
   "source": [
    "# let's compare those to the overall numbers in the dataset to see how to handle them\n",
    "df.shape"
   ]
  },
  {
   "cell_type": "code",
   "execution_count": 11,
   "id": "c3314c6a",
   "metadata": {},
   "outputs": [],
   "source": [
    "# the amount of null values is small enough in comparison to the overall set to delete these\n",
    "# records\n",
    "\n",
    "df = df.dropna()"
   ]
  },
  {
   "cell_type": "code",
   "execution_count": 12,
   "id": "f6bce49a",
   "metadata": {},
   "outputs": [
    {
     "data": {
      "text/plain": [
       "parcelid                        0\n",
       "bedroomcnt                      0\n",
       "bathroomcnt                     0\n",
       "calculatedfinishedsquarefeet    0\n",
       "taxvaluedollarcnt               0\n",
       "taxamount                       0\n",
       "assessmentyear                  0\n",
       "regionidcounty                  0\n",
       "regionidzip                     0\n",
       "transactiondate                 0\n",
       "dtype: int64"
      ]
     },
     "execution_count": 12,
     "metadata": {},
     "output_type": "execute_result"
    }
   ],
   "source": [
    "# let's check that they are gone\n",
    "df.isnull().sum()"
   ]
  },
  {
   "cell_type": "code",
   "execution_count": 13,
   "id": "954e4f32",
   "metadata": {},
   "outputs": [
    {
     "data": {
      "text/plain": [
       "(28060, 10)"
      ]
     },
     "execution_count": 13,
     "metadata": {},
     "output_type": "execute_result"
    }
   ],
   "source": [
    "df.shape"
   ]
  },
  {
   "cell_type": "code",
   "execution_count": 14,
   "id": "7c36b88a",
   "metadata": {},
   "outputs": [],
   "source": [
    "# now lets rename columns\n",
    "df = df.rename(columns={\n",
    "                            'parcelid': 'parcel_id',\n",
    "                            'calculatedfinishedsquarefeet': 'sqft',\n",
    "                            'bathroomcnt': 'baths',\n",
    "                            'bedroomcnt': 'beds',\n",
    "                            'assessmentyear': 'assessment_year',\n",
    "                            'regionidcounty': 'county',\n",
    "                            'regionidzip': 'zipcode',\n",
    "                            'transactiondate': 'tranaction_date',\n",
    "                            'taxvaluedollarcnt':'tax_value'})"
   ]
  },
  {
   "cell_type": "code",
   "execution_count": 15,
   "id": "4ad8c9e2",
   "metadata": {},
   "outputs": [
    {
     "data": {
      "text/html": [
       "<div>\n",
       "<style scoped>\n",
       "    .dataframe tbody tr th:only-of-type {\n",
       "        vertical-align: middle;\n",
       "    }\n",
       "\n",
       "    .dataframe tbody tr th {\n",
       "        vertical-align: top;\n",
       "    }\n",
       "\n",
       "    .dataframe thead th {\n",
       "        text-align: right;\n",
       "    }\n",
       "</style>\n",
       "<table border=\"1\" class=\"dataframe\">\n",
       "  <thead>\n",
       "    <tr style=\"text-align: right;\">\n",
       "      <th></th>\n",
       "      <th>parcel_id</th>\n",
       "      <th>beds</th>\n",
       "      <th>baths</th>\n",
       "      <th>sqft</th>\n",
       "      <th>tax_value</th>\n",
       "      <th>taxamount</th>\n",
       "      <th>assessment_year</th>\n",
       "      <th>county</th>\n",
       "      <th>zipcode</th>\n",
       "      <th>tranaction_date</th>\n",
       "    </tr>\n",
       "  </thead>\n",
       "  <tbody>\n",
       "    <tr>\n",
       "      <th>0</th>\n",
       "      <td>12354372</td>\n",
       "      <td>2.0</td>\n",
       "      <td>1.0</td>\n",
       "      <td>756.0</td>\n",
       "      <td>83520.0</td>\n",
       "      <td>1355.47</td>\n",
       "      <td>2016.0</td>\n",
       "      <td>3101.0</td>\n",
       "      <td>96119.0</td>\n",
       "      <td>2017-05-08</td>\n",
       "    </tr>\n",
       "    <tr>\n",
       "      <th>1</th>\n",
       "      <td>13973867</td>\n",
       "      <td>4.0</td>\n",
       "      <td>3.0</td>\n",
       "      <td>1850.0</td>\n",
       "      <td>517000.0</td>\n",
       "      <td>6116.96</td>\n",
       "      <td>2016.0</td>\n",
       "      <td>1286.0</td>\n",
       "      <td>97004.0</td>\n",
       "      <td>2017-05-08</td>\n",
       "    </tr>\n",
       "    <tr>\n",
       "      <th>2</th>\n",
       "      <td>13981618</td>\n",
       "      <td>3.0</td>\n",
       "      <td>2.5</td>\n",
       "      <td>3271.0</td>\n",
       "      <td>1814378.0</td>\n",
       "      <td>19686.04</td>\n",
       "      <td>2016.0</td>\n",
       "      <td>1286.0</td>\n",
       "      <td>96978.0</td>\n",
       "      <td>2017-05-08</td>\n",
       "    </tr>\n",
       "    <tr>\n",
       "      <th>3</th>\n",
       "      <td>17120696</td>\n",
       "      <td>4.0</td>\n",
       "      <td>2.5</td>\n",
       "      <td>1807.0</td>\n",
       "      <td>265679.0</td>\n",
       "      <td>3150.70</td>\n",
       "      <td>2016.0</td>\n",
       "      <td>2061.0</td>\n",
       "      <td>97107.0</td>\n",
       "      <td>2017-05-08</td>\n",
       "    </tr>\n",
       "    <tr>\n",
       "      <th>4</th>\n",
       "      <td>12438626</td>\n",
       "      <td>4.0</td>\n",
       "      <td>3.0</td>\n",
       "      <td>2468.0</td>\n",
       "      <td>443691.0</td>\n",
       "      <td>5364.53</td>\n",
       "      <td>2016.0</td>\n",
       "      <td>3101.0</td>\n",
       "      <td>96242.0</td>\n",
       "      <td>2017-05-08</td>\n",
       "    </tr>\n",
       "  </tbody>\n",
       "</table>\n",
       "</div>"
      ],
      "text/plain": [
       "   parcel_id  beds  baths    sqft  tax_value  taxamount  assessment_year  \\\n",
       "0   12354372   2.0    1.0   756.0    83520.0    1355.47           2016.0   \n",
       "1   13973867   4.0    3.0  1850.0   517000.0    6116.96           2016.0   \n",
       "2   13981618   3.0    2.5  3271.0  1814378.0   19686.04           2016.0   \n",
       "3   17120696   4.0    2.5  1807.0   265679.0    3150.70           2016.0   \n",
       "4   12438626   4.0    3.0  2468.0   443691.0    5364.53           2016.0   \n",
       "\n",
       "   county  zipcode tranaction_date  \n",
       "0  3101.0  96119.0      2017-05-08  \n",
       "1  1286.0  97004.0      2017-05-08  \n",
       "2  1286.0  96978.0      2017-05-08  \n",
       "3  2061.0  97107.0      2017-05-08  \n",
       "4  3101.0  96242.0      2017-05-08  "
      ]
     },
     "execution_count": 15,
     "metadata": {},
     "output_type": "execute_result"
    }
   ],
   "source": [
    "df.head()"
   ]
  },
  {
   "cell_type": "code",
   "execution_count": 16,
   "id": "10e265c4",
   "metadata": {},
   "outputs": [
    {
     "name": "stdout",
     "output_type": "stream",
     "text": [
      "<class 'pandas.core.frame.DataFrame'>\n",
      "Int64Index: 28060 entries, 0 to 28123\n",
      "Data columns (total 10 columns):\n",
      " #   Column           Non-Null Count  Dtype  \n",
      "---  ------           --------------  -----  \n",
      " 0   parcel_id        28060 non-null  int64  \n",
      " 1   beds             28060 non-null  float64\n",
      " 2   baths            28060 non-null  float64\n",
      " 3   sqft             28060 non-null  float64\n",
      " 4   tax_value        28060 non-null  float64\n",
      " 5   taxamount        28060 non-null  float64\n",
      " 6   assessment_year  28060 non-null  float64\n",
      " 7   county           28060 non-null  float64\n",
      " 8   zipcode          28060 non-null  float64\n",
      " 9   tranaction_date  28060 non-null  object \n",
      "dtypes: float64(8), int64(1), object(1)\n",
      "memory usage: 2.4+ MB\n"
     ]
    }
   ],
   "source": [
    "df.info()"
   ]
  },
  {
   "cell_type": "code",
   "execution_count": 17,
   "id": "c61e6600",
   "metadata": {},
   "outputs": [],
   "source": [
    "# change datatypes to int beds,tax_value \n",
    "df['beds'] = df['beds'].astype(int)"
   ]
  },
  {
   "cell_type": "code",
   "execution_count": 18,
   "id": "2ef4a27d",
   "metadata": {},
   "outputs": [
    {
     "name": "stdout",
     "output_type": "stream",
     "text": [
      "<class 'pandas.core.frame.DataFrame'>\n",
      "Int64Index: 28060 entries, 0 to 28123\n",
      "Data columns (total 10 columns):\n",
      " #   Column           Non-Null Count  Dtype  \n",
      "---  ------           --------------  -----  \n",
      " 0   parcel_id        28060 non-null  int64  \n",
      " 1   beds             28060 non-null  int64  \n",
      " 2   baths            28060 non-null  float64\n",
      " 3   sqft             28060 non-null  float64\n",
      " 4   tax_value        28060 non-null  float64\n",
      " 5   taxamount        28060 non-null  float64\n",
      " 6   assessment_year  28060 non-null  float64\n",
      " 7   county           28060 non-null  float64\n",
      " 8   zipcode          28060 non-null  float64\n",
      " 9   tranaction_date  28060 non-null  object \n",
      "dtypes: float64(7), int64(2), object(1)\n",
      "memory usage: 2.4+ MB\n"
     ]
    }
   ],
   "source": [
    "df.info()"
   ]
  },
  {
   "cell_type": "code",
   "execution_count": 19,
   "id": "367bb8ce",
   "metadata": {},
   "outputs": [],
   "source": [
    "# calculate the tax rate and make a new column/feature \n",
    "df['tax_rate']= df['taxamount']/df['tax_value']"
   ]
  },
  {
   "cell_type": "code",
   "execution_count": 20,
   "id": "36aa1844",
   "metadata": {},
   "outputs": [
    {
     "data": {
      "text/html": [
       "<div>\n",
       "<style scoped>\n",
       "    .dataframe tbody tr th:only-of-type {\n",
       "        vertical-align: middle;\n",
       "    }\n",
       "\n",
       "    .dataframe tbody tr th {\n",
       "        vertical-align: top;\n",
       "    }\n",
       "\n",
       "    .dataframe thead th {\n",
       "        text-align: right;\n",
       "    }\n",
       "</style>\n",
       "<table border=\"1\" class=\"dataframe\">\n",
       "  <thead>\n",
       "    <tr style=\"text-align: right;\">\n",
       "      <th></th>\n",
       "      <th>parcel_id</th>\n",
       "      <th>beds</th>\n",
       "      <th>baths</th>\n",
       "      <th>sqft</th>\n",
       "      <th>tax_value</th>\n",
       "      <th>taxamount</th>\n",
       "      <th>assessment_year</th>\n",
       "      <th>county</th>\n",
       "      <th>zipcode</th>\n",
       "      <th>tranaction_date</th>\n",
       "      <th>tax_rate</th>\n",
       "    </tr>\n",
       "  </thead>\n",
       "  <tbody>\n",
       "    <tr>\n",
       "      <th>0</th>\n",
       "      <td>12354372</td>\n",
       "      <td>2</td>\n",
       "      <td>1.0</td>\n",
       "      <td>756.0</td>\n",
       "      <td>83520.0</td>\n",
       "      <td>1355.47</td>\n",
       "      <td>2016.0</td>\n",
       "      <td>3101.0</td>\n",
       "      <td>96119.0</td>\n",
       "      <td>2017-05-08</td>\n",
       "      <td>0.016229</td>\n",
       "    </tr>\n",
       "    <tr>\n",
       "      <th>1</th>\n",
       "      <td>13973867</td>\n",
       "      <td>4</td>\n",
       "      <td>3.0</td>\n",
       "      <td>1850.0</td>\n",
       "      <td>517000.0</td>\n",
       "      <td>6116.96</td>\n",
       "      <td>2016.0</td>\n",
       "      <td>1286.0</td>\n",
       "      <td>97004.0</td>\n",
       "      <td>2017-05-08</td>\n",
       "      <td>0.011832</td>\n",
       "    </tr>\n",
       "    <tr>\n",
       "      <th>2</th>\n",
       "      <td>13981618</td>\n",
       "      <td>3</td>\n",
       "      <td>2.5</td>\n",
       "      <td>3271.0</td>\n",
       "      <td>1814378.0</td>\n",
       "      <td>19686.04</td>\n",
       "      <td>2016.0</td>\n",
       "      <td>1286.0</td>\n",
       "      <td>96978.0</td>\n",
       "      <td>2017-05-08</td>\n",
       "      <td>0.010850</td>\n",
       "    </tr>\n",
       "    <tr>\n",
       "      <th>3</th>\n",
       "      <td>17120696</td>\n",
       "      <td>4</td>\n",
       "      <td>2.5</td>\n",
       "      <td>1807.0</td>\n",
       "      <td>265679.0</td>\n",
       "      <td>3150.70</td>\n",
       "      <td>2016.0</td>\n",
       "      <td>2061.0</td>\n",
       "      <td>97107.0</td>\n",
       "      <td>2017-05-08</td>\n",
       "      <td>0.011859</td>\n",
       "    </tr>\n",
       "    <tr>\n",
       "      <th>4</th>\n",
       "      <td>12438626</td>\n",
       "      <td>4</td>\n",
       "      <td>3.0</td>\n",
       "      <td>2468.0</td>\n",
       "      <td>443691.0</td>\n",
       "      <td>5364.53</td>\n",
       "      <td>2016.0</td>\n",
       "      <td>3101.0</td>\n",
       "      <td>96242.0</td>\n",
       "      <td>2017-05-08</td>\n",
       "      <td>0.012091</td>\n",
       "    </tr>\n",
       "  </tbody>\n",
       "</table>\n",
       "</div>"
      ],
      "text/plain": [
       "   parcel_id  beds  baths    sqft  tax_value  taxamount  assessment_year  \\\n",
       "0   12354372     2    1.0   756.0    83520.0    1355.47           2016.0   \n",
       "1   13973867     4    3.0  1850.0   517000.0    6116.96           2016.0   \n",
       "2   13981618     3    2.5  3271.0  1814378.0   19686.04           2016.0   \n",
       "3   17120696     4    2.5  1807.0   265679.0    3150.70           2016.0   \n",
       "4   12438626     4    3.0  2468.0   443691.0    5364.53           2016.0   \n",
       "\n",
       "   county  zipcode tranaction_date  tax_rate  \n",
       "0  3101.0  96119.0      2017-05-08  0.016229  \n",
       "1  1286.0  97004.0      2017-05-08  0.011832  \n",
       "2  1286.0  96978.0      2017-05-08  0.010850  \n",
       "3  2061.0  97107.0      2017-05-08  0.011859  \n",
       "4  3101.0  96242.0      2017-05-08  0.012091  "
      ]
     },
     "execution_count": 20,
     "metadata": {},
     "output_type": "execute_result"
    }
   ],
   "source": [
    "df.head()"
   ]
  },
  {
   "cell_type": "code",
   "execution_count": 21,
   "id": "83abfe73",
   "metadata": {},
   "outputs": [
    {
     "data": {
      "text/plain": [
       "<seaborn.axisgrid.JointGrid at 0x7fdbdd9c9820>"
      ]
     },
     "execution_count": 21,
     "metadata": {},
     "output_type": "execute_result"
    },
    {
     "data": {
      "image/png": "[encoded data removed]",
      "text/plain": [
       "<Figure size 432x432 with 3 Axes>"
      ]
     },
     "metadata": {
      "needs_background": "light"
     },
     "output_type": "display_data"
    }
   ],
   "source": [
    "# here I would like to answer the stakeholders request for the distribution of tax_rate by county\n",
    "sns.jointplot(x=df[\"county\"], y=df[\"tax_rate\"], kind='scatter')"
   ]
  },
  {
   "cell_type": "markdown",
   "id": "d26302d2",
   "metadata": {},
   "source": [
    "so we can inform the stakeholders that in county 3101 the tax rate is the highest on average, followed by county 1286 and then the lowest tax_rate exists in county 2061"
   ]
  },
  {
   "cell_type": "code",
   "execution_count": 22,
   "id": "81cb0f64",
   "metadata": {},
   "outputs": [
    {
     "data": {
      "text/plain": [
       "3101.0    17886\n",
       "1286.0     7740\n",
       "2061.0     2434\n",
       "Name: county, dtype: int64"
      ]
     },
     "execution_count": 22,
     "metadata": {},
     "output_type": "execute_result"
    }
   ],
   "source": [
    "# here is where I found the label for each county above\n",
    "df.county.value_counts()"
   ]
  },
  {
   "cell_type": "code",
   "execution_count": 23,
   "id": "092af6d5",
   "metadata": {},
   "outputs": [],
   "source": [
    "# time to check for duplicates and remove them\n",
    "# dropping ALL duplicate values\n",
    "df.drop_duplicates(subset =\"parcel_id\",\n",
    "                     keep = False, inplace = True)\n",
    " "
   ]
  },
  {
   "cell_type": "code",
   "execution_count": 24,
   "id": "1340a45e",
   "metadata": {},
   "outputs": [
    {
     "data": {
      "text/plain": [
       "(28017, 11)"
      ]
     },
     "execution_count": 24,
     "metadata": {},
     "output_type": "execute_result"
    }
   ],
   "source": [
    "# here we can see with shape that numerous duplicate rows were dropped\n",
    "df.shape"
   ]
  },
  {
   "cell_type": "code",
   "execution_count": 28,
   "id": "65360989",
   "metadata": {},
   "outputs": [],
   "source": [
    "# let's get rid of the unnecessary decimal point\n",
    "#df['beds','sqft','tax_value','assessment_year','county','zipcode'] = df['beds','sqft','tax_value','assessment_year','county','zipcode'].astype(str).apply(lambda x: x.replace('.0',''))\n",
    "df['beds'] = df['beds'].astype(str).apply(lambda x: x.replace('.0',''))"
   ]
  },
  {
   "cell_type": "code",
   "execution_count": 29,
   "id": "dc74d2de",
   "metadata": {},
   "outputs": [],
   "source": [
    "df['sqft'] = df['sqft'].astype(str).apply(lambda x: x.replace('.0',''))"
   ]
  },
  {
   "cell_type": "code",
   "execution_count": 30,
   "id": "d6595cc9",
   "metadata": {},
   "outputs": [],
   "source": [
    "df['tax_value'] = df['tax_value'].astype(str).apply(lambda x: x.replace('.0',''))"
   ]
  },
  {
   "cell_type": "code",
   "execution_count": 31,
   "id": "5a9ac21f",
   "metadata": {},
   "outputs": [],
   "source": [
    "df['assessment_year'] = df['assessment_year'].astype(str).apply(lambda x: x.replace('.0',''))"
   ]
  },
  {
   "cell_type": "code",
   "execution_count": 32,
   "id": "cbf3b66d",
   "metadata": {},
   "outputs": [],
   "source": [
    "df['county'] = df['county'].astype(str).apply(lambda x: x.replace('.0',''))"
   ]
  },
  {
   "cell_type": "code",
   "execution_count": null,
   "id": "b7fbfa09",
   "metadata": {},
   "outputs": [],
   "source": [
    "df['zipcode'] = df['zipcode'].astype(str).apply(lambda x: x.replace('.0',''))"
   ]
  },
  {
   "cell_type": "code",
   "execution_count": 33,
   "id": "9da0f7ac",
   "metadata": {},
   "outputs": [
    {
     "name": "stdout",
     "output_type": "stream",
     "text": [
      "<class 'pandas.core.frame.DataFrame'>\n",
      "Int64Index: 28017 entries, 0 to 28123\n",
      "Data columns (total 11 columns):\n",
      " #   Column           Non-Null Count  Dtype  \n",
      "---  ------           --------------  -----  \n",
      " 0   parcel_id        28017 non-null  int64  \n",
      " 1   beds             28017 non-null  object \n",
      " 2   baths            28017 non-null  float64\n",
      " 3   sqft             28017 non-null  object \n",
      " 4   tax_value        28017 non-null  object \n",
      " 5   taxamount        28017 non-null  float64\n",
      " 6   assessment_year  28017 non-null  object \n",
      " 7   county           28017 non-null  object \n",
      " 8   zipcode          28017 non-null  float64\n",
      " 9   tranaction_date  28017 non-null  object \n",
      " 10  tax_rate         28017 non-null  float64\n",
      "dtypes: float64(4), int64(1), object(6)\n",
      "memory usage: 2.6+ MB\n"
     ]
    }
   ],
   "source": [
    "df.info()"
   ]
  },
  {
   "cell_type": "code",
   "execution_count": null,
   "id": "e2f5c9d3",
   "metadata": {},
   "outputs": [],
   "source": [
    "# check to see all decimals show how I would like\n",
    "df.head()"
   ]
  },
  {
   "cell_type": "code",
   "execution_count": 36,
   "id": "7eaef791",
   "metadata": {},
   "outputs": [],
   "source": [
    "# now let's tranform the columns back to the correct dtype\n",
    "df.parcel_id = df.parcel_id.astype(object)"
   ]
  },
  {
   "cell_type": "code",
   "execution_count": 37,
   "id": "fbc98b6d",
   "metadata": {},
   "outputs": [],
   "source": [
    "df.beds = df.beds.astype(int)"
   ]
  },
  {
   "cell_type": "code",
   "execution_count": 38,
   "id": "b142ac08",
   "metadata": {},
   "outputs": [],
   "source": [
    "df.sqft = df.sqft.astype(int)"
   ]
  },
  {
   "cell_type": "code",
   "execution_count": null,
   "id": "31c25734",
   "metadata": {},
   "outputs": [],
   "source": [
    "df.tax_amount = df.tax_amount.astype(int)"
   ]
  },
  {
   "cell_type": "code",
   "execution_count": null,
   "id": "d14829c5",
   "metadata": {},
   "outputs": [],
   "source": []
  },
  {
   "cell_type": "code",
   "execution_count": 39,
   "id": "ad22c215",
   "metadata": {},
   "outputs": [
    {
     "data": {
      "text/plain": [
       "3     12535\n",
       "4      8266\n",
       "2      4333\n",
       "5      2138\n",
       "6       340\n",
       "1       311\n",
       "7        50\n",
       "0        30\n",
       "8         7\n",
       "9         4\n",
       "10        2\n",
       "11        1\n",
       "Name: beds, dtype: int64"
      ]
     },
     "execution_count": 39,
     "metadata": {},
     "output_type": "execute_result"
    }
   ],
   "source": [
    "# here I am going to check for error values in the df\n",
    "df.beds.value_counts()\n",
    "# these seem reasonable for bedroom count so lets move on"
   ]
  },
  {
   "cell_type": "code",
   "execution_count": 40,
   "id": "a5d35723",
   "metadata": {},
   "outputs": [
    {
     "data": {
      "text/plain": [
       "2.0     11693\n",
       "3.0      5782\n",
       "1.0      4895\n",
       "2.5      2206\n",
       "4.0      1195\n",
       "3.5       538\n",
       "1.5       451\n",
       "5.0       440\n",
       "4.5       384\n",
       "6.0       174\n",
       "5.5       111\n",
       "7.0        51\n",
       "8.0        29\n",
       "6.5        27\n",
       "0.0        23\n",
       "7.5         9\n",
       "9.0         5\n",
       "11.0        2\n",
       "10.0        1\n",
       "8.5         1\n",
       "Name: baths, dtype: int64"
      ]
     },
     "execution_count": 40,
     "metadata": {},
     "output_type": "execute_result"
    }
   ],
   "source": [
    "df.baths.value_counts()\n",
    "# these numbers also seem reasonable for number of bathrooms"
   ]
  },
  {
   "cell_type": "code",
   "execution_count": 41,
   "id": "637227e4",
   "metadata": {},
   "outputs": [],
   "source": [
    "# changing the datatype back to a float\n",
    "df.sqft = df.sqft.astype(float, copy=False)"
   ]
  },
  {
   "cell_type": "code",
   "execution_count": 42,
   "id": "9d779cae",
   "metadata": {},
   "outputs": [
    {
     "data": {
      "text/html": [
       "<div>\n",
       "<style scoped>\n",
       "    .dataframe tbody tr th:only-of-type {\n",
       "        vertical-align: middle;\n",
       "    }\n",
       "\n",
       "    .dataframe tbody tr th {\n",
       "        vertical-align: top;\n",
       "    }\n",
       "\n",
       "    .dataframe thead th {\n",
       "        text-align: right;\n",
       "    }\n",
       "</style>\n",
       "<table border=\"1\" class=\"dataframe\">\n",
       "  <thead>\n",
       "    <tr style=\"text-align: right;\">\n",
       "      <th></th>\n",
       "      <th>parcel_id</th>\n",
       "      <th>beds</th>\n",
       "      <th>baths</th>\n",
       "      <th>sqft</th>\n",
       "      <th>tax_value</th>\n",
       "      <th>taxamount</th>\n",
       "      <th>assessment_year</th>\n",
       "      <th>county</th>\n",
       "      <th>zipcode</th>\n",
       "      <th>tranaction_date</th>\n",
       "      <th>tax_rate</th>\n",
       "    </tr>\n",
       "  </thead>\n",
       "  <tbody>\n",
       "    <tr>\n",
       "      <th>20070</th>\n",
       "      <td>11915330</td>\n",
       "      <td>0</td>\n",
       "      <td>1.0</td>\n",
       "      <td>240.0</td>\n",
       "      <td>380000</td>\n",
       "      <td>5222.26</td>\n",
       "      <td>2016</td>\n",
       "      <td>3101</td>\n",
       "      <td>96515.0</td>\n",
       "      <td>2017-07-19</td>\n",
       "      <td>0.013743</td>\n",
       "    </tr>\n",
       "  </tbody>\n",
       "</table>\n",
       "</div>"
      ],
      "text/plain": [
       "      parcel_id  beds  baths   sqft tax_value  taxamount assessment_year  \\\n",
       "20070  11915330     0    1.0  240.0    380000    5222.26            2016   \n",
       "\n",
       "      county  zipcode tranaction_date  tax_rate  \n",
       "20070   3101  96515.0      2017-07-19  0.013743  "
      ]
     },
     "execution_count": 42,
     "metadata": {},
     "output_type": "execute_result"
    }
   ],
   "source": [
    "# checking for any homes under 300 sqft because this could be an erroneous entry\n",
    "df[df['sqft']< 300]"
   ]
  },
  {
   "cell_type": "code",
   "execution_count": null,
   "id": "c254309d",
   "metadata": {},
   "outputs": [],
   "source": [
    "# this only returned one location and this could be a tiny home so I have decided it is not an error value so I'll \n",
    "# keep it"
   ]
  },
  {
   "cell_type": "code",
   "execution_count": 43,
   "id": "8e97056a",
   "metadata": {},
   "outputs": [],
   "source": [
    "# time to split up my df into train, validate, test and set my target\n",
    "target = 'tax_value'"
   ]
  },
  {
   "cell_type": "code",
   "execution_count": 44,
   "id": "741303c9",
   "metadata": {},
   "outputs": [],
   "source": [
    "train, validate, test, X_train, y_train, X_validate, y_validate, X_test, y_test = prepare.train_validate_test(df, target)"
   ]
  },
  {
   "cell_type": "code",
   "execution_count": null,
   "id": "0fde3fa5",
   "metadata": {},
   "outputs": [],
   "source": [
    "def train_validate_test(df, target):\n",
    "    '''\n",
    "    this function takes in a dataframe and splits it into 3 samples, \n",
    "    a test, which is 20% of the entire dataframe, \n",
    "    a validate, which is 24% of the entire dataframe,\n",
    "    and a train, which is 56% of the entire dataframe. \n",
    "    It then splits each of the 3 samples into a dataframe with independent variables\n",
    "    and a series with the dependent, or target variable. \n",
    "    The function returns train, validate, test sets and also another 3 dataframes and 3 series:\n",
    "    X_train (df) & y_train (series), X_validate & y_validate, X_test & y_test. \n",
    "    '''\n",
    "    # split df into test (20%) and train_validate (80%)\n",
    "    train_validate, test = train_test_split(df, test_size=.2, random_state=123)\n",
    "\n",
    "    # split train_validate off into train (70% of 80% = 56%) and validate (30% of 80% = 24%)\n",
    "    train, validate = train_test_split(train_validate, test_size=.3, random_state=123)\n",
    "\n",
    "        \n",
    "    # split train into X (dataframe, drop target) & y (series, keep target only)\n",
    "    X_train = train.drop(columns=[target])\n",
    "    y_train = train[target]\n",
    "    \n",
    "    # split validate into X (dataframe, drop target) & y (series, keep target only)\n",
    "    X_validate = validate.drop(columns=[target])\n",
    "    y_validate = validate[target]\n",
    "    \n",
    "    # split test into X (dataframe, drop target) & y (series, keep target only)\n",
    "    X_test = test.drop(columns=[target])\n",
    "    y_test = test[target]\n",
    "    \n",
    "    return train, validate, test, X_train, y_train, X_validate, y_validate, X_test, y_test"
   ]
  },
  {
   "cell_type": "code",
   "execution_count": null,
   "id": "8f4ef6e8",
   "metadata": {},
   "outputs": [],
   "source": [
    "b = np.where(df.sqft < 300)\n",
    "print(b)"
   ]
  },
  {
   "cell_type": "code",
   "execution_count": 45,
   "id": "b7c98416",
   "metadata": {},
   "outputs": [],
   "source": [
    "# now I am checking to make sure they are all the same shape col wise"
   ]
  },
  {
   "cell_type": "code",
   "execution_count": 46,
   "id": "9562f6a9",
   "metadata": {},
   "outputs": [
    {
     "data": {
      "text/plain": [
       "(15689, 11)"
      ]
     },
     "execution_count": 46,
     "metadata": {},
     "output_type": "execute_result"
    }
   ],
   "source": [
    "train.shape"
   ]
  },
  {
   "cell_type": "code",
   "execution_count": 47,
   "id": "79e8d8a5",
   "metadata": {},
   "outputs": [
    {
     "data": {
      "text/plain": [
       "(6724, 11)"
      ]
     },
     "execution_count": 47,
     "metadata": {},
     "output_type": "execute_result"
    }
   ],
   "source": [
    "validate.shape"
   ]
  },
  {
   "cell_type": "code",
   "execution_count": 48,
   "id": "47d4d414",
   "metadata": {},
   "outputs": [
    {
     "data": {
      "text/plain": [
       "(5604, 11)"
      ]
     },
     "execution_count": 48,
     "metadata": {},
     "output_type": "execute_result"
    }
   ],
   "source": [
    "test.shape"
   ]
  },
  {
   "cell_type": "code",
   "execution_count": 49,
   "id": "ff193639",
   "metadata": {},
   "outputs": [],
   "source": [
    "# now it's time to prep train2 for explore\n",
    "train2 = train.copy()"
   ]
  },
  {
   "cell_type": "code",
   "execution_count": 76,
   "id": "71755b65",
   "metadata": {},
   "outputs": [],
   "source": [
    "#remove any column leaking the target so taxamount and tax_rate\n",
    "train2 = train.drop(columns=['taxamount', 'tax_rate','tax_value'])\n"
   ]
  },
  {
   "cell_type": "code",
   "execution_count": 77,
   "id": "090fad03",
   "metadata": {},
   "outputs": [
    {
     "data": {
      "text/html": [
       "<div>\n",
       "<style scoped>\n",
       "    .dataframe tbody tr th:only-of-type {\n",
       "        vertical-align: middle;\n",
       "    }\n",
       "\n",
       "    .dataframe tbody tr th {\n",
       "        vertical-align: top;\n",
       "    }\n",
       "\n",
       "    .dataframe thead th {\n",
       "        text-align: right;\n",
       "    }\n",
       "</style>\n",
       "<table border=\"1\" class=\"dataframe\">\n",
       "  <thead>\n",
       "    <tr style=\"text-align: right;\">\n",
       "      <th></th>\n",
       "      <th>parcel_id</th>\n",
       "      <th>beds</th>\n",
       "      <th>baths</th>\n",
       "      <th>sqft</th>\n",
       "      <th>assessment_year</th>\n",
       "      <th>county</th>\n",
       "      <th>zipcode</th>\n",
       "      <th>tranaction_date</th>\n",
       "    </tr>\n",
       "  </thead>\n",
       "  <tbody>\n",
       "    <tr>\n",
       "      <th>21625</th>\n",
       "      <td>14320513</td>\n",
       "      <td>3</td>\n",
       "      <td>2.0</td>\n",
       "      <td>1702.0</td>\n",
       "      <td>2016</td>\n",
       "      <td>1286</td>\n",
       "      <td>96940.0</td>\n",
       "      <td>2017-08-02</td>\n",
       "    </tr>\n",
       "    <tr>\n",
       "      <th>13705</th>\n",
       "      <td>14225051</td>\n",
       "      <td>4</td>\n",
       "      <td>2.5</td>\n",
       "      <td>2070.0</td>\n",
       "      <td>2016</td>\n",
       "      <td>1286</td>\n",
       "      <td>97063.0</td>\n",
       "      <td>2017-07-05</td>\n",
       "    </tr>\n",
       "    <tr>\n",
       "      <th>9147</th>\n",
       "      <td>12472121</td>\n",
       "      <td>3</td>\n",
       "      <td>1.0</td>\n",
       "      <td>1210.0</td>\n",
       "      <td>2016</td>\n",
       "      <td>3101</td>\n",
       "      <td>96212.0</td>\n",
       "      <td>2017-06-15</td>\n",
       "    </tr>\n",
       "    <tr>\n",
       "      <th>962</th>\n",
       "      <td>10807588</td>\n",
       "      <td>3</td>\n",
       "      <td>2.0</td>\n",
       "      <td>1700.0</td>\n",
       "      <td>2016</td>\n",
       "      <td>3101</td>\n",
       "      <td>96387.0</td>\n",
       "      <td>2017-05-03</td>\n",
       "    </tr>\n",
       "    <tr>\n",
       "      <th>26797</th>\n",
       "      <td>14249510</td>\n",
       "      <td>4</td>\n",
       "      <td>2.0</td>\n",
       "      <td>1412.0</td>\n",
       "      <td>2016</td>\n",
       "      <td>1286</td>\n",
       "      <td>97005.0</td>\n",
       "      <td>2017-08-24</td>\n",
       "    </tr>\n",
       "  </tbody>\n",
       "</table>\n",
       "</div>"
      ],
      "text/plain": [
       "      parcel_id  beds  baths    sqft assessment_year county  zipcode  \\\n",
       "21625  14320513     3    2.0  1702.0            2016   1286  96940.0   \n",
       "13705  14225051     4    2.5  2070.0            2016   1286  97063.0   \n",
       "9147   12472121     3    1.0  1210.0            2016   3101  96212.0   \n",
       "962    10807588     3    2.0  1700.0            2016   3101  96387.0   \n",
       "26797  14249510     4    2.0  1412.0            2016   1286  97005.0   \n",
       "\n",
       "      tranaction_date  \n",
       "21625      2017-08-02  \n",
       "13705      2017-07-05  \n",
       "9147       2017-06-15  \n",
       "962        2017-05-03  \n",
       "26797      2017-08-24  "
      ]
     },
     "execution_count": 77,
     "metadata": {},
     "output_type": "execute_result"
    }
   ],
   "source": [
    "train2.head()"
   ]
  },
  {
   "cell_type": "code",
   "execution_count": 78,
   "id": "046545e7",
   "metadata": {},
   "outputs": [
    {
     "data": {
      "text/plain": [
       "<AxesSubplot:xlabel='beds'>"
      ]
     },
     "execution_count": 78,
     "metadata": {},
     "output_type": "execute_result"
    },
    {
     "data": {
      "image/png": "[encoded data removed]",
      "text/plain": [
       "<Figure size 432x288 with 1 Axes>"
      ]
     },
     "metadata": {
      "needs_background": "light"
     },
     "output_type": "display_data"
    }
   ],
   "source": [
    "# Plot the histogram thanks to the distplot function\n",
    "sns.distplot( a=train2[\"beds\"], bins=8, hist=True, kde=False, rug=False )"
   ]
  },
  {
   "cell_type": "code",
   "execution_count": 79,
   "id": "19fe2b2c",
   "metadata": {},
   "outputs": [
    {
     "data": {
      "text/plain": [
       "<AxesSubplot:xlabel='sqft'>"
      ]
     },
     "execution_count": 79,
     "metadata": {},
     "output_type": "execute_result"
    },
    {
     "data": {
      "image/png": "[encoded data removed]",
      "text/plain": [
       "<Figure size 432x288 with 1 Axes>"
      ]
     },
     "metadata": {
      "needs_background": "light"
     },
     "output_type": "display_data"
    }
   ],
   "source": [
    "# Plot the histogram thanks to the distplot function\n",
    "sns.distplot( a=train2[\"sqft\"], bins=200, hist=True, kde=False, rug=False )"
   ]
  },
  {
   "cell_type": "code",
   "execution_count": 80,
   "id": "fdd65bc4",
   "metadata": {},
   "outputs": [
    {
     "data": {
      "text/plain": [
       "(array([1.000e+00, 1.060e+02, 1.221e+03, 3.195e+03, 3.318e+03, 2.342e+03,\n",
       "        1.666e+03, 1.195e+03, 8.680e+02, 5.620e+02, 3.890e+02, 2.420e+02,\n",
       "        1.520e+02, 1.130e+02, 7.200e+01, 5.900e+01, 4.300e+01, 3.600e+01,\n",
       "        2.300e+01, 2.100e+01, 9.000e+00, 1.000e+01, 7.000e+00, 5.000e+00,\n",
       "        1.200e+01, 1.000e+00, 4.000e+00, 1.000e+00, 6.000e+00, 1.000e+00]),\n",
       " array([    0.        ,   333.33333333,   666.66666667,  1000.        ,\n",
       "         1333.33333333,  1666.66666667,  2000.        ,  2333.33333333,\n",
       "         2666.66666667,  3000.        ,  3333.33333333,  3666.66666667,\n",
       "         4000.        ,  4333.33333333,  4666.66666667,  5000.        ,\n",
       "         5333.33333333,  5666.66666667,  6000.        ,  6333.33333333,\n",
       "         6666.66666667,  7000.        ,  7333.33333333,  7666.66666667,\n",
       "         8000.        ,  8333.33333333,  8666.66666667,  9000.        ,\n",
       "         9333.33333333,  9666.66666667, 10000.        ]),\n",
       " <BarContainer object of 30 artists>)"
      ]
     },
     "execution_count": 80,
     "metadata": {},
     "output_type": "execute_result"
    },
    {
     "data": {
      "image/png": "[encoded data removed]",
      "text/plain": [
       "<Figure size 432x288 with 1 Axes>"
      ]
     },
     "metadata": {
      "needs_background": "light"
     },
     "output_type": "display_data"
    }
   ],
   "source": [
    "plt.hist(train2.sqft, 30, range=[0, 10000], facecolor='gray', align='mid')"
   ]
  },
  {
   "cell_type": "code",
   "execution_count": 81,
   "id": "b05a30e4",
   "metadata": {},
   "outputs": [
    {
     "data": {
      "text/plain": [
       "<AxesSubplot:xlabel='county'>"
      ]
     },
     "execution_count": 81,
     "metadata": {},
     "output_type": "execute_result"
    },
    {
     "data": {
      "image/png": "[encoded data removed]",
      "text/plain": [
       "<Figure size 432x288 with 1 Axes>"
      ]
     },
     "metadata": {
      "needs_background": "light"
     },
     "output_type": "display_data"
    }
   ],
   "source": [
    "# Plot the histogram county\n",
    "sns.distplot( a=train2[\"county\"], hist=True, kde=False, rug=False )"
   ]
  },
  {
   "cell_type": "code",
   "execution_count": 83,
   "id": "09fe8ffc",
   "metadata": {},
   "outputs": [
    {
     "data": {
      "text/plain": [
       "<AxesSubplot:xlabel='zipcode'>"
      ]
     },
     "execution_count": 83,
     "metadata": {},
     "output_type": "execute_result"
    },
    {
     "data": {
      "image/png": "[encoded data removed]",
      "text/plain": [
       "<Figure size 432x288 with 1 Axes>"
      ]
     },
     "metadata": {
      "needs_background": "light"
     },
     "output_type": "display_data"
    }
   ],
   "source": [
    "# Plot the histogram zipcode\n",
    "sns.distplot( a=train2[\"zipcode\"],bins=500,hist=True, kde=False, rug=False )"
   ]
  },
  {
   "cell_type": "code",
   "execution_count": 58,
   "id": "aedcf335",
   "metadata": {},
   "outputs": [],
   "source": [
    "# time to scale\n",
    "num_cols = ['beds','baths','sqft']\n",
    "def use_min_max(X_train, X_validate, X_test, num_col):\n",
    "    '''\n",
    "    this function takes in X: train, validate, and test\n",
    "    a list of numeric column names that were specified to use in the first go round of estimation,\n",
    "    and fits a min-max scaler to the first dataframe only and then transforms all\n",
    "    dataframes using this scaler. \n",
    "    it returns 3 dataframes with the same column names and scaled values. \n",
    "    '''\n",
    "    # create the scaler object and fit it to X_train (i.e. identify min and max)\n",
    "    # if copy = false, inplace row normalization happens and avoids a copy (if the input is already a numpy array).\n",
    "\n",
    "\n",
    "    scaler = MinMaxScaler(copy=True).fit(X_train[num_cols])\n",
    "\n",
    "    #scale X_train, X_validate, X_test using the mins and maxes stored in the scaler derived from X_train. \n",
    "    # \n",
    "    X_train_scaled_array = scaler.transform(X_train[num_cols])\n",
    "    X_validate_scaled_array = scaler.transform(X_validate[num_cols])\n",
    "    X_test_scaled_array = scaler.transform(X_test[num_cols])\n",
    "\n",
    "    # convert arrays to dataframes\n",
    "    X_train_scaled = pd.DataFrame(X_train_scaled_array, \n",
    "                                  columns=num_cols).\\\n",
    "                                  set_index([X_train.index.values])\n",
    "\n",
    "    X_validate_scaled = pd.DataFrame(X_validate_scaled_array, \n",
    "                                     columns=num_cols).\\\n",
    "                                     set_index([X_validate.index.values])\n",
    "\n",
    "    X_test_scaled = pd.DataFrame(X_test_scaled_array, \n",
    "                                 columns=num_cols).\\\n",
    "                                 set_index([X_test.index.values])\n",
    "\n",
    "    \n",
    "    return X_train_scaled, X_validate_scaled, X_test_scaled"
   ]
  },
  {
   "cell_type": "code",
   "execution_count": 59,
   "id": "5e52e01d",
   "metadata": {},
   "outputs": [
    {
     "data": {
      "text/plain": [
       "(       beds     baths      sqft\n",
       " 21625   0.3  0.181818  0.094877\n",
       " 13705   0.4  0.227273  0.120251\n",
       " 9147    0.3  0.090909  0.060953\n",
       " 962     0.3  0.181818  0.094739\n",
       " 26797   0.4  0.181818  0.074881\n",
       " ...     ...       ...       ...\n",
       " 2565    0.3  0.181818  0.072123\n",
       " 6673    0.3  0.090909  0.086051\n",
       " 16329   0.4  0.181818  0.092533\n",
       " 12981   0.3  0.181818  0.085569\n",
       " 5948    0.3  0.272727  0.089361\n",
       " \n",
       " [15689 rows x 3 columns],\n",
       "        beds     baths      sqft\n",
       " 20338   0.4  0.272727  0.214232\n",
       " 16152   0.3  0.090909  0.061987\n",
       " 9769    0.4  0.272727  0.138454\n",
       " 8852    0.2  0.090909  0.043853\n",
       " 22535   0.2  0.136364  0.051989\n",
       " ...     ...       ...       ...\n",
       " 24514   0.3  0.181818  0.063297\n",
       " 25653   0.3  0.090909  0.047783\n",
       " 9190    0.4  0.272727  0.148314\n",
       " 17163   0.4  0.272727  0.121906\n",
       " 4253    0.4  0.181818  0.113287\n",
       " \n",
       " [6724 rows x 3 columns],\n",
       "        beds     baths      sqft\n",
       " 12448   0.3  0.181818  0.083776\n",
       " 711     0.3  0.363636  0.190581\n",
       " 2278    0.3  0.181818  0.069365\n",
       " 8922    0.3  0.181818  0.062470\n",
       " 26595   0.3  0.181818  0.067296\n",
       " ...     ...       ...       ...\n",
       " 12995   0.3  0.181818  0.086465\n",
       " 2777    0.3  0.272727  0.171482\n",
       " 20636   0.3  0.090909  0.042060\n",
       " 11865   0.3  0.272727  0.118389\n",
       " 3028    0.3  0.181818  0.051300\n",
       " \n",
       " [5604 rows x 3 columns])"
      ]
     },
     "execution_count": 59,
     "metadata": {},
     "output_type": "execute_result"
    }
   ],
   "source": [
    "use_min_max(X_train, X_validate, X_test, num_cols)"
   ]
  },
  {
   "cell_type": "markdown",
   "id": "76bfa7e0",
   "metadata": {},
   "source": [
    "##Takeaways from Prepare\n",
    "df is prepped and ready to answer questions posed\n",
    "X_train, etc. is prepped and ready for explore\n",
    "there were no outliers in the dataset after cleaning and whittling it down"
   ]
  },
  {
   "cell_type": "code",
   "execution_count": null,
   "id": "d8e94e18",
   "metadata": {},
   "outputs": [],
   "source": [
    "######## EXPLORE ############"
   ]
  },
  {
   "cell_type": "markdown",
   "id": "3fc4afd6",
   "metadata": {},
   "source": [
    "Hypothesis 1: Let's see if there is a relationship between sqft and tax_value.\n",
    "\n",
    "alpha = .05\n",
    "\n",
    "$H_0$: There is no relationship between sqft and tax_value, they are independent. \n",
    "\n",
    "$H_a$: There is a relationship between sqft and tax_value, they are dependent on each other.\n",
    "\n"
   ]
  },
  {
   "cell_type": "markdown",
   "id": "869243f2",
   "metadata": {},
   "source": [
    "Hypothesis 2: Let's see if there is a relationship between baths and tax_value.\n",
    "\n",
    "alpha = .05\n",
    "\n",
    "$H_0$: There is no relationship between baths and tax_value, they are independent. \n",
    "\n",
    "$H_a$: There is a relationship between baths and tax_value, they are dependent on each other.\n",
    "\n"
   ]
  },
  {
   "cell_type": "code",
   "execution_count": 84,
   "id": "f101aeaa",
   "metadata": {},
   "outputs": [
    {
     "data": {
      "image/png": "[encoded data removed]",
      "text/plain": [
       "<Figure size 1152x864 with 3 Axes>"
      ]
     },
     "metadata": {
      "needs_background": "light"
     },
     "output_type": "display_data"
    }
   ],
   "source": [
    "# plot histograms\n",
    "plt.figure(figsize=(16,12))\n",
    "plt.subplot(3,1,1, title='Distribution of squarefootage')\n",
    "plt.hist(data=train2, x='sqft', bins = 30,ec='black')\n",
    "\n",
    "plt.subplot(3,1,2, title='Distribution of number of bathrooms')\n",
    "plt.hist(data=train2, x='baths', ec='black')\n",
    "\n",
    "plt.subplot(3,1,3, title='Distribution of number of bedrooms')\n",
    "plt.hist(data=train2, x='beds',ec='black')\n",
    "\n",
    "plt.show()"
   ]
  },
  {
   "cell_type": "code",
   "execution_count": 85,
   "id": "ab74a49d",
   "metadata": {},
   "outputs": [
    {
     "data": {
      "text/plain": [
       "<seaborn.axisgrid.PairGrid at 0x7fdbac82f310>"
      ]
     },
     "execution_count": 85,
     "metadata": {},
     "output_type": "execute_result"
    },
    {
     "data": {
      "image/png": "[encoded data removed]",
      "text/plain": [
       "<Figure size 900x900 with 30 Axes>"
      ]
     },
     "metadata": {
      "needs_background": "light"
     },
     "output_type": "display_data"
    }
   ],
   "source": [
    "#make a pairpolot\n",
    "sns.pairplot(train2)"
   ]
  },
  {
   "cell_type": "code",
   "execution_count": 86,
   "id": "3ddc3eb3",
   "metadata": {},
   "outputs": [
    {
     "data": {
      "text/html": [
       "<div>\n",
       "<style scoped>\n",
       "    .dataframe tbody tr th:only-of-type {\n",
       "        vertical-align: middle;\n",
       "    }\n",
       "\n",
       "    .dataframe tbody tr th {\n",
       "        vertical-align: top;\n",
       "    }\n",
       "\n",
       "    .dataframe thead th {\n",
       "        text-align: right;\n",
       "    }\n",
       "</style>\n",
       "<table border=\"1\" class=\"dataframe\">\n",
       "  <thead>\n",
       "    <tr style=\"text-align: right;\">\n",
       "      <th></th>\n",
       "      <th>beds</th>\n",
       "      <th>baths</th>\n",
       "      <th>sqft</th>\n",
       "      <th>zipcode</th>\n",
       "    </tr>\n",
       "  </thead>\n",
       "  <tbody>\n",
       "    <tr>\n",
       "      <th>beds</th>\n",
       "      <td>1.000000</td>\n",
       "      <td>0.643529</td>\n",
       "      <td>0.628442</td>\n",
       "      <td>0.031140</td>\n",
       "    </tr>\n",
       "    <tr>\n",
       "      <th>baths</th>\n",
       "      <td>0.643529</td>\n",
       "      <td>1.000000</td>\n",
       "      <td>0.852234</td>\n",
       "      <td>0.038193</td>\n",
       "    </tr>\n",
       "    <tr>\n",
       "      <th>sqft</th>\n",
       "      <td>0.628442</td>\n",
       "      <td>0.852234</td>\n",
       "      <td>1.000000</td>\n",
       "      <td>0.032677</td>\n",
       "    </tr>\n",
       "    <tr>\n",
       "      <th>zipcode</th>\n",
       "      <td>0.031140</td>\n",
       "      <td>0.038193</td>\n",
       "      <td>0.032677</td>\n",
       "      <td>1.000000</td>\n",
       "    </tr>\n",
       "  </tbody>\n",
       "</table>\n",
       "</div>"
      ],
      "text/plain": [
       "             beds     baths      sqft   zipcode\n",
       "beds     1.000000  0.643529  0.628442  0.031140\n",
       "baths    0.643529  1.000000  0.852234  0.038193\n",
       "sqft     0.628442  0.852234  1.000000  0.032677\n",
       "zipcode  0.031140  0.038193  0.032677  1.000000"
      ]
     },
     "execution_count": 86,
     "metadata": {},
     "output_type": "execute_result"
    }
   ],
   "source": [
    "# create a correlation table\n",
    "train2.corr()"
   ]
  },
  {
   "cell_type": "code",
   "execution_count": 88,
   "id": "ae0b23a6",
   "metadata": {},
   "outputs": [
    {
     "data": {
      "image/png": "[encoded data removed]",
      "text/plain": [
       "<Figure size 1008x720 with 2 Axes>"
      ]
     },
     "metadata": {
      "needs_background": "light"
     },
     "output_type": "display_data"
    }
   ],
   "source": [
    "plt.rc('font', size=14)\n",
    "plt.rc('figure', figsize=(14, 10))\n",
    "sns.heatmap(train2.corr(), cmap='mako', center=0, annot=True)\n",
    "plt.show()"
   ]
  },
  {
   "cell_type": "code",
   "execution_count": null,
   "id": "555a84fc",
   "metadata": {},
   "outputs": [],
   "source": [
    "# the heatmap shows me there is strong correlation between baths and sqft"
   ]
  },
  {
   "cell_type": "code",
   "execution_count": 93,
   "id": "84479f42",
   "metadata": {},
   "outputs": [
    {
     "data": {
      "text/plain": [
       "21625    654566\n",
       "13705    644683\n",
       "9147     332567\n",
       "962      660000\n",
       "26797    305756\n",
       "Name: tax_value, dtype: object"
      ]
     },
     "execution_count": 93,
     "metadata": {},
     "output_type": "execute_result"
    }
   ],
   "source": [
    "y_train.head()"
   ]
  },
  {
   "cell_type": "code",
   "execution_count": 95,
   "id": "9192d28e",
   "metadata": {},
   "outputs": [],
   "source": [
    "#sns.catplot(data=train2, x=y_train, y='county', kind='strip')"
   ]
  },
  {
   "cell_type": "code",
   "execution_count": null,
   "id": "c0887462",
   "metadata": {},
   "outputs": [],
   "source": [
    "sns.relplot(data=train2, x='baths', y='sqft', kind='scatter', hue=, col=y_train)"
   ]
  },
  {
   "cell_type": "code",
   "execution_count": 98,
   "id": "ae73b7a1",
   "metadata": {},
   "outputs": [
    {
     "ename": "AttributeError",
     "evalue": "'DataFrame' object has no attribute 'tax_amount'",
     "output_type": "error",
     "traceback": [
      "\u001b[0;31m---------------------------------------------------------------------------\u001b[0m",
      "\u001b[0;31mAttributeError\u001b[0m                            Traceback (most recent call last)",
      "\u001b[0;32m<ipython-input-98-aefc7114c4b9>\u001b[0m in \u001b[0;36m<module>\u001b[0;34m\u001b[0m\n\u001b[1;32m      1\u001b[0m \u001b[0;31m# Next I'll display some pairplots\u001b[0m\u001b[0;34m\u001b[0m\u001b[0;34m\u001b[0m\u001b[0;34m\u001b[0m\u001b[0m\n\u001b[0;32m----> 2\u001b[0;31m \u001b[0msns\u001b[0m\u001b[0;34m.\u001b[0m\u001b[0mpairplot\u001b[0m\u001b[0;34m(\u001b[0m\u001b[0mtrain\u001b[0m\u001b[0;34m,\u001b[0m \u001b[0mhue\u001b[0m\u001b[0;34m=\u001b[0m\u001b[0mtrain\u001b[0m\u001b[0;34m.\u001b[0m\u001b[0mtax_amount\u001b[0m\u001b[0;34m)\u001b[0m\u001b[0;34m\u001b[0m\u001b[0;34m\u001b[0m\u001b[0m\n\u001b[0m\u001b[1;32m      3\u001b[0m \u001b[0mplt\u001b[0m\u001b[0;34m.\u001b[0m\u001b[0mshow\u001b[0m\u001b[0;34m(\u001b[0m\u001b[0;34m)\u001b[0m\u001b[0;34m\u001b[0m\u001b[0;34m\u001b[0m\u001b[0m\n",
      "\u001b[0;32m/usr/local/anaconda3/lib/python3.8/site-packages/pandas/core/generic.py\u001b[0m in \u001b[0;36m__getattr__\u001b[0;34m(self, name)\u001b[0m\n\u001b[1;32m   5463\u001b[0m             \u001b[0;32mif\u001b[0m \u001b[0mself\u001b[0m\u001b[0;34m.\u001b[0m\u001b[0m_info_axis\u001b[0m\u001b[0;34m.\u001b[0m\u001b[0m_can_hold_identifiers_and_holds_name\u001b[0m\u001b[0;34m(\u001b[0m\u001b[0mname\u001b[0m\u001b[0;34m)\u001b[0m\u001b[0;34m:\u001b[0m\u001b[0;34m\u001b[0m\u001b[0;34m\u001b[0m\u001b[0m\n\u001b[1;32m   5464\u001b[0m                 \u001b[0;32mreturn\u001b[0m \u001b[0mself\u001b[0m\u001b[0;34m[\u001b[0m\u001b[0mname\u001b[0m\u001b[0;34m]\u001b[0m\u001b[0;34m\u001b[0m\u001b[0;34m\u001b[0m\u001b[0m\n\u001b[0;32m-> 5465\u001b[0;31m             \u001b[0;32mreturn\u001b[0m \u001b[0mobject\u001b[0m\u001b[0;34m.\u001b[0m\u001b[0m__getattribute__\u001b[0m\u001b[0;34m(\u001b[0m\u001b[0mself\u001b[0m\u001b[0;34m,\u001b[0m \u001b[0mname\u001b[0m\u001b[0;34m)\u001b[0m\u001b[0;34m\u001b[0m\u001b[0;34m\u001b[0m\u001b[0m\n\u001b[0m\u001b[1;32m   5466\u001b[0m \u001b[0;34m\u001b[0m\u001b[0m\n\u001b[1;32m   5467\u001b[0m     \u001b[0;32mdef\u001b[0m \u001b[0m__setattr__\u001b[0m\u001b[0;34m(\u001b[0m\u001b[0mself\u001b[0m\u001b[0;34m,\u001b[0m \u001b[0mname\u001b[0m\u001b[0;34m:\u001b[0m \u001b[0mstr\u001b[0m\u001b[0;34m,\u001b[0m \u001b[0mvalue\u001b[0m\u001b[0;34m)\u001b[0m \u001b[0;34m->\u001b[0m \u001b[0;32mNone\u001b[0m\u001b[0;34m:\u001b[0m\u001b[0;34m\u001b[0m\u001b[0;34m\u001b[0m\u001b[0m\n",
      "\u001b[0;31mAttributeError\u001b[0m: 'DataFrame' object has no attribute 'tax_amount'"
     ]
    }
   ],
   "source": [
    "# Next I'll display some pairplots\n",
    "sns.pairplot(train, hue=train.tax_amount)\n",
    "plt.show()"
   ]
  },
  {
   "cell_type": "code",
   "execution_count": 103,
   "id": "3220aab2",
   "metadata": {},
   "outputs": [],
   "source": [
    "### Univariate\n",
    "\n",
    "def explore_univariate_categorical(train, cat_var):\n",
    "    '''\n",
    "    takes in a dataframe and a categorical variable and returns\n",
    "    a frequency table and barplot of the frequencies. \n",
    "    '''\n",
    "    frequency_table = freq_table(train, cat_var)\n",
    "    plt.figure(figsize=(2,2))\n",
    "    sns.barplot(x=cat_var, y='Count', data=frequency_table, color='lightseagreen')\n",
    "    plt.title(cat_var)\n",
    "    plt.show()\n",
    "    print(frequency_table)\n",
    "\n",
    "def explore_univariate_quant(train, quant_var):\n",
    "    '''\n",
    "    takes in a dataframe and a quantitative variable and returns\n",
    "    descriptive stats table, histogram, and boxplot of the distributions. \n",
    "    '''\n",
    "    descriptive_stats = train[quant_var].describe()\n",
    "    plt.figure(figsize=(8,2))\n",
    "\n",
    "    p = plt.subplot(1, 2, 1)\n",
    "    p = plt.hist(train[quant_var], color='lightseagreen')\n",
    "    p = plt.title(quant_var)\n",
    "\n",
    "    # second plot: box plot\n",
    "    p = plt.subplot(1, 2, 2)\n",
    "    p = plt.boxplot(train[quant_var])\n",
    "    p = plt.title(quant_var)\n",
    "    return p, descriptive_stats\n",
    "    \n",
    "def freq_table(train, cat_var):\n",
    "    '''\n",
    "    for a given categorical variable, compute the frequency count and percent split\n",
    "    and return a dataframe of those values along with the different classes. \n",
    "    '''\n",
    "    class_labels = list(train[cat_var].unique())\n",
    "\n",
    "    frequency_table = (\n",
    "        pd.DataFrame({cat_var: class_labels,\n",
    "                      'Count': train[cat_var].value_counts(normalize=False), \n",
    "                      'Percent': round(train[cat_var].value_counts(normalize=True)*100,2)}\n",
    "                    )\n",
    "    )\n",
    "    return frequency_table"
   ]
  },
  {
   "cell_type": "code",
   "execution_count": 104,
   "id": "53f4c389",
   "metadata": {},
   "outputs": [],
   "source": [
    "def explore_univariate(train, cat_vars, quant_vars):\n",
    "    for var in cat_vars:\n",
    "        explore_univariate_categorical(train, var)\n",
    "        print('_________________________________________________________________')\n",
    "    for col in quant_vars:\n",
    "        p, descriptive_stats = explore_univariate_quant(train, col)\n",
    "        plt.show(p)\n",
    "        print(descriptive_stats)"
   ]
  },
  {
   "cell_type": "code",
   "execution_count": 105,
   "id": "6752dbf1",
   "metadata": {},
   "outputs": [],
   "source": [
    "cat_vars = ['beds','baths', 'sqft']\n",
    "quant_vars = ['zipcode']"
   ]
  },
  {
   "cell_type": "code",
   "execution_count": 106,
   "id": "6d1a97c0",
   "metadata": {},
   "outputs": [
    {
     "data": {
      "image/png": "[encoded data removed]",
      "text/plain": [
       "<Figure size 144x144 with 1 Axes>"
      ]
     },
     "metadata": {
      "needs_background": "light"
     },
     "output_type": "display_data"
    },
    {
     "name": "stdout",
     "output_type": "stream",
     "text": [
      "    beds  Count  Percent\n",
      "3      3   7008    44.67\n",
      "4      4   4608    29.37\n",
      "2      5   2473    15.76\n",
      "5      2   1183     7.54\n",
      "6      1    189     1.20\n",
      "1      6    173     1.10\n",
      "7      7     30     0.19\n",
      "0      8     19     0.12\n",
      "8      0      4     0.03\n",
      "9      9      1     0.01\n",
      "10    10      1     0.01\n",
      "_________________________________________________________________\n"
     ]
    },
    {
     "data": {
      "image/png": "[encoded data removed]",
      "text/plain": [
       "<Figure size 144x144 with 1 Axes>"
      ]
     },
     "metadata": {
      "needs_background": "light"
     },
     "output_type": "display_data"
    },
    {
     "name": "stdout",
     "output_type": "stream",
     "text": [
      "      baths  Count  Percent\n",
      "2.0     2.0   6480    41.30\n",
      "3.0     2.5   3273    20.86\n",
      "1.0     1.0   2817    17.96\n",
      "2.5     3.0   1253     7.99\n",
      "4.0     5.0    630     4.02\n",
      "3.5     4.0    285     1.82\n",
      "5.0     1.5    261     1.66\n",
      "1.5     3.5    244     1.56\n",
      "4.5     4.5    199     1.27\n",
      "6.0     5.5    107     0.68\n",
      "5.5     6.0     58     0.37\n",
      "7.0     8.0     29     0.18\n",
      "8.0     7.0     17     0.11\n",
      "0.0     6.5     14     0.09\n",
      "6.5     7.5     11     0.07\n",
      "7.5     9.0      5     0.03\n",
      "9.0     0.0      3     0.02\n",
      "11.0    8.5      1     0.01\n",
      "8.5    11.0      1     0.01\n",
      "10.0   10.0      1     0.01\n",
      "_________________________________________________________________\n"
     ]
    },
    {
     "data": {
      "image/png": "[encoded data removed]",
      "text/plain": [
       "<Figure size 144x144 with 1 Axes>"
      ]
     },
     "metadata": {
      "needs_background": "light"
     },
     "output_type": "display_data"
    },
    {
     "name": "stdout",
     "output_type": "stream",
     "text": [
      "          sqft  Count  Percent\n",
      "1120.0  1702.0     43     0.27\n",
      "1200.0  2070.0     39     0.25\n",
      "1480.0  1210.0     35     0.22\n",
      "1080.0  1700.0     29     0.18\n",
      "936.0   1412.0     29     0.18\n",
      "...        ...    ...      ...\n",
      "6749.0  7092.0      1     0.01\n",
      "5019.0  4188.0      1     0.01\n",
      "4890.0   532.0      1     0.01\n",
      "5209.0  2821.0      1     0.01\n",
      "4520.0  3445.0      1     0.01\n",
      "\n",
      "[3466 rows x 3 columns]\n",
      "_________________________________________________________________\n"
     ]
    },
    {
     "data": {
      "image/png": "[encoded data removed]",
      "text/plain": [
       "<Figure size 576x144 with 2 Axes>"
      ]
     },
     "metadata": {
      "needs_background": "light"
     },
     "output_type": "display_data"
    },
    {
     "name": "stdout",
     "output_type": "stream",
     "text": [
      "count     15689.000000\n",
      "mean      96647.654216\n",
      "std        4857.557827\n",
      "min       95982.000000\n",
      "25%       96212.000000\n",
      "50%       96414.000000\n",
      "75%       96996.000000\n",
      "max      399675.000000\n",
      "Name: zipcode, dtype: float64\n"
     ]
    }
   ],
   "source": [
    "explore_univariate(train, cat_vars, quant_vars)"
   ]
  },
  {
   "cell_type": "code",
   "execution_count": null,
   "id": "fd6ad250",
   "metadata": {},
   "outputs": [],
   "source": [
    "# bivariate"
   ]
  },
  {
   "cell_type": "code",
   "execution_count": 110,
   "id": "23b5abe2",
   "metadata": {},
   "outputs": [],
   "source": [
    "#### Bivariate\n",
    "target = 'tax_value'\n",
    "def explore_bivariate_categorical(train, target, cat_var):\n",
    "    '''\n",
    "    takes in categorical variable and binary target variable, \n",
    "    returns a crosstab of frequencies\n",
    "    runs a chi-square test for the proportions\n",
    "    and creates a barplot, adding a horizontal line of the overall rate of the target. \n",
    "    '''\n",
    "    print(cat_var, \"\\n_____________________\\n\")\n",
    "    ct = pd.crosstab(train[cat_var], train[target], margins=True)\n",
    "    chi2_summary, observed, expected = run_chi2(train, cat_var, target)\n",
    "    p = plot_cat_by_target(train, target, cat_var)\n",
    "    \n",
    "    print(chi2_summary)\n",
    "    print(\"\\nobserved:\\n\", ct)\n",
    "    print(\"\\nexpected:\\n\", expected)\n",
    "    plt.show(p)\n",
    "    print(\"\\n_____________________\\n\")\n",
    "\n",
    "def explore_bivariate_quant(train, target, quant_var):\n",
    "    '''\n",
    "    descriptive stats by each target class. \n",
    "    compare means across 2 target groups \n",
    "    boxenplot of target x quant\n",
    "    swarmplot of target x quant\n",
    "    '''\n",
    "    print(quant_var, \"\\n____________________\\n\")\n",
    "    descriptive_stats = train.groupby(target)[quant_var].describe()\n",
    "    average = train[quant_var].mean()\n",
    "    mann_whitney = compare_means(train, target, quant_var)\n",
    "    plt.figure(figsize=(4,4))\n",
    "    boxen = plot_boxen(train, target, quant_var)\n",
    "    swarm = plot_swarm(train, target, quant_var)\n",
    "    plt.show()\n",
    "    print(descriptive_stats, \"\\n\")\n",
    "    print(\"\\nMann-Whitney Test:\\n\", mann_whitney)\n",
    "    print(\"\\n____________________\\n\")\n",
    "\n",
    "## Bivariate Categorical\n",
    "\n",
    "def run_chi2(train, cat_var, target):\n",
    "    observed = pd.crosstab(train[cat_var], train[target])\n",
    "    chi2, p, degf, expected = stats.chi2_contingency(observed)\n",
    "    chi2_summary = pd.DataFrame({'chi2': [chi2], 'p-value': [p], \n",
    "                                 'degrees of freedom': [degf]})\n",
    "    expected = pd.DataFrame(expected)\n",
    "    return chi2_summary, observed, expected\n",
    "\n",
    "def plot_cat_by_target(train, target, cat_var):\n",
    "    p = plt.figure(figsize=(2,2))\n",
    "    p = sns.barplot(cat_var, target, data=train, alpha=.8, color='lightseagreen')\n",
    "    overall_rate = train[target].mean()\n",
    "    p = plt.axhline(overall_rate, ls='--', color='gray')\n",
    "    return p\n",
    "    \n",
    "\n",
    "## Bivariate Quant\n",
    "\n",
    "def plot_swarm(train, target, quant_var):\n",
    "    average = train[quant_var].mean()\n",
    "    p = sns.swarmplot(data=train, x=target, y=quant_var, color='lightgray')\n",
    "    p = plt.title(quant_var)\n",
    "    p = plt.axhline(average, ls='--', color='black')\n",
    "    return p\n",
    "\n",
    "def plot_boxen(train, target, quant_var):\n",
    "    average = train[quant_var].mean()\n",
    "    p = sns.boxenplot(data=train, x=target, y=quant_var, color='lightseagreen')\n",
    "    p = plt.title(quant_var)\n",
    "    p = plt.axhline(average, ls='--', color='black')\n",
    "    return p\n",
    "\n",
    "# alt_hyp = ‘two-sided’, ‘less’, ‘greater’\n",
    "\n",
    "def compare_means(train, target, quant_var, alt_hyp='two-sided'):\n",
    "    x = train[train[target]==0][quant_var]\n",
    "    y = train[train[target]==1][quant_var]\n",
    "    return stats.mannwhitneyu(x, y, use_continuity=True, alternative=alt_hyp)\n",
    "\n",
    "def explore_bivariate(train, target, cat_vars, quant_vars):\n",
    "    for cat in cat_vars:\n",
    "        explore_bivariate_categorical(train, target, cat)\n",
    "    for quant in quant_vars:\n",
    "        explore_bivariate_quant(train, target, quant)\n"
   ]
  },
  {
   "cell_type": "code",
   "execution_count": null,
   "id": "c6669a96",
   "metadata": {},
   "outputs": [],
   "source": [
    "explore_bivariate(train, target, cat_vars, quant_vars)"
   ]
  },
  {
   "cell_type": "code",
   "execution_count": null,
   "id": "ac514b52",
   "metadata": {},
   "outputs": [],
   "source": [
    "# the results of the bivariate indicate a very likely correlation between baths and tax_value"
   ]
  },
  {
   "cell_type": "code",
   "execution_count": null,
   "id": "0196f557",
   "metadata": {},
   "outputs": [],
   "source": [
    "## multivariate"
   ]
  },
  {
   "cell_type": "code",
   "execution_count": null,
   "id": "fea5e432",
   "metadata": {},
   "outputs": [],
   "source": [
    "def explore_multivariate(train, target, cat_vars, quant_vars):\n",
    "    '''\n",
    "    '''\n",
    "    plot_swarm_grid_with_color(train, target, cat_vars, quant_vars)\n",
    "    plt.show()\n",
    "    violin = plot_violin_grid_with_color(train, target, cat_vars, quant_vars)\n",
    "    plt.show()\n",
    "    pair = sns.pairplot(data=train, vars=quant_vars, hue=target)\n",
    "    plt.show()\n",
    "    plot_all_continuous_vars(train, target, quant_vars)\n",
    "    plt.show()    \n"
   ]
  },
  {
   "cell_type": "code",
   "execution_count": null,
   "id": "3cfb0104",
   "metadata": {},
   "outputs": [],
   "source": []
  },
  {
   "cell_type": "code",
   "execution_count": null,
   "id": "85e5367c",
   "metadata": {},
   "outputs": [],
   "source": []
  },
  {
   "cell_type": "code",
   "execution_count": null,
   "id": "f827914c",
   "metadata": {},
   "outputs": [],
   "source": [
    "# Next I'll display some pairplots\n",
    "sns.pairplot(train, hue='tax_amount')\n",
    "plt.show()"
   ]
  },
  {
   "cell_type": "code",
   "execution_count": null,
   "id": "aca0fea9",
   "metadata": {},
   "outputs": [],
   "source": []
  },
  {
   "cell_type": "code",
   "execution_count": null,
   "id": "94c7dcc5",
   "metadata": {},
   "outputs": [],
   "source": []
  }
 ],
 "metadata": {
  "kernelspec": {
   "display_name": "Python 3",
   "language": "python",
   "name": "python3"
  },
  "language_info": {
   "codemirror_mode": {
    "name": "ipython",
    "version": 3
   },
   "file_extension": ".py",
   "mimetype": "text/x-python",
   "name": "python",
   "nbconvert_exporter": "python",
   "pygments_lexer": "ipython3",
   "version": "3.8.8"
  }
 },
 "nbformat": 4,
 "nbformat_minor": 5
}
