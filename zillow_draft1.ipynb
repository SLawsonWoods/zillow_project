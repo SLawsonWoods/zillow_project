{
 "cells": [
  {
   "cell_type": "code",
   "execution_count": 1,
   "id": "c8f53b60",
   "metadata": {},
   "outputs": [],
   "source": [
    "import pandas as pd\n",
    "import numpy as np\n",
    "from env import user, password, host\n",
    "#import wrangle\n",
    "import prepare\n",
    "from scipy import stats\n",
    "from sklearn.model_selection import train_test_split\n",
    "from scipy.stats import pearsonr, spearmanr\n",
    "\n",
    "import matplotlib.pyplot as plt\n",
    "import seaborn as sns\n",
    "\n",
    "from sklearn.model_selection import train_test_split\n",
    "from sklearn.impute import SimpleImputer\n",
    "from sklearn.preprocessing import MinMaxScaler\n",
    "\n",
    "# modeling methods\n",
    "from sklearn.metrics import mean_squared_error\n",
    "from sklearn.linear_model import LinearRegression, LassoLars, TweedieRegressor\n",
    "from sklearn.preprocessing import PolynomialFeatures\n",
    "\n",
    "import warnings\n",
    "warnings.filterwarnings(\"ignore\")"
   ]
  },
  {
   "cell_type": "code",
   "execution_count": 2,
   "id": "99bcdb51",
   "metadata": {},
   "outputs": [],
   "source": [
    "#Acquire"
   ]
  },
  {
   "cell_type": "code",
   "execution_count": 3,
   "id": "0fc4b1eb",
   "metadata": {},
   "outputs": [
    {
     "data": {
      "text/html": [
       "<div>\n",
       "<style scoped>\n",
       "    .dataframe tbody tr th:only-of-type {\n",
       "        vertical-align: middle;\n",
       "    }\n",
       "\n",
       "    .dataframe tbody tr th {\n",
       "        vertical-align: top;\n",
       "    }\n",
       "\n",
       "    .dataframe thead th {\n",
       "        text-align: right;\n",
       "    }\n",
       "</style>\n",
       "<table border=\"1\" class=\"dataframe\">\n",
       "  <thead>\n",
       "    <tr style=\"text-align: right;\">\n",
       "      <th></th>\n",
       "      <th>parcelid</th>\n",
       "      <th>bedroomcnt</th>\n",
       "      <th>bathroomcnt</th>\n",
       "      <th>calculatedfinishedsquarefeet</th>\n",
       "      <th>taxvaluedollarcnt</th>\n",
       "      <th>taxamount</th>\n",
       "      <th>assessmentyear</th>\n",
       "      <th>regionidcounty</th>\n",
       "      <th>regionidzip</th>\n",
       "      <th>fips</th>\n",
       "      <th>transactiondate</th>\n",
       "    </tr>\n",
       "  </thead>\n",
       "  <tbody>\n",
       "    <tr>\n",
       "      <th>0</th>\n",
       "      <td>11721753</td>\n",
       "      <td>3.0</td>\n",
       "      <td>2.0</td>\n",
       "      <td>1316.0</td>\n",
       "      <td>205123.0</td>\n",
       "      <td>2627.48</td>\n",
       "      <td>2016.0</td>\n",
       "      <td>3101.0</td>\n",
       "      <td>95997.0</td>\n",
       "      <td>6037.0</td>\n",
       "      <td>2017-07-21</td>\n",
       "    </tr>\n",
       "    <tr>\n",
       "      <th>1</th>\n",
       "      <td>11289917</td>\n",
       "      <td>3.0</td>\n",
       "      <td>2.0</td>\n",
       "      <td>1458.0</td>\n",
       "      <td>136104.0</td>\n",
       "      <td>2319.90</td>\n",
       "      <td>2016.0</td>\n",
       "      <td>3101.0</td>\n",
       "      <td>97318.0</td>\n",
       "      <td>6037.0</td>\n",
       "      <td>2017-06-23</td>\n",
       "    </tr>\n",
       "    <tr>\n",
       "      <th>2</th>\n",
       "      <td>11705026</td>\n",
       "      <td>2.0</td>\n",
       "      <td>1.0</td>\n",
       "      <td>1421.0</td>\n",
       "      <td>35606.0</td>\n",
       "      <td>543.69</td>\n",
       "      <td>2016.0</td>\n",
       "      <td>3101.0</td>\n",
       "      <td>96018.0</td>\n",
       "      <td>6037.0</td>\n",
       "      <td>2017-06-30</td>\n",
       "    </tr>\n",
       "    <tr>\n",
       "      <th>3</th>\n",
       "      <td>14269464</td>\n",
       "      <td>4.0</td>\n",
       "      <td>3.0</td>\n",
       "      <td>2541.0</td>\n",
       "      <td>880456.0</td>\n",
       "      <td>9819.72</td>\n",
       "      <td>2016.0</td>\n",
       "      <td>1286.0</td>\n",
       "      <td>96958.0</td>\n",
       "      <td>6059.0</td>\n",
       "      <td>2017-06-01</td>\n",
       "    </tr>\n",
       "    <tr>\n",
       "      <th>4</th>\n",
       "      <td>11446756</td>\n",
       "      <td>3.0</td>\n",
       "      <td>2.0</td>\n",
       "      <td>1491.0</td>\n",
       "      <td>107110.0</td>\n",
       "      <td>1399.27</td>\n",
       "      <td>2016.0</td>\n",
       "      <td>3101.0</td>\n",
       "      <td>96162.0</td>\n",
       "      <td>6037.0</td>\n",
       "      <td>2017-08-23</td>\n",
       "    </tr>\n",
       "    <tr>\n",
       "      <th>...</th>\n",
       "      <td>...</td>\n",
       "      <td>...</td>\n",
       "      <td>...</td>\n",
       "      <td>...</td>\n",
       "      <td>...</td>\n",
       "      <td>...</td>\n",
       "      <td>...</td>\n",
       "      <td>...</td>\n",
       "      <td>...</td>\n",
       "      <td>...</td>\n",
       "      <td>...</td>\n",
       "    </tr>\n",
       "    <tr>\n",
       "      <th>28119</th>\n",
       "      <td>11991766</td>\n",
       "      <td>6.0</td>\n",
       "      <td>2.0</td>\n",
       "      <td>2634.0</td>\n",
       "      <td>878190.0</td>\n",
       "      <td>12766.88</td>\n",
       "      <td>2016.0</td>\n",
       "      <td>3101.0</td>\n",
       "      <td>95985.0</td>\n",
       "      <td>6037.0</td>\n",
       "      <td>2017-08-31</td>\n",
       "    </tr>\n",
       "    <tr>\n",
       "      <th>28120</th>\n",
       "      <td>14011468</td>\n",
       "      <td>4.0</td>\n",
       "      <td>1.5</td>\n",
       "      <td>1187.0</td>\n",
       "      <td>465999.0</td>\n",
       "      <td>5552.68</td>\n",
       "      <td>2016.0</td>\n",
       "      <td>1286.0</td>\n",
       "      <td>96180.0</td>\n",
       "      <td>6059.0</td>\n",
       "      <td>2017-08-31</td>\n",
       "    </tr>\n",
       "    <tr>\n",
       "      <th>28121</th>\n",
       "      <td>14453399</td>\n",
       "      <td>5.0</td>\n",
       "      <td>3.0</td>\n",
       "      <td>3015.0</td>\n",
       "      <td>852813.0</td>\n",
       "      <td>11662.88</td>\n",
       "      <td>2016.0</td>\n",
       "      <td>1286.0</td>\n",
       "      <td>96983.0</td>\n",
       "      <td>6059.0</td>\n",
       "      <td>2017-08-31</td>\n",
       "    </tr>\n",
       "    <tr>\n",
       "      <th>28122</th>\n",
       "      <td>11128688</td>\n",
       "      <td>5.0</td>\n",
       "      <td>3.0</td>\n",
       "      <td>2992.0</td>\n",
       "      <td>1120000.0</td>\n",
       "      <td>13663.03</td>\n",
       "      <td>2016.0</td>\n",
       "      <td>3101.0</td>\n",
       "      <td>96356.0</td>\n",
       "      <td>6037.0</td>\n",
       "      <td>2017-08-31</td>\n",
       "    </tr>\n",
       "    <tr>\n",
       "      <th>28123</th>\n",
       "      <td>10713993</td>\n",
       "      <td>3.0</td>\n",
       "      <td>3.0</td>\n",
       "      <td>1574.0</td>\n",
       "      <td>563463.0</td>\n",
       "      <td>6903.66</td>\n",
       "      <td>2016.0</td>\n",
       "      <td>3101.0</td>\n",
       "      <td>96346.0</td>\n",
       "      <td>6037.0</td>\n",
       "      <td>2017-08-31</td>\n",
       "    </tr>\n",
       "  </tbody>\n",
       "</table>\n",
       "<p>28124 rows × 11 columns</p>\n",
       "</div>"
      ],
      "text/plain": [
       "       parcelid  bedroomcnt  bathroomcnt  calculatedfinishedsquarefeet  \\\n",
       "0      11721753         3.0          2.0                        1316.0   \n",
       "1      11289917         3.0          2.0                        1458.0   \n",
       "2      11705026         2.0          1.0                        1421.0   \n",
       "3      14269464         4.0          3.0                        2541.0   \n",
       "4      11446756         3.0          2.0                        1491.0   \n",
       "...         ...         ...          ...                           ...   \n",
       "28119  11991766         6.0          2.0                        2634.0   \n",
       "28120  14011468         4.0          1.5                        1187.0   \n",
       "28121  14453399         5.0          3.0                        3015.0   \n",
       "28122  11128688         5.0          3.0                        2992.0   \n",
       "28123  10713993         3.0          3.0                        1574.0   \n",
       "\n",
       "       taxvaluedollarcnt  taxamount  assessmentyear  regionidcounty  \\\n",
       "0               205123.0    2627.48          2016.0          3101.0   \n",
       "1               136104.0    2319.90          2016.0          3101.0   \n",
       "2                35606.0     543.69          2016.0          3101.0   \n",
       "3               880456.0    9819.72          2016.0          1286.0   \n",
       "4               107110.0    1399.27          2016.0          3101.0   \n",
       "...                  ...        ...             ...             ...   \n",
       "28119           878190.0   12766.88          2016.0          3101.0   \n",
       "28120           465999.0    5552.68          2016.0          1286.0   \n",
       "28121           852813.0   11662.88          2016.0          1286.0   \n",
       "28122          1120000.0   13663.03          2016.0          3101.0   \n",
       "28123           563463.0    6903.66          2016.0          3101.0   \n",
       "\n",
       "       regionidzip    fips transactiondate  \n",
       "0          95997.0  6037.0      2017-07-21  \n",
       "1          97318.0  6037.0      2017-06-23  \n",
       "2          96018.0  6037.0      2017-06-30  \n",
       "3          96958.0  6059.0      2017-06-01  \n",
       "4          96162.0  6037.0      2017-08-23  \n",
       "...            ...     ...             ...  \n",
       "28119      95985.0  6037.0      2017-08-31  \n",
       "28120      96180.0  6059.0      2017-08-31  \n",
       "28121      96983.0  6059.0      2017-08-31  \n",
       "28122      96356.0  6037.0      2017-08-31  \n",
       "28123      96346.0  6037.0      2017-08-31  \n",
       "\n",
       "[28124 rows x 11 columns]"
      ]
     },
     "execution_count": 3,
     "metadata": {},
     "output_type": "execute_result"
    }
   ],
   "source": [
    "url = f\"mysql+pymysql://{user}:{password}@{host}/zillow\"\n",
    "# this query brings in all the columns necessary to ask the questions posed by the zillow team  \n",
    "query = \"\"\"\n",
    "            \n",
    "SELECT parcelid, bedroomcnt, bathroomcnt, calculatedfinishedsquarefeet, taxvaluedollarcnt, taxamount, assessmentyear, regionidcounty,regionidzip, fips, transactiondate\n",
    "FROM properties_2017\n",
    "\n",
    "LEFT JOIN propertylandusetype USING(propertylandusetypeid)\n",
    "\n",
    "JOIN predictions_2017 USING(parcelid)\n",
    "\n",
    "WHERE propertylandusedesc IN (\"Single Family Residential\",                       \n",
    "                              \"Inferred Single Family Residential\")\n",
    "                              AND (transactiondate BETWEEN '2017-05-01' AND '2017-08-31');\n",
    "                              \n",
    "                              \"\"\"\n",
    "    \n",
    "df = pd.read_sql(query, url)\n",
    "df"
   ]
  },
  {
   "cell_type": "raw",
   "id": "ede83e65",
   "metadata": {},
   "source": [
    "### PREARE ###"
   ]
  },
  {
   "cell_type": "code",
   "execution_count": 4,
   "id": "1ced638e",
   "metadata": {},
   "outputs": [],
   "source": [
    "# I need to prepare one df for answering the questions posed and a 2nd df name df2 that is for exploring and modeling"
   ]
  },
  {
   "cell_type": "code",
   "execution_count": 5,
   "id": "cd8944b0",
   "metadata": {},
   "outputs": [
    {
     "name": "stdout",
     "output_type": "stream",
     "text": [
      "<class 'pandas.core.frame.DataFrame'>\n",
      "RangeIndex: 28124 entries, 0 to 28123\n",
      "Data columns (total 11 columns):\n",
      " #   Column                        Non-Null Count  Dtype  \n",
      "---  ------                        --------------  -----  \n",
      " 0   parcelid                      28124 non-null  int64  \n",
      " 1   bedroomcnt                    28124 non-null  float64\n",
      " 2   bathroomcnt                   28124 non-null  float64\n",
      " 3   calculatedfinishedsquarefeet  28077 non-null  float64\n",
      " 4   taxvaluedollarcnt             28123 non-null  float64\n",
      " 5   taxamount                     28123 non-null  float64\n",
      " 6   assessmentyear                28124 non-null  float64\n",
      " 7   regionidcounty                28124 non-null  float64\n",
      " 8   regionidzip                   28107 non-null  float64\n",
      " 9   fips                          28124 non-null  float64\n",
      " 10  transactiondate               28124 non-null  object \n",
      "dtypes: float64(9), int64(1), object(1)\n",
      "memory usage: 2.4+ MB\n"
     ]
    }
   ],
   "source": [
    "df.info()\n",
    "# these are all the correct datatype"
   ]
  },
  {
   "cell_type": "markdown",
   "id": "6758b543",
   "metadata": {},
   "source": [
    "Feature                             Description\n",
    "\n",
    "'assessmentyear':\t                The year of the property tax assessment \n",
    "'bathroomcnt':   \t                Number of bathrooms in home including fractional bathrooms\n",
    "'bedroomcnt':   \t                Number of bedrooms in home \n",
    "'calculatedfinishedsquarefeet': \tCalculated total finished living area of the home \n",
    "'parcelid':                     \tUnique identifier for parcels (lots) \n",
    "'regionidcounty':                \tCounty in which the property is located\n",
    "'regionidzip':                  \tZip code in which the property is located\n",
    "'taxamount':                        The total property tax assessed for that assessment year\n",
    "'taxvaluedollarcnt':             \tThe total tax assessed value of the parcel"
   ]
  },
  {
   "cell_type": "markdown",
   "id": "c89cf9d3",
   "metadata": {},
   "source": [
    "- I chose to use the column regionidzip instead of fips because this holds the actual zipcode\n",
    "- I chose to keep parcelid so I could use it as the index \n",
    "- I chose to use calculatedfinishedsquarefeet because all of the other squarefeet features did not include the amount that would be advertised with the house which would only be the finished sqft\n",
    "- I brought in the assessmentyear in order to only capture homes in the year of 2017\n",
    "- Last I brought in transaction date to limit the dataset to only those homes with tranactions in the \"hot months\" May through August"
   ]
  },
  {
   "cell_type": "code",
   "execution_count": 6,
   "id": "bea367a9",
   "metadata": {},
   "outputs": [
    {
     "data": {
      "text/html": [
       "<div>\n",
       "<style scoped>\n",
       "    .dataframe tbody tr th:only-of-type {\n",
       "        vertical-align: middle;\n",
       "    }\n",
       "\n",
       "    .dataframe tbody tr th {\n",
       "        vertical-align: top;\n",
       "    }\n",
       "\n",
       "    .dataframe thead th {\n",
       "        text-align: right;\n",
       "    }\n",
       "</style>\n",
       "<table border=\"1\" class=\"dataframe\">\n",
       "  <thead>\n",
       "    <tr style=\"text-align: right;\">\n",
       "      <th></th>\n",
       "      <th>parcelid</th>\n",
       "      <th>bedroomcnt</th>\n",
       "      <th>bathroomcnt</th>\n",
       "      <th>calculatedfinishedsquarefeet</th>\n",
       "      <th>taxvaluedollarcnt</th>\n",
       "      <th>taxamount</th>\n",
       "      <th>assessmentyear</th>\n",
       "      <th>regionidcounty</th>\n",
       "      <th>regionidzip</th>\n",
       "      <th>fips</th>\n",
       "      <th>transactiondate</th>\n",
       "    </tr>\n",
       "  </thead>\n",
       "  <tbody>\n",
       "    <tr>\n",
       "      <th>0</th>\n",
       "      <td>11721753</td>\n",
       "      <td>3.0</td>\n",
       "      <td>2.0</td>\n",
       "      <td>1316.0</td>\n",
       "      <td>205123.0</td>\n",
       "      <td>2627.48</td>\n",
       "      <td>2016.0</td>\n",
       "      <td>3101.0</td>\n",
       "      <td>95997.0</td>\n",
       "      <td>6037.0</td>\n",
       "      <td>2017-07-21</td>\n",
       "    </tr>\n",
       "    <tr>\n",
       "      <th>1</th>\n",
       "      <td>11289917</td>\n",
       "      <td>3.0</td>\n",
       "      <td>2.0</td>\n",
       "      <td>1458.0</td>\n",
       "      <td>136104.0</td>\n",
       "      <td>2319.90</td>\n",
       "      <td>2016.0</td>\n",
       "      <td>3101.0</td>\n",
       "      <td>97318.0</td>\n",
       "      <td>6037.0</td>\n",
       "      <td>2017-06-23</td>\n",
       "    </tr>\n",
       "    <tr>\n",
       "      <th>2</th>\n",
       "      <td>11705026</td>\n",
       "      <td>2.0</td>\n",
       "      <td>1.0</td>\n",
       "      <td>1421.0</td>\n",
       "      <td>35606.0</td>\n",
       "      <td>543.69</td>\n",
       "      <td>2016.0</td>\n",
       "      <td>3101.0</td>\n",
       "      <td>96018.0</td>\n",
       "      <td>6037.0</td>\n",
       "      <td>2017-06-30</td>\n",
       "    </tr>\n",
       "    <tr>\n",
       "      <th>3</th>\n",
       "      <td>14269464</td>\n",
       "      <td>4.0</td>\n",
       "      <td>3.0</td>\n",
       "      <td>2541.0</td>\n",
       "      <td>880456.0</td>\n",
       "      <td>9819.72</td>\n",
       "      <td>2016.0</td>\n",
       "      <td>1286.0</td>\n",
       "      <td>96958.0</td>\n",
       "      <td>6059.0</td>\n",
       "      <td>2017-06-01</td>\n",
       "    </tr>\n",
       "    <tr>\n",
       "      <th>4</th>\n",
       "      <td>11446756</td>\n",
       "      <td>3.0</td>\n",
       "      <td>2.0</td>\n",
       "      <td>1491.0</td>\n",
       "      <td>107110.0</td>\n",
       "      <td>1399.27</td>\n",
       "      <td>2016.0</td>\n",
       "      <td>3101.0</td>\n",
       "      <td>96162.0</td>\n",
       "      <td>6037.0</td>\n",
       "      <td>2017-08-23</td>\n",
       "    </tr>\n",
       "  </tbody>\n",
       "</table>\n",
       "</div>"
      ],
      "text/plain": [
       "   parcelid  bedroomcnt  bathroomcnt  calculatedfinishedsquarefeet  \\\n",
       "0  11721753         3.0          2.0                        1316.0   \n",
       "1  11289917         3.0          2.0                        1458.0   \n",
       "2  11705026         2.0          1.0                        1421.0   \n",
       "3  14269464         4.0          3.0                        2541.0   \n",
       "4  11446756         3.0          2.0                        1491.0   \n",
       "\n",
       "   taxvaluedollarcnt  taxamount  assessmentyear  regionidcounty  regionidzip  \\\n",
       "0           205123.0    2627.48          2016.0          3101.0      95997.0   \n",
       "1           136104.0    2319.90          2016.0          3101.0      97318.0   \n",
       "2            35606.0     543.69          2016.0          3101.0      96018.0   \n",
       "3           880456.0    9819.72          2016.0          1286.0      96958.0   \n",
       "4           107110.0    1399.27          2016.0          3101.0      96162.0   \n",
       "\n",
       "     fips transactiondate  \n",
       "0  6037.0      2017-07-21  \n",
       "1  6037.0      2017-06-23  \n",
       "2  6037.0      2017-06-30  \n",
       "3  6059.0      2017-06-01  \n",
       "4  6037.0      2017-08-23  "
      ]
     },
     "execution_count": 6,
     "metadata": {},
     "output_type": "execute_result"
    }
   ],
   "source": [
    "# here I check out all the columns I brought in to make sure I have all\n",
    "# of the information necessary to answer questions posed by the team\n",
    "df.head()"
   ]
  },
  {
   "cell_type": "code",
   "execution_count": 7,
   "id": "68e53fd6",
   "metadata": {},
   "outputs": [
    {
     "data": {
      "text/html": [
       "<div>\n",
       "<style scoped>\n",
       "    .dataframe tbody tr th:only-of-type {\n",
       "        vertical-align: middle;\n",
       "    }\n",
       "\n",
       "    .dataframe tbody tr th {\n",
       "        vertical-align: top;\n",
       "    }\n",
       "\n",
       "    .dataframe thead th {\n",
       "        text-align: right;\n",
       "    }\n",
       "</style>\n",
       "<table border=\"1\" class=\"dataframe\">\n",
       "  <thead>\n",
       "    <tr style=\"text-align: right;\">\n",
       "      <th></th>\n",
       "      <th>parcelid</th>\n",
       "      <th>bedroomcnt</th>\n",
       "      <th>bathroomcnt</th>\n",
       "      <th>calculatedfinishedsquarefeet</th>\n",
       "      <th>taxvaluedollarcnt</th>\n",
       "      <th>taxamount</th>\n",
       "      <th>assessmentyear</th>\n",
       "      <th>regionidcounty</th>\n",
       "      <th>regionidzip</th>\n",
       "      <th>fips</th>\n",
       "    </tr>\n",
       "  </thead>\n",
       "  <tbody>\n",
       "    <tr>\n",
       "      <th>count</th>\n",
       "      <td>2.812400e+04</td>\n",
       "      <td>28124.000000</td>\n",
       "      <td>28124.000000</td>\n",
       "      <td>28077.000000</td>\n",
       "      <td>2.812300e+04</td>\n",
       "      <td>28123.000000</td>\n",
       "      <td>28124.0</td>\n",
       "      <td>28124.000000</td>\n",
       "      <td>28107.000000</td>\n",
       "      <td>28124.000000</td>\n",
       "    </tr>\n",
       "    <tr>\n",
       "      <th>mean</th>\n",
       "      <td>1.304239e+07</td>\n",
       "      <td>3.309487</td>\n",
       "      <td>2.316509</td>\n",
       "      <td>1934.930014</td>\n",
       "      <td>5.350049e+05</td>\n",
       "      <td>6508.829263</td>\n",
       "      <td>2016.0</td>\n",
       "      <td>2509.060909</td>\n",
       "      <td>96656.246629</td>\n",
       "      <td>6049.521121</td>\n",
       "    </tr>\n",
       "    <tr>\n",
       "      <th>std</th>\n",
       "      <td>3.747700e+06</td>\n",
       "      <td>0.943073</td>\n",
       "      <td>1.016983</td>\n",
       "      <td>995.684457</td>\n",
       "      <td>7.076811e+05</td>\n",
       "      <td>8221.720405</td>\n",
       "      <td>0.0</td>\n",
       "      <td>808.588534</td>\n",
       "      <td>5130.262567</td>\n",
       "      <td>21.302136</td>\n",
       "    </tr>\n",
       "    <tr>\n",
       "      <th>min</th>\n",
       "      <td>1.071186e+07</td>\n",
       "      <td>0.000000</td>\n",
       "      <td>0.000000</td>\n",
       "      <td>240.000000</td>\n",
       "      <td>1.000000e+03</td>\n",
       "      <td>51.260000</td>\n",
       "      <td>2016.0</td>\n",
       "      <td>1286.000000</td>\n",
       "      <td>95982.000000</td>\n",
       "      <td>6037.000000</td>\n",
       "    </tr>\n",
       "    <tr>\n",
       "      <th>25%</th>\n",
       "      <td>1.151380e+07</td>\n",
       "      <td>3.000000</td>\n",
       "      <td>2.000000</td>\n",
       "      <td>1278.000000</td>\n",
       "      <td>1.986360e+05</td>\n",
       "      <td>2705.330000</td>\n",
       "      <td>2016.0</td>\n",
       "      <td>1286.000000</td>\n",
       "      <td>96208.000000</td>\n",
       "      <td>6037.000000</td>\n",
       "    </tr>\n",
       "    <tr>\n",
       "      <th>50%</th>\n",
       "      <td>1.259670e+07</td>\n",
       "      <td>3.000000</td>\n",
       "      <td>2.000000</td>\n",
       "      <td>1675.000000</td>\n",
       "      <td>3.827980e+05</td>\n",
       "      <td>4735.280000</td>\n",
       "      <td>2016.0</td>\n",
       "      <td>3101.000000</td>\n",
       "      <td>96414.000000</td>\n",
       "      <td>6037.000000</td>\n",
       "    </tr>\n",
       "    <tr>\n",
       "      <th>75%</th>\n",
       "      <td>1.414914e+07</td>\n",
       "      <td>4.000000</td>\n",
       "      <td>3.000000</td>\n",
       "      <td>2326.000000</td>\n",
       "      <td>6.327670e+05</td>\n",
       "      <td>7528.405000</td>\n",
       "      <td>2016.0</td>\n",
       "      <td>3101.000000</td>\n",
       "      <td>96995.000000</td>\n",
       "      <td>6059.000000</td>\n",
       "    </tr>\n",
       "    <tr>\n",
       "      <th>max</th>\n",
       "      <td>1.676878e+08</td>\n",
       "      <td>12.000000</td>\n",
       "      <td>11.000000</td>\n",
       "      <td>17245.000000</td>\n",
       "      <td>2.385837e+07</td>\n",
       "      <td>276797.830000</td>\n",
       "      <td>2016.0</td>\n",
       "      <td>3101.000000</td>\n",
       "      <td>399675.000000</td>\n",
       "      <td>6111.000000</td>\n",
       "    </tr>\n",
       "  </tbody>\n",
       "</table>\n",
       "</div>"
      ],
      "text/plain": [
       "           parcelid    bedroomcnt   bathroomcnt  calculatedfinishedsquarefeet  \\\n",
       "count  2.812400e+04  28124.000000  28124.000000                  28077.000000   \n",
       "mean   1.304239e+07      3.309487      2.316509                   1934.930014   \n",
       "std    3.747700e+06      0.943073      1.016983                    995.684457   \n",
       "min    1.071186e+07      0.000000      0.000000                    240.000000   \n",
       "25%    1.151380e+07      3.000000      2.000000                   1278.000000   \n",
       "50%    1.259670e+07      3.000000      2.000000                   1675.000000   \n",
       "75%    1.414914e+07      4.000000      3.000000                   2326.000000   \n",
       "max    1.676878e+08     12.000000     11.000000                  17245.000000   \n",
       "\n",
       "       taxvaluedollarcnt      taxamount  assessmentyear  regionidcounty  \\\n",
       "count       2.812300e+04   28123.000000         28124.0    28124.000000   \n",
       "mean        5.350049e+05    6508.829263          2016.0     2509.060909   \n",
       "std         7.076811e+05    8221.720405             0.0      808.588534   \n",
       "min         1.000000e+03      51.260000          2016.0     1286.000000   \n",
       "25%         1.986360e+05    2705.330000          2016.0     1286.000000   \n",
       "50%         3.827980e+05    4735.280000          2016.0     3101.000000   \n",
       "75%         6.327670e+05    7528.405000          2016.0     3101.000000   \n",
       "max         2.385837e+07  276797.830000          2016.0     3101.000000   \n",
       "\n",
       "         regionidzip          fips  \n",
       "count   28107.000000  28124.000000  \n",
       "mean    96656.246629   6049.521121  \n",
       "std      5130.262567     21.302136  \n",
       "min     95982.000000   6037.000000  \n",
       "25%     96208.000000   6037.000000  \n",
       "50%     96414.000000   6037.000000  \n",
       "75%     96995.000000   6059.000000  \n",
       "max    399675.000000   6111.000000  "
      ]
     },
     "execution_count": 7,
     "metadata": {},
     "output_type": "execute_result"
    }
   ],
   "source": [
    "# here I want to get an idea of the summarized numbers\n",
    "df.describe()"
   ]
  },
  {
   "cell_type": "code",
   "execution_count": 8,
   "id": "d22e0ba9",
   "metadata": {},
   "outputs": [
    {
     "data": {
      "text/plain": [
       "6037.0    17906\n",
       "6059.0     7769\n",
       "6111.0     2449\n",
       "Name: fips, dtype: int64"
      ]
     },
     "execution_count": 8,
     "metadata": {},
     "output_type": "execute_result"
    }
   ],
   "source": [
    "# these are all California zipcodes so now we know what state they are in\n",
    "df.fips.value_counts()"
   ]
  },
  {
   "cell_type": "code",
   "execution_count": 9,
   "id": "6ae808d0",
   "metadata": {},
   "outputs": [
    {
     "data": {
      "text/plain": [
       "parcelid                         0\n",
       "bedroomcnt                       0\n",
       "bathroomcnt                      0\n",
       "calculatedfinishedsquarefeet    47\n",
       "taxvaluedollarcnt                1\n",
       "taxamount                        1\n",
       "assessmentyear                   0\n",
       "regionidcounty                   0\n",
       "regionidzip                     17\n",
       "fips                             0\n",
       "transactiondate                  0\n",
       "dtype: int64"
      ]
     },
     "execution_count": 9,
     "metadata": {},
     "output_type": "execute_result"
    }
   ],
   "source": [
    "# next I'll look at null values\n",
    "df.isnull().sum()"
   ]
  },
  {
   "cell_type": "code",
   "execution_count": 10,
   "id": "374b00d9",
   "metadata": {},
   "outputs": [
    {
     "data": {
      "text/plain": [
       "(28124, 11)"
      ]
     },
     "execution_count": 10,
     "metadata": {},
     "output_type": "execute_result"
    }
   ],
   "source": [
    "# let's compare those to the overall numbers in the dataset to see how to handle them\n",
    "df.shape"
   ]
  },
  {
   "cell_type": "code",
   "execution_count": 11,
   "id": "946607e9",
   "metadata": {},
   "outputs": [],
   "source": [
    "# the amount of null values is small enough in comparison to the overall set to delete these\n",
    "# records\n",
    "\n",
    "df = df.dropna()"
   ]
  },
  {
   "cell_type": "code",
   "execution_count": 12,
   "id": "5d0f4969",
   "metadata": {},
   "outputs": [
    {
     "data": {
      "text/plain": [
       "parcelid                        0\n",
       "bedroomcnt                      0\n",
       "bathroomcnt                     0\n",
       "calculatedfinishedsquarefeet    0\n",
       "taxvaluedollarcnt               0\n",
       "taxamount                       0\n",
       "assessmentyear                  0\n",
       "regionidcounty                  0\n",
       "regionidzip                     0\n",
       "fips                            0\n",
       "transactiondate                 0\n",
       "dtype: int64"
      ]
     },
     "execution_count": 12,
     "metadata": {},
     "output_type": "execute_result"
    }
   ],
   "source": [
    "# let's check that they are gone\n",
    "df.isnull().sum()"
   ]
  },
  {
   "cell_type": "code",
   "execution_count": 13,
   "id": "c504ba56",
   "metadata": {},
   "outputs": [
    {
     "data": {
      "text/plain": [
       "(28060, 11)"
      ]
     },
     "execution_count": 13,
     "metadata": {},
     "output_type": "execute_result"
    }
   ],
   "source": [
    "df.shape"
   ]
  },
  {
   "cell_type": "code",
   "execution_count": 14,
   "id": "b40f885a",
   "metadata": {},
   "outputs": [],
   "source": [
    "# now lets rename columns\n",
    "df = df.rename(columns={\n",
    "                            'parcelid': 'parcel_id',\n",
    "                            'calculatedfinishedsquarefeet': 'sqft',\n",
    "                            'bathroomcnt': 'baths',\n",
    "                            'bedroomcnt': 'beds',\n",
    "                            'assessmentyear': 'assessment_year',\n",
    "                            'regionidcounty': 'county',\n",
    "                            'regionidzip': 'zipcode',\n",
    "                            'transactiondate': 'tranaction_date',\n",
    "                            'taxvaluedollarcnt':'tax_value'})"
   ]
  },
  {
   "cell_type": "code",
   "execution_count": 15,
   "id": "e6b693a2",
   "metadata": {},
   "outputs": [
    {
     "data": {
      "text/html": [
       "<div>\n",
       "<style scoped>\n",
       "    .dataframe tbody tr th:only-of-type {\n",
       "        vertical-align: middle;\n",
       "    }\n",
       "\n",
       "    .dataframe tbody tr th {\n",
       "        vertical-align: top;\n",
       "    }\n",
       "\n",
       "    .dataframe thead th {\n",
       "        text-align: right;\n",
       "    }\n",
       "</style>\n",
       "<table border=\"1\" class=\"dataframe\">\n",
       "  <thead>\n",
       "    <tr style=\"text-align: right;\">\n",
       "      <th></th>\n",
       "      <th>parcel_id</th>\n",
       "      <th>beds</th>\n",
       "      <th>baths</th>\n",
       "      <th>sqft</th>\n",
       "      <th>tax_value</th>\n",
       "      <th>taxamount</th>\n",
       "      <th>assessment_year</th>\n",
       "      <th>county</th>\n",
       "      <th>zipcode</th>\n",
       "      <th>fips</th>\n",
       "      <th>tranaction_date</th>\n",
       "    </tr>\n",
       "  </thead>\n",
       "  <tbody>\n",
       "    <tr>\n",
       "      <th>0</th>\n",
       "      <td>11721753</td>\n",
       "      <td>3.0</td>\n",
       "      <td>2.0</td>\n",
       "      <td>1316.0</td>\n",
       "      <td>205123.0</td>\n",
       "      <td>2627.48</td>\n",
       "      <td>2016.0</td>\n",
       "      <td>3101.0</td>\n",
       "      <td>95997.0</td>\n",
       "      <td>6037.0</td>\n",
       "      <td>2017-07-21</td>\n",
       "    </tr>\n",
       "    <tr>\n",
       "      <th>1</th>\n",
       "      <td>11289917</td>\n",
       "      <td>3.0</td>\n",
       "      <td>2.0</td>\n",
       "      <td>1458.0</td>\n",
       "      <td>136104.0</td>\n",
       "      <td>2319.90</td>\n",
       "      <td>2016.0</td>\n",
       "      <td>3101.0</td>\n",
       "      <td>97318.0</td>\n",
       "      <td>6037.0</td>\n",
       "      <td>2017-06-23</td>\n",
       "    </tr>\n",
       "    <tr>\n",
       "      <th>2</th>\n",
       "      <td>11705026</td>\n",
       "      <td>2.0</td>\n",
       "      <td>1.0</td>\n",
       "      <td>1421.0</td>\n",
       "      <td>35606.0</td>\n",
       "      <td>543.69</td>\n",
       "      <td>2016.0</td>\n",
       "      <td>3101.0</td>\n",
       "      <td>96018.0</td>\n",
       "      <td>6037.0</td>\n",
       "      <td>2017-06-30</td>\n",
       "    </tr>\n",
       "    <tr>\n",
       "      <th>3</th>\n",
       "      <td>14269464</td>\n",
       "      <td>4.0</td>\n",
       "      <td>3.0</td>\n",
       "      <td>2541.0</td>\n",
       "      <td>880456.0</td>\n",
       "      <td>9819.72</td>\n",
       "      <td>2016.0</td>\n",
       "      <td>1286.0</td>\n",
       "      <td>96958.0</td>\n",
       "      <td>6059.0</td>\n",
       "      <td>2017-06-01</td>\n",
       "    </tr>\n",
       "    <tr>\n",
       "      <th>4</th>\n",
       "      <td>11446756</td>\n",
       "      <td>3.0</td>\n",
       "      <td>2.0</td>\n",
       "      <td>1491.0</td>\n",
       "      <td>107110.0</td>\n",
       "      <td>1399.27</td>\n",
       "      <td>2016.0</td>\n",
       "      <td>3101.0</td>\n",
       "      <td>96162.0</td>\n",
       "      <td>6037.0</td>\n",
       "      <td>2017-08-23</td>\n",
       "    </tr>\n",
       "  </tbody>\n",
       "</table>\n",
       "</div>"
      ],
      "text/plain": [
       "   parcel_id  beds  baths    sqft  tax_value  taxamount  assessment_year  \\\n",
       "0   11721753   3.0    2.0  1316.0   205123.0    2627.48           2016.0   \n",
       "1   11289917   3.0    2.0  1458.0   136104.0    2319.90           2016.0   \n",
       "2   11705026   2.0    1.0  1421.0    35606.0     543.69           2016.0   \n",
       "3   14269464   4.0    3.0  2541.0   880456.0    9819.72           2016.0   \n",
       "4   11446756   3.0    2.0  1491.0   107110.0    1399.27           2016.0   \n",
       "\n",
       "   county  zipcode    fips tranaction_date  \n",
       "0  3101.0  95997.0  6037.0      2017-07-21  \n",
       "1  3101.0  97318.0  6037.0      2017-06-23  \n",
       "2  3101.0  96018.0  6037.0      2017-06-30  \n",
       "3  1286.0  96958.0  6059.0      2017-06-01  \n",
       "4  3101.0  96162.0  6037.0      2017-08-23  "
      ]
     },
     "execution_count": 15,
     "metadata": {},
     "output_type": "execute_result"
    }
   ],
   "source": [
    "df.head()"
   ]
  },
  {
   "cell_type": "code",
   "execution_count": 16,
   "id": "8104e2d0",
   "metadata": {},
   "outputs": [
    {
     "name": "stdout",
     "output_type": "stream",
     "text": [
      "<class 'pandas.core.frame.DataFrame'>\n",
      "Int64Index: 28060 entries, 0 to 28123\n",
      "Data columns (total 11 columns):\n",
      " #   Column           Non-Null Count  Dtype  \n",
      "---  ------           --------------  -----  \n",
      " 0   parcel_id        28060 non-null  int64  \n",
      " 1   beds             28060 non-null  float64\n",
      " 2   baths            28060 non-null  float64\n",
      " 3   sqft             28060 non-null  float64\n",
      " 4   tax_value        28060 non-null  float64\n",
      " 5   taxamount        28060 non-null  float64\n",
      " 6   assessment_year  28060 non-null  float64\n",
      " 7   county           28060 non-null  float64\n",
      " 8   zipcode          28060 non-null  float64\n",
      " 9   fips             28060 non-null  float64\n",
      " 10  tranaction_date  28060 non-null  object \n",
      "dtypes: float64(9), int64(1), object(1)\n",
      "memory usage: 2.6+ MB\n"
     ]
    }
   ],
   "source": [
    "df.info()"
   ]
  },
  {
   "cell_type": "code",
   "execution_count": 17,
   "id": "057e2cd1",
   "metadata": {},
   "outputs": [],
   "source": [
    "# change datatypes to int beds,tax_value \n",
    "df['beds'] = df['beds'].astype(int)"
   ]
  },
  {
   "cell_type": "code",
   "execution_count": 18,
   "id": "f152ba54",
   "metadata": {
    "scrolled": true
   },
   "outputs": [
    {
     "name": "stdout",
     "output_type": "stream",
     "text": [
      "<class 'pandas.core.frame.DataFrame'>\n",
      "Int64Index: 28060 entries, 0 to 28123\n",
      "Data columns (total 11 columns):\n",
      " #   Column           Non-Null Count  Dtype  \n",
      "---  ------           --------------  -----  \n",
      " 0   parcel_id        28060 non-null  int64  \n",
      " 1   beds             28060 non-null  int64  \n",
      " 2   baths            28060 non-null  float64\n",
      " 3   sqft             28060 non-null  float64\n",
      " 4   tax_value        28060 non-null  float64\n",
      " 5   taxamount        28060 non-null  float64\n",
      " 6   assessment_year  28060 non-null  float64\n",
      " 7   county           28060 non-null  float64\n",
      " 8   zipcode          28060 non-null  float64\n",
      " 9   fips             28060 non-null  float64\n",
      " 10  tranaction_date  28060 non-null  object \n",
      "dtypes: float64(8), int64(2), object(1)\n",
      "memory usage: 2.6+ MB\n"
     ]
    }
   ],
   "source": [
    "df.info()"
   ]
  },
  {
   "cell_type": "code",
   "execution_count": 19,
   "id": "b2740790",
   "metadata": {},
   "outputs": [],
   "source": [
    "# calculate the tax rate and make a new column/feature \n",
    "df['tax_rate']= df['taxamount']/df['tax_value']"
   ]
  },
  {
   "cell_type": "code",
   "execution_count": 20,
   "id": "8dac7ea4",
   "metadata": {},
   "outputs": [
    {
     "data": {
      "text/html": [
       "<div>\n",
       "<style scoped>\n",
       "    .dataframe tbody tr th:only-of-type {\n",
       "        vertical-align: middle;\n",
       "    }\n",
       "\n",
       "    .dataframe tbody tr th {\n",
       "        vertical-align: top;\n",
       "    }\n",
       "\n",
       "    .dataframe thead th {\n",
       "        text-align: right;\n",
       "    }\n",
       "</style>\n",
       "<table border=\"1\" class=\"dataframe\">\n",
       "  <thead>\n",
       "    <tr style=\"text-align: right;\">\n",
       "      <th></th>\n",
       "      <th>parcel_id</th>\n",
       "      <th>beds</th>\n",
       "      <th>baths</th>\n",
       "      <th>sqft</th>\n",
       "      <th>tax_value</th>\n",
       "      <th>taxamount</th>\n",
       "      <th>assessment_year</th>\n",
       "      <th>county</th>\n",
       "      <th>zipcode</th>\n",
       "      <th>fips</th>\n",
       "      <th>tranaction_date</th>\n",
       "      <th>tax_rate</th>\n",
       "    </tr>\n",
       "  </thead>\n",
       "  <tbody>\n",
       "    <tr>\n",
       "      <th>0</th>\n",
       "      <td>11721753</td>\n",
       "      <td>3</td>\n",
       "      <td>2.0</td>\n",
       "      <td>1316.0</td>\n",
       "      <td>205123.0</td>\n",
       "      <td>2627.48</td>\n",
       "      <td>2016.0</td>\n",
       "      <td>3101.0</td>\n",
       "      <td>95997.0</td>\n",
       "      <td>6037.0</td>\n",
       "      <td>2017-07-21</td>\n",
       "      <td>0.012809</td>\n",
       "    </tr>\n",
       "    <tr>\n",
       "      <th>1</th>\n",
       "      <td>11289917</td>\n",
       "      <td>3</td>\n",
       "      <td>2.0</td>\n",
       "      <td>1458.0</td>\n",
       "      <td>136104.0</td>\n",
       "      <td>2319.90</td>\n",
       "      <td>2016.0</td>\n",
       "      <td>3101.0</td>\n",
       "      <td>97318.0</td>\n",
       "      <td>6037.0</td>\n",
       "      <td>2017-06-23</td>\n",
       "      <td>0.017045</td>\n",
       "    </tr>\n",
       "    <tr>\n",
       "      <th>2</th>\n",
       "      <td>11705026</td>\n",
       "      <td>2</td>\n",
       "      <td>1.0</td>\n",
       "      <td>1421.0</td>\n",
       "      <td>35606.0</td>\n",
       "      <td>543.69</td>\n",
       "      <td>2016.0</td>\n",
       "      <td>3101.0</td>\n",
       "      <td>96018.0</td>\n",
       "      <td>6037.0</td>\n",
       "      <td>2017-06-30</td>\n",
       "      <td>0.015270</td>\n",
       "    </tr>\n",
       "    <tr>\n",
       "      <th>3</th>\n",
       "      <td>14269464</td>\n",
       "      <td>4</td>\n",
       "      <td>3.0</td>\n",
       "      <td>2541.0</td>\n",
       "      <td>880456.0</td>\n",
       "      <td>9819.72</td>\n",
       "      <td>2016.0</td>\n",
       "      <td>1286.0</td>\n",
       "      <td>96958.0</td>\n",
       "      <td>6059.0</td>\n",
       "      <td>2017-06-01</td>\n",
       "      <td>0.011153</td>\n",
       "    </tr>\n",
       "    <tr>\n",
       "      <th>4</th>\n",
       "      <td>11446756</td>\n",
       "      <td>3</td>\n",
       "      <td>2.0</td>\n",
       "      <td>1491.0</td>\n",
       "      <td>107110.0</td>\n",
       "      <td>1399.27</td>\n",
       "      <td>2016.0</td>\n",
       "      <td>3101.0</td>\n",
       "      <td>96162.0</td>\n",
       "      <td>6037.0</td>\n",
       "      <td>2017-08-23</td>\n",
       "      <td>0.013064</td>\n",
       "    </tr>\n",
       "  </tbody>\n",
       "</table>\n",
       "</div>"
      ],
      "text/plain": [
       "   parcel_id  beds  baths    sqft  tax_value  taxamount  assessment_year  \\\n",
       "0   11721753     3    2.0  1316.0   205123.0    2627.48           2016.0   \n",
       "1   11289917     3    2.0  1458.0   136104.0    2319.90           2016.0   \n",
       "2   11705026     2    1.0  1421.0    35606.0     543.69           2016.0   \n",
       "3   14269464     4    3.0  2541.0   880456.0    9819.72           2016.0   \n",
       "4   11446756     3    2.0  1491.0   107110.0    1399.27           2016.0   \n",
       "\n",
       "   county  zipcode    fips tranaction_date  tax_rate  \n",
       "0  3101.0  95997.0  6037.0      2017-07-21  0.012809  \n",
       "1  3101.0  97318.0  6037.0      2017-06-23  0.017045  \n",
       "2  3101.0  96018.0  6037.0      2017-06-30  0.015270  \n",
       "3  1286.0  96958.0  6059.0      2017-06-01  0.011153  \n",
       "4  3101.0  96162.0  6037.0      2017-08-23  0.013064  "
      ]
     },
     "execution_count": 20,
     "metadata": {},
     "output_type": "execute_result"
    }
   ],
   "source": [
    "df.head()"
   ]
  },
  {
   "cell_type": "code",
   "execution_count": 21,
   "id": "fe37c7ac",
   "metadata": {},
   "outputs": [
    {
     "data": {
      "text/plain": [
       "<AxesSubplot:xlabel='county', ylabel='tax_rate'>"
      ]
     },
     "execution_count": 21,
     "metadata": {},
     "output_type": "execute_result"
    },
    {
     "data": {
      "image/png": "[encoded data removed]",
      "text/plain": [
       "<Figure size 432x288 with 1 Axes>"
      ]
     },
     "metadata": {
      "needs_background": "light"
     },
     "output_type": "display_data"
    }
   ],
   "source": [
    "sns.boxplot(x=df[\"county\"], y=df[\"tax_rate\"],palette= 'Blues')"
   ]
  },
  {
   "cell_type": "code",
   "execution_count": 22,
   "id": "6101ba0e",
   "metadata": {},
   "outputs": [
    {
     "data": {
      "text/plain": [
       "<AxesSubplot:xlabel='tax_rate'>"
      ]
     },
     "execution_count": 22,
     "metadata": {},
     "output_type": "execute_result"
    },
    {
     "data": {
      "image/png": "[encoded data removed]",
      "text/plain": [
       "<Figure size 432x288 with 1 Axes>"
      ]
     },
     "metadata": {
      "needs_background": "light"
     },
     "output_type": "display_data"
    }
   ],
   "source": [
    "# Plot the histogram for tax_rate\n",
    "sns.distplot( a=df[\"tax_rate\"], bins=4, hist=True, kde=False, rug=False)"
   ]
  },
  {
   "cell_type": "code",
   "execution_count": 23,
   "id": "a02a7451",
   "metadata": {},
   "outputs": [
    {
     "data": {
      "text/html": [
       "<div>\n",
       "<style scoped>\n",
       "    .dataframe tbody tr th:only-of-type {\n",
       "        vertical-align: middle;\n",
       "    }\n",
       "\n",
       "    .dataframe tbody tr th {\n",
       "        vertical-align: top;\n",
       "    }\n",
       "\n",
       "    .dataframe thead th {\n",
       "        text-align: right;\n",
       "    }\n",
       "</style>\n",
       "<table border=\"1\" class=\"dataframe\">\n",
       "  <thead>\n",
       "    <tr style=\"text-align: right;\">\n",
       "      <th></th>\n",
       "      <th>parcel_id</th>\n",
       "      <th>beds</th>\n",
       "      <th>baths</th>\n",
       "      <th>sqft</th>\n",
       "      <th>tax_value</th>\n",
       "      <th>taxamount</th>\n",
       "      <th>assessment_year</th>\n",
       "      <th>county</th>\n",
       "      <th>zipcode</th>\n",
       "      <th>fips</th>\n",
       "      <th>tranaction_date</th>\n",
       "      <th>tax_rate</th>\n",
       "    </tr>\n",
       "  </thead>\n",
       "  <tbody>\n",
       "    <tr>\n",
       "      <th>0</th>\n",
       "      <td>11721753</td>\n",
       "      <td>3</td>\n",
       "      <td>2.0</td>\n",
       "      <td>1316.0</td>\n",
       "      <td>205123.0</td>\n",
       "      <td>2627.48</td>\n",
       "      <td>2016.0</td>\n",
       "      <td>3101.0</td>\n",
       "      <td>95997.0</td>\n",
       "      <td>6037.0</td>\n",
       "      <td>2017-07-21</td>\n",
       "      <td>0.012809</td>\n",
       "    </tr>\n",
       "    <tr>\n",
       "      <th>1</th>\n",
       "      <td>11289917</td>\n",
       "      <td>3</td>\n",
       "      <td>2.0</td>\n",
       "      <td>1458.0</td>\n",
       "      <td>136104.0</td>\n",
       "      <td>2319.90</td>\n",
       "      <td>2016.0</td>\n",
       "      <td>3101.0</td>\n",
       "      <td>97318.0</td>\n",
       "      <td>6037.0</td>\n",
       "      <td>2017-06-23</td>\n",
       "      <td>0.017045</td>\n",
       "    </tr>\n",
       "    <tr>\n",
       "      <th>2</th>\n",
       "      <td>11705026</td>\n",
       "      <td>2</td>\n",
       "      <td>1.0</td>\n",
       "      <td>1421.0</td>\n",
       "      <td>35606.0</td>\n",
       "      <td>543.69</td>\n",
       "      <td>2016.0</td>\n",
       "      <td>3101.0</td>\n",
       "      <td>96018.0</td>\n",
       "      <td>6037.0</td>\n",
       "      <td>2017-06-30</td>\n",
       "      <td>0.015270</td>\n",
       "    </tr>\n",
       "    <tr>\n",
       "      <th>3</th>\n",
       "      <td>14269464</td>\n",
       "      <td>4</td>\n",
       "      <td>3.0</td>\n",
       "      <td>2541.0</td>\n",
       "      <td>880456.0</td>\n",
       "      <td>9819.72</td>\n",
       "      <td>2016.0</td>\n",
       "      <td>1286.0</td>\n",
       "      <td>96958.0</td>\n",
       "      <td>6059.0</td>\n",
       "      <td>2017-06-01</td>\n",
       "      <td>0.011153</td>\n",
       "    </tr>\n",
       "    <tr>\n",
       "      <th>4</th>\n",
       "      <td>11446756</td>\n",
       "      <td>3</td>\n",
       "      <td>2.0</td>\n",
       "      <td>1491.0</td>\n",
       "      <td>107110.0</td>\n",
       "      <td>1399.27</td>\n",
       "      <td>2016.0</td>\n",
       "      <td>3101.0</td>\n",
       "      <td>96162.0</td>\n",
       "      <td>6037.0</td>\n",
       "      <td>2017-08-23</td>\n",
       "      <td>0.013064</td>\n",
       "    </tr>\n",
       "  </tbody>\n",
       "</table>\n",
       "</div>"
      ],
      "text/plain": [
       "   parcel_id  beds  baths    sqft  tax_value  taxamount  assessment_year  \\\n",
       "0   11721753     3    2.0  1316.0   205123.0    2627.48           2016.0   \n",
       "1   11289917     3    2.0  1458.0   136104.0    2319.90           2016.0   \n",
       "2   11705026     2    1.0  1421.0    35606.0     543.69           2016.0   \n",
       "3   14269464     4    3.0  2541.0   880456.0    9819.72           2016.0   \n",
       "4   11446756     3    2.0  1491.0   107110.0    1399.27           2016.0   \n",
       "\n",
       "   county  zipcode    fips tranaction_date  tax_rate  \n",
       "0  3101.0  95997.0  6037.0      2017-07-21  0.012809  \n",
       "1  3101.0  97318.0  6037.0      2017-06-23  0.017045  \n",
       "2  3101.0  96018.0  6037.0      2017-06-30  0.015270  \n",
       "3  1286.0  96958.0  6059.0      2017-06-01  0.011153  \n",
       "4  3101.0  96162.0  6037.0      2017-08-23  0.013064  "
      ]
     },
     "execution_count": 23,
     "metadata": {},
     "output_type": "execute_result"
    }
   ],
   "source": [
    "df.head()"
   ]
  },
  {
   "cell_type": "code",
   "execution_count": 24,
   "id": "3eccaa98",
   "metadata": {},
   "outputs": [],
   "source": [
    "# boxplot\n",
    "#sns.boxplot(x=df[\"regionidcounty\"], y=df[\"tax_rate\"], kind='scatter')"
   ]
  },
  {
   "cell_type": "code",
   "execution_count": 25,
   "id": "cb790a66",
   "metadata": {},
   "outputs": [
    {
     "data": {
      "text/plain": [
       "<seaborn.axisgrid.JointGrid at 0x7fe7610a0160>"
      ]
     },
     "execution_count": 25,
     "metadata": {},
     "output_type": "execute_result"
    },
    {
     "data": {
      "image/png": "[encoded data removed]",
      "text/plain": [
       "<Figure size 432x432 with 3 Axes>"
      ]
     },
     "metadata": {
      "needs_background": "light"
     },
     "output_type": "display_data"
    }
   ],
   "source": [
    "# here I would like to answer the stakeholders request for the distribution of tax_rate by county\n",
    "sns.jointplot(x=df[\"county\"], y=df[\"tax_rate\"], kind='scatter')"
   ]
  },
  {
   "cell_type": "markdown",
   "id": "9da1ea18",
   "metadata": {},
   "source": [
    "so we can inform the stakeholders that in county 3101- Los Angeles the tax rate is the highest on average, followed by county 1286- Orange County and then the lowest tax_rate exists in Ventura 2061"
   ]
  },
  {
   "cell_type": "code",
   "execution_count": 26,
   "id": "fde23ff5",
   "metadata": {},
   "outputs": [
    {
     "data": {
      "text/plain": [
       "3101.0    17886\n",
       "1286.0     7740\n",
       "2061.0     2434\n",
       "Name: county, dtype: int64"
      ]
     },
     "execution_count": 26,
     "metadata": {},
     "output_type": "execute_result"
    }
   ],
   "source": [
    "# here is where I found the label for each county above\n",
    "df.county.value_counts()"
   ]
  },
  {
   "cell_type": "code",
   "execution_count": 128,
   "id": "b8d102ff",
   "metadata": {},
   "outputs": [
    {
     "data": {
      "text/plain": [
       "parcel_id           object\n",
       "beds                 int64\n",
       "baths              float64\n",
       "sqft               float64\n",
       "tax_value           object\n",
       "taxamount            int64\n",
       "assessment_year     object\n",
       "county              object\n",
       "zipcode             object\n",
       "fips               float64\n",
       "tranaction_date     object\n",
       "tax_rate           float64\n",
       "dtype: object"
      ]
     },
     "execution_count": 128,
     "metadata": {},
     "output_type": "execute_result"
    }
   ],
   "source": [
    "df.dtypes"
   ]
  },
  {
   "cell_type": "code",
   "execution_count": 27,
   "id": "7fd60c76",
   "metadata": {},
   "outputs": [
    {
     "data": {
      "text/plain": [
       "(28060, 12)"
      ]
     },
     "execution_count": 27,
     "metadata": {},
     "output_type": "execute_result"
    }
   ],
   "source": [
    "df.shape"
   ]
  },
  {
   "cell_type": "code",
   "execution_count": 28,
   "id": "04d4cbca",
   "metadata": {},
   "outputs": [],
   "source": [
    "# time to check for duplicates and remove them\n",
    "# dropping ALL duplicate values\n",
    "df.drop_duplicates(subset =\"parcel_id\",\n",
    "                     keep = False, inplace = True)\n",
    " "
   ]
  },
  {
   "cell_type": "code",
   "execution_count": 29,
   "id": "762239ae",
   "metadata": {},
   "outputs": [
    {
     "data": {
      "text/plain": [
       "(28017, 12)"
      ]
     },
     "execution_count": 29,
     "metadata": {},
     "output_type": "execute_result"
    }
   ],
   "source": [
    "# here we can see with shape that numerous duplicate rows were dropped\n",
    "df.shape"
   ]
  },
  {
   "cell_type": "code",
   "execution_count": 30,
   "id": "780567ab",
   "metadata": {},
   "outputs": [],
   "source": [
    "# let's get rid of the unnecessary decimal point\n",
    "#df['beds','sqft','tax_value','assessment_year','county','zipcode'] = df['beds','sqft','tax_value','assessment_year','county','zipcode'].astype(str).apply(lambda x: x.replace('.0',''))\n",
    "df['beds'] = df['beds'].astype(str).apply(lambda x: x.replace('.0',''))"
   ]
  },
  {
   "cell_type": "code",
   "execution_count": 31,
   "id": "ce41833a",
   "metadata": {},
   "outputs": [],
   "source": [
    "df['sqft'] = df['sqft'].astype(str).apply(lambda x: x.replace('.0',''))"
   ]
  },
  {
   "cell_type": "code",
   "execution_count": 32,
   "id": "4ed1dec8",
   "metadata": {},
   "outputs": [],
   "source": [
    "df['tax_value'] = df['tax_value'].astype(str).apply(lambda x: x.replace('.0',''))"
   ]
  },
  {
   "cell_type": "code",
   "execution_count": 33,
   "id": "38b8f457",
   "metadata": {},
   "outputs": [],
   "source": [
    "df['assessment_year'] = df['assessment_year'].astype(str).apply(lambda x: x.replace('.0',''))"
   ]
  },
  {
   "cell_type": "code",
   "execution_count": 34,
   "id": "a4450715",
   "metadata": {},
   "outputs": [],
   "source": [
    "df['county'] = df['county'].astype(str).apply(lambda x: x.replace('.0',''))"
   ]
  },
  {
   "cell_type": "code",
   "execution_count": 35,
   "id": "5bb08458",
   "metadata": {},
   "outputs": [],
   "source": [
    "df['zipcode'] = df['zipcode'].astype(str).apply(lambda x: x.replace('.0',''))"
   ]
  },
  {
   "cell_type": "code",
   "execution_count": 36,
   "id": "96dd97c5",
   "metadata": {},
   "outputs": [
    {
     "name": "stdout",
     "output_type": "stream",
     "text": [
      "<class 'pandas.core.frame.DataFrame'>\n",
      "Int64Index: 28017 entries, 0 to 28123\n",
      "Data columns (total 12 columns):\n",
      " #   Column           Non-Null Count  Dtype  \n",
      "---  ------           --------------  -----  \n",
      " 0   parcel_id        28017 non-null  int64  \n",
      " 1   beds             28017 non-null  object \n",
      " 2   baths            28017 non-null  float64\n",
      " 3   sqft             28017 non-null  object \n",
      " 4   tax_value        28017 non-null  object \n",
      " 5   taxamount        28017 non-null  float64\n",
      " 6   assessment_year  28017 non-null  object \n",
      " 7   county           28017 non-null  object \n",
      " 8   zipcode          28017 non-null  object \n",
      " 9   fips             28017 non-null  float64\n",
      " 10  tranaction_date  28017 non-null  object \n",
      " 11  tax_rate         28017 non-null  float64\n",
      "dtypes: float64(4), int64(1), object(7)\n",
      "memory usage: 2.8+ MB\n"
     ]
    }
   ],
   "source": [
    "df.info()"
   ]
  },
  {
   "cell_type": "code",
   "execution_count": 37,
   "id": "6b90c7a7",
   "metadata": {},
   "outputs": [
    {
     "data": {
      "text/html": [
       "<div>\n",
       "<style scoped>\n",
       "    .dataframe tbody tr th:only-of-type {\n",
       "        vertical-align: middle;\n",
       "    }\n",
       "\n",
       "    .dataframe tbody tr th {\n",
       "        vertical-align: top;\n",
       "    }\n",
       "\n",
       "    .dataframe thead th {\n",
       "        text-align: right;\n",
       "    }\n",
       "</style>\n",
       "<table border=\"1\" class=\"dataframe\">\n",
       "  <thead>\n",
       "    <tr style=\"text-align: right;\">\n",
       "      <th></th>\n",
       "      <th>parcel_id</th>\n",
       "      <th>beds</th>\n",
       "      <th>baths</th>\n",
       "      <th>sqft</th>\n",
       "      <th>tax_value</th>\n",
       "      <th>taxamount</th>\n",
       "      <th>assessment_year</th>\n",
       "      <th>county</th>\n",
       "      <th>zipcode</th>\n",
       "      <th>fips</th>\n",
       "      <th>tranaction_date</th>\n",
       "      <th>tax_rate</th>\n",
       "    </tr>\n",
       "  </thead>\n",
       "  <tbody>\n",
       "    <tr>\n",
       "      <th>0</th>\n",
       "      <td>11721753</td>\n",
       "      <td>3</td>\n",
       "      <td>2.0</td>\n",
       "      <td>1316</td>\n",
       "      <td>205123</td>\n",
       "      <td>2627.48</td>\n",
       "      <td>2016</td>\n",
       "      <td>3101</td>\n",
       "      <td>95997</td>\n",
       "      <td>6037.0</td>\n",
       "      <td>2017-07-21</td>\n",
       "      <td>0.012809</td>\n",
       "    </tr>\n",
       "    <tr>\n",
       "      <th>1</th>\n",
       "      <td>11289917</td>\n",
       "      <td>3</td>\n",
       "      <td>2.0</td>\n",
       "      <td>1458</td>\n",
       "      <td>136104</td>\n",
       "      <td>2319.90</td>\n",
       "      <td>2016</td>\n",
       "      <td>3101</td>\n",
       "      <td>97318</td>\n",
       "      <td>6037.0</td>\n",
       "      <td>2017-06-23</td>\n",
       "      <td>0.017045</td>\n",
       "    </tr>\n",
       "    <tr>\n",
       "      <th>2</th>\n",
       "      <td>11705026</td>\n",
       "      <td>2</td>\n",
       "      <td>1.0</td>\n",
       "      <td>1421</td>\n",
       "      <td>35606</td>\n",
       "      <td>543.69</td>\n",
       "      <td>2016</td>\n",
       "      <td>3101</td>\n",
       "      <td>96018</td>\n",
       "      <td>6037.0</td>\n",
       "      <td>2017-06-30</td>\n",
       "      <td>0.015270</td>\n",
       "    </tr>\n",
       "    <tr>\n",
       "      <th>3</th>\n",
       "      <td>14269464</td>\n",
       "      <td>4</td>\n",
       "      <td>3.0</td>\n",
       "      <td>2541</td>\n",
       "      <td>880456</td>\n",
       "      <td>9819.72</td>\n",
       "      <td>2016</td>\n",
       "      <td>1286</td>\n",
       "      <td>96958</td>\n",
       "      <td>6059.0</td>\n",
       "      <td>2017-06-01</td>\n",
       "      <td>0.011153</td>\n",
       "    </tr>\n",
       "    <tr>\n",
       "      <th>4</th>\n",
       "      <td>11446756</td>\n",
       "      <td>3</td>\n",
       "      <td>2.0</td>\n",
       "      <td>1491</td>\n",
       "      <td>107110</td>\n",
       "      <td>1399.27</td>\n",
       "      <td>2016</td>\n",
       "      <td>3101</td>\n",
       "      <td>96162</td>\n",
       "      <td>6037.0</td>\n",
       "      <td>2017-08-23</td>\n",
       "      <td>0.013064</td>\n",
       "    </tr>\n",
       "  </tbody>\n",
       "</table>\n",
       "</div>"
      ],
      "text/plain": [
       "   parcel_id beds  baths  sqft tax_value  taxamount assessment_year county  \\\n",
       "0   11721753    3    2.0  1316    205123    2627.48            2016   3101   \n",
       "1   11289917    3    2.0  1458    136104    2319.90            2016   3101   \n",
       "2   11705026    2    1.0  1421     35606     543.69            2016   3101   \n",
       "3   14269464    4    3.0  2541    880456    9819.72            2016   1286   \n",
       "4   11446756    3    2.0  1491    107110    1399.27            2016   3101   \n",
       "\n",
       "  zipcode    fips tranaction_date  tax_rate  \n",
       "0   95997  6037.0      2017-07-21  0.012809  \n",
       "1   97318  6037.0      2017-06-23  0.017045  \n",
       "2   96018  6037.0      2017-06-30  0.015270  \n",
       "3   96958  6059.0      2017-06-01  0.011153  \n",
       "4   96162  6037.0      2017-08-23  0.013064  "
      ]
     },
     "execution_count": 37,
     "metadata": {},
     "output_type": "execute_result"
    }
   ],
   "source": [
    "# check to see all decimals show how I would like\n",
    "df.head()"
   ]
  },
  {
   "cell_type": "code",
   "execution_count": 38,
   "id": "3529cfa8",
   "metadata": {},
   "outputs": [],
   "source": [
    "# now let's tranform the columns back to the correct dtype\n",
    "df.parcel_id = df.parcel_id.astype(object)"
   ]
  },
  {
   "cell_type": "code",
   "execution_count": 39,
   "id": "3a363b71",
   "metadata": {},
   "outputs": [],
   "source": [
    "df.beds = df.beds.astype(int)"
   ]
  },
  {
   "cell_type": "code",
   "execution_count": 40,
   "id": "26a12b9f",
   "metadata": {},
   "outputs": [],
   "source": [
    "df.taxamount = df.taxamount.astype(int)"
   ]
  },
  {
   "cell_type": "code",
   "execution_count": 41,
   "id": "cfba43a9",
   "metadata": {},
   "outputs": [
    {
     "data": {
      "text/plain": [
       "3     12535\n",
       "4      8266\n",
       "2      4333\n",
       "5      2138\n",
       "6       340\n",
       "1       311\n",
       "7        50\n",
       "0        30\n",
       "8         7\n",
       "9         4\n",
       "10        2\n",
       "11        1\n",
       "Name: beds, dtype: int64"
      ]
     },
     "execution_count": 41,
     "metadata": {},
     "output_type": "execute_result"
    }
   ],
   "source": [
    "# here I am going to check for error values in the df\n",
    "df.beds.value_counts()\n",
    "# these seem reasonable for bedroom count so lets move on"
   ]
  },
  {
   "cell_type": "code",
   "execution_count": 42,
   "id": "0740b1d7",
   "metadata": {},
   "outputs": [
    {
     "data": {
      "text/plain": [
       "2.0     11693\n",
       "3.0      5782\n",
       "1.0      4895\n",
       "2.5      2206\n",
       "4.0      1195\n",
       "3.5       538\n",
       "1.5       451\n",
       "5.0       440\n",
       "4.5       384\n",
       "6.0       174\n",
       "5.5       111\n",
       "7.0        51\n",
       "8.0        29\n",
       "6.5        27\n",
       "0.0        23\n",
       "7.5         9\n",
       "9.0         5\n",
       "11.0        2\n",
       "10.0        1\n",
       "8.5         1\n",
       "Name: baths, dtype: int64"
      ]
     },
     "execution_count": 42,
     "metadata": {},
     "output_type": "execute_result"
    }
   ],
   "source": [
    "df.baths.value_counts()\n",
    "# these numbers also seem reasonable for number of bathrooms"
   ]
  },
  {
   "cell_type": "code",
   "execution_count": 43,
   "id": "8cb73f03",
   "metadata": {},
   "outputs": [],
   "source": [
    "# changing the datatype back to a float\n",
    "df.sqft = df.sqft.astype(float, copy=False)"
   ]
  },
  {
   "cell_type": "code",
   "execution_count": 44,
   "id": "284ad47d",
   "metadata": {},
   "outputs": [
    {
     "data": {
      "text/html": [
       "<div>\n",
       "<style scoped>\n",
       "    .dataframe tbody tr th:only-of-type {\n",
       "        vertical-align: middle;\n",
       "    }\n",
       "\n",
       "    .dataframe tbody tr th {\n",
       "        vertical-align: top;\n",
       "    }\n",
       "\n",
       "    .dataframe thead th {\n",
       "        text-align: right;\n",
       "    }\n",
       "</style>\n",
       "<table border=\"1\" class=\"dataframe\">\n",
       "  <thead>\n",
       "    <tr style=\"text-align: right;\">\n",
       "      <th></th>\n",
       "      <th>parcel_id</th>\n",
       "      <th>beds</th>\n",
       "      <th>baths</th>\n",
       "      <th>sqft</th>\n",
       "      <th>tax_value</th>\n",
       "      <th>taxamount</th>\n",
       "      <th>assessment_year</th>\n",
       "      <th>county</th>\n",
       "      <th>zipcode</th>\n",
       "      <th>fips</th>\n",
       "      <th>tranaction_date</th>\n",
       "      <th>tax_rate</th>\n",
       "    </tr>\n",
       "  </thead>\n",
       "  <tbody>\n",
       "    <tr>\n",
       "      <th>18533</th>\n",
       "      <td>11915330</td>\n",
       "      <td>0</td>\n",
       "      <td>1.0</td>\n",
       "      <td>240.0</td>\n",
       "      <td>380000</td>\n",
       "      <td>5222</td>\n",
       "      <td>2016</td>\n",
       "      <td>3101</td>\n",
       "      <td>96515</td>\n",
       "      <td>6037.0</td>\n",
       "      <td>2017-07-19</td>\n",
       "      <td>0.013743</td>\n",
       "    </tr>\n",
       "  </tbody>\n",
       "</table>\n",
       "</div>"
      ],
      "text/plain": [
       "      parcel_id  beds  baths   sqft tax_value  taxamount assessment_year  \\\n",
       "18533  11915330     0    1.0  240.0    380000       5222            2016   \n",
       "\n",
       "      county zipcode    fips tranaction_date  tax_rate  \n",
       "18533   3101   96515  6037.0      2017-07-19  0.013743  "
      ]
     },
     "execution_count": 44,
     "metadata": {},
     "output_type": "execute_result"
    }
   ],
   "source": [
    "# checking for any homes under 300 sqft because this could be an erroneous entry\n",
    "df[df['sqft']< 300]"
   ]
  },
  {
   "cell_type": "code",
   "execution_count": 45,
   "id": "7fa876c2",
   "metadata": {},
   "outputs": [],
   "source": [
    "# this only returned one location and this could be a tiny home so I have decided it is not an error value so I'll \n",
    "# keep it"
   ]
  },
  {
   "cell_type": "code",
   "execution_count": 46,
   "id": "e518a7c8",
   "metadata": {},
   "outputs": [],
   "source": [
    "# time to split up my df into train, validate, test and set my target\n",
    "target = 'tax_value'"
   ]
  },
  {
   "cell_type": "code",
   "execution_count": 47,
   "id": "b7c0868f",
   "metadata": {},
   "outputs": [],
   "source": [
    "train, validate, test, X_train, y_train, X_validate, y_validate, X_test, y_test = prepare.train_validate_test(df, target)"
   ]
  },
  {
   "cell_type": "code",
   "execution_count": 48,
   "id": "a17f81f6",
   "metadata": {},
   "outputs": [],
   "source": [
    "def train_validate_test(df, target):\n",
    "    '''\n",
    "    this function takes in a dataframe and splits it into 3 samples, \n",
    "    a test, which is 20% of the entire dataframe, \n",
    "    a validate, which is 24% of the entire dataframe,\n",
    "    and a train, which is 56% of the entire dataframe. \n",
    "    It then splits each of the 3 samples into a dataframe with independent variables\n",
    "    and a series with the dependent, or target variable. \n",
    "    The function returns train, validate, test sets and also another 3 dataframes and 3 series:\n",
    "    X_train (df) & y_train (series), X_validate & y_validate, X_test & y_test. \n",
    "    '''\n",
    "    # split df into test (20%) and train_validate (80%)\n",
    "    train_validate, test = train_test_split(df, test_size=.2, random_state=123)\n",
    "\n",
    "    # split train_validate off into train (70% of 80% = 56%) and validate (30% of 80% = 24%)\n",
    "    train, validate = train_test_split(train_validate, test_size=.3, random_state=123)\n",
    "\n",
    "        \n",
    "    # split train into X (dataframe, drop target) & y (series, keep target only)\n",
    "    X_train = train.drop(columns=[target])\n",
    "    y_train = train[target]\n",
    "    \n",
    "    # split validate into X (dataframe, drop target) & y (series, keep target only)\n",
    "    X_validate = validate.drop(columns=[target])\n",
    "    y_validate = validate[target]\n",
    "    \n",
    "    # split test into X (dataframe, drop target) & y (series, keep target only)\n",
    "    X_test = test.drop(columns=[target])\n",
    "    y_test = test[target]\n",
    "    \n",
    "    return train, validate, test, X_train, y_train, X_validate, y_validate, X_test, y_test"
   ]
  },
  {
   "cell_type": "code",
   "execution_count": 49,
   "id": "c6129f6d",
   "metadata": {},
   "outputs": [
    {
     "name": "stdout",
     "output_type": "stream",
     "text": [
      "(array([18450]),)\n"
     ]
    }
   ],
   "source": [
    "b = np.where(df.sqft < 300)\n",
    "print(b)"
   ]
  },
  {
   "cell_type": "code",
   "execution_count": 50,
   "id": "fd43a018",
   "metadata": {},
   "outputs": [],
   "source": [
    "# now I am checking to make sure they are all the same shape col wise"
   ]
  },
  {
   "cell_type": "code",
   "execution_count": 51,
   "id": "9cdcc8e6",
   "metadata": {},
   "outputs": [
    {
     "data": {
      "text/plain": [
       "(array([3.860e+02, 4.588e+03, 4.823e+03, 2.674e+03, 1.510e+03, 8.280e+02,\n",
       "        4.130e+02, 1.920e+02, 8.900e+01, 7.300e+01, 3.700e+01, 3.300e+01,\n",
       "        9.000e+00, 7.000e+00, 6.000e+00, 4.000e+00, 5.000e+00, 3.000e+00,\n",
       "        2.000e+00, 1.000e+00, 2.000e+00, 0.000e+00, 0.000e+00, 1.000e+00,\n",
       "        0.000e+00, 1.000e+00, 1.000e+00, 0.000e+00, 0.000e+00, 1.000e+00]),\n",
       " array([  240.        ,   806.83333333,  1373.66666667,  1940.5       ,\n",
       "         2507.33333333,  3074.16666667,  3641.        ,  4207.83333333,\n",
       "         4774.66666667,  5341.5       ,  5908.33333333,  6475.16666667,\n",
       "         7042.        ,  7608.83333333,  8175.66666667,  8742.5       ,\n",
       "         9309.33333333,  9876.16666667, 10443.        , 11009.83333333,\n",
       "        11576.66666667, 12143.5       , 12710.33333333, 13277.16666667,\n",
       "        13844.        , 14410.83333333, 14977.66666667, 15544.5       ,\n",
       "        16111.33333333, 16678.16666667, 17245.        ]),\n",
       " <BarContainer object of 30 artists>)"
      ]
     },
     "execution_count": 51,
     "metadata": {},
     "output_type": "execute_result"
    },
    {
     "data": {
      "image/png": "[encoded data removed]",
      "text/plain": [
       "<Figure size 432x288 with 1 Axes>"
      ]
     },
     "metadata": {
      "needs_background": "light"
     },
     "output_type": "display_data"
    }
   ],
   "source": [
    "plt.hist(data=train, x='sqft', bins = 30,ec='black')"
   ]
  },
  {
   "cell_type": "code",
   "execution_count": 52,
   "id": "91704ab5",
   "metadata": {},
   "outputs": [],
   "source": [
    "# Takeaway from dist plot, the squarefootage is pretty normally distributed"
   ]
  },
  {
   "cell_type": "code",
   "execution_count": 53,
   "id": "fc746600",
   "metadata": {},
   "outputs": [
    {
     "data": {
      "text/plain": [
       "(15689, 12)"
      ]
     },
     "execution_count": 53,
     "metadata": {},
     "output_type": "execute_result"
    }
   ],
   "source": [
    "train.shape"
   ]
  },
  {
   "cell_type": "code",
   "execution_count": 54,
   "id": "9f82cfde",
   "metadata": {},
   "outputs": [
    {
     "data": {
      "text/plain": [
       "(6724, 12)"
      ]
     },
     "execution_count": 54,
     "metadata": {},
     "output_type": "execute_result"
    }
   ],
   "source": [
    "validate.shape"
   ]
  },
  {
   "cell_type": "code",
   "execution_count": 55,
   "id": "f9e063f9",
   "metadata": {},
   "outputs": [
    {
     "data": {
      "text/plain": [
       "(5604, 12)"
      ]
     },
     "execution_count": 55,
     "metadata": {},
     "output_type": "execute_result"
    }
   ],
   "source": [
    "test.shape"
   ]
  },
  {
   "cell_type": "code",
   "execution_count": 56,
   "id": "ba09fe3a",
   "metadata": {},
   "outputs": [
    {
     "data": {
      "text/html": [
       "<div>\n",
       "<style scoped>\n",
       "    .dataframe tbody tr th:only-of-type {\n",
       "        vertical-align: middle;\n",
       "    }\n",
       "\n",
       "    .dataframe tbody tr th {\n",
       "        vertical-align: top;\n",
       "    }\n",
       "\n",
       "    .dataframe thead th {\n",
       "        text-align: right;\n",
       "    }\n",
       "</style>\n",
       "<table border=\"1\" class=\"dataframe\">\n",
       "  <thead>\n",
       "    <tr style=\"text-align: right;\">\n",
       "      <th></th>\n",
       "      <th>parcel_id</th>\n",
       "      <th>beds</th>\n",
       "      <th>baths</th>\n",
       "      <th>sqft</th>\n",
       "      <th>tax_value</th>\n",
       "      <th>taxamount</th>\n",
       "      <th>assessment_year</th>\n",
       "      <th>county</th>\n",
       "      <th>zipcode</th>\n",
       "      <th>fips</th>\n",
       "      <th>tranaction_date</th>\n",
       "      <th>tax_rate</th>\n",
       "    </tr>\n",
       "  </thead>\n",
       "  <tbody>\n",
       "    <tr>\n",
       "      <th>15798</th>\n",
       "      <td>14327283</td>\n",
       "      <td>3</td>\n",
       "      <td>3.5</td>\n",
       "      <td>3792.0</td>\n",
       "      <td>999937</td>\n",
       "      <td>14352</td>\n",
       "      <td>2016</td>\n",
       "      <td>1286</td>\n",
       "      <td>96940</td>\n",
       "      <td>6059.0</td>\n",
       "      <td>2017-07-06</td>\n",
       "      <td>0.014354</td>\n",
       "    </tr>\n",
       "  </tbody>\n",
       "</table>\n",
       "</div>"
      ],
      "text/plain": [
       "      parcel_id  beds  baths    sqft tax_value  taxamount assessment_year  \\\n",
       "15798  14327283     3    3.5  3792.0    999937      14352            2016   \n",
       "\n",
       "      county zipcode    fips tranaction_date  tax_rate  \n",
       "15798   1286   96940  6059.0      2017-07-06  0.014354  "
      ]
     },
     "execution_count": 56,
     "metadata": {},
     "output_type": "execute_result"
    }
   ],
   "source": [
    "train[train['tax_value'] == train['tax_value'].max()]"
   ]
  },
  {
   "cell_type": "code",
   "execution_count": 57,
   "id": "5f03d13a",
   "metadata": {},
   "outputs": [
    {
     "data": {
      "text/plain": [
       "379970.0"
      ]
     },
     "execution_count": 57,
     "metadata": {},
     "output_type": "execute_result"
    }
   ],
   "source": [
    "train.tax_value.median()"
   ]
  },
  {
   "cell_type": "code",
   "execution_count": 58,
   "id": "baf56b7b",
   "metadata": {},
   "outputs": [],
   "source": [
    "# now it's time to prep train2 for explore\n",
    "train2 = train.copy()"
   ]
  },
  {
   "cell_type": "code",
   "execution_count": 59,
   "id": "77c44c81",
   "metadata": {},
   "outputs": [],
   "source": [
    "#remove any column leaking the target so taxamount and tax_rate\n",
    "train2 = train.drop(columns=['taxamount', 'tax_rate','tax_value'])\n"
   ]
  },
  {
   "cell_type": "code",
   "execution_count": 60,
   "id": "d34bedc2",
   "metadata": {},
   "outputs": [
    {
     "data": {
      "text/html": [
       "<div>\n",
       "<style scoped>\n",
       "    .dataframe tbody tr th:only-of-type {\n",
       "        vertical-align: middle;\n",
       "    }\n",
       "\n",
       "    .dataframe tbody tr th {\n",
       "        vertical-align: top;\n",
       "    }\n",
       "\n",
       "    .dataframe thead th {\n",
       "        text-align: right;\n",
       "    }\n",
       "</style>\n",
       "<table border=\"1\" class=\"dataframe\">\n",
       "  <thead>\n",
       "    <tr style=\"text-align: right;\">\n",
       "      <th></th>\n",
       "      <th>parcel_id</th>\n",
       "      <th>beds</th>\n",
       "      <th>baths</th>\n",
       "      <th>sqft</th>\n",
       "      <th>assessment_year</th>\n",
       "      <th>county</th>\n",
       "      <th>zipcode</th>\n",
       "      <th>fips</th>\n",
       "      <th>tranaction_date</th>\n",
       "    </tr>\n",
       "  </thead>\n",
       "  <tbody>\n",
       "    <tr>\n",
       "      <th>21624</th>\n",
       "      <td>13026423</td>\n",
       "      <td>4</td>\n",
       "      <td>4.0</td>\n",
       "      <td>3506.0</td>\n",
       "      <td>2016</td>\n",
       "      <td>3101</td>\n",
       "      <td>96486</td>\n",
       "      <td>6037.0</td>\n",
       "      <td>2017-08-01</td>\n",
       "    </tr>\n",
       "    <tr>\n",
       "      <th>13706</th>\n",
       "      <td>11083166</td>\n",
       "      <td>4</td>\n",
       "      <td>3.0</td>\n",
       "      <td>1914.0</td>\n",
       "      <td>2016</td>\n",
       "      <td>3101</td>\n",
       "      <td>96370</td>\n",
       "      <td>6037.0</td>\n",
       "      <td>2017-06-28</td>\n",
       "    </tr>\n",
       "    <tr>\n",
       "      <th>9146</th>\n",
       "      <td>12423929</td>\n",
       "      <td>3</td>\n",
       "      <td>2.0</td>\n",
       "      <td>1876.0</td>\n",
       "      <td>2016</td>\n",
       "      <td>3101</td>\n",
       "      <td>96204</td>\n",
       "      <td>6037.0</td>\n",
       "      <td>2017-06-09</td>\n",
       "    </tr>\n",
       "    <tr>\n",
       "      <th>963</th>\n",
       "      <td>13924568</td>\n",
       "      <td>3</td>\n",
       "      <td>3.0</td>\n",
       "      <td>1652.0</td>\n",
       "      <td>2016</td>\n",
       "      <td>1286</td>\n",
       "      <td>97026</td>\n",
       "      <td>6059.0</td>\n",
       "      <td>2017-05-04</td>\n",
       "    </tr>\n",
       "    <tr>\n",
       "      <th>26796</th>\n",
       "      <td>11414549</td>\n",
       "      <td>2</td>\n",
       "      <td>1.0</td>\n",
       "      <td>846.0</td>\n",
       "      <td>2016</td>\n",
       "      <td>3101</td>\n",
       "      <td>96135</td>\n",
       "      <td>6037.0</td>\n",
       "      <td>2017-08-28</td>\n",
       "    </tr>\n",
       "  </tbody>\n",
       "</table>\n",
       "</div>"
      ],
      "text/plain": [
       "      parcel_id  beds  baths    sqft assessment_year county zipcode    fips  \\\n",
       "21624  13026423     4    4.0  3506.0            2016   3101   96486  6037.0   \n",
       "13706  11083166     4    3.0  1914.0            2016   3101   96370  6037.0   \n",
       "9146   12423929     3    2.0  1876.0            2016   3101   96204  6037.0   \n",
       "963    13924568     3    3.0  1652.0            2016   1286   97026  6059.0   \n",
       "26796  11414549     2    1.0   846.0            2016   3101   96135  6037.0   \n",
       "\n",
       "      tranaction_date  \n",
       "21624      2017-08-01  \n",
       "13706      2017-06-28  \n",
       "9146       2017-06-09  \n",
       "963        2017-05-04  \n",
       "26796      2017-08-28  "
      ]
     },
     "execution_count": 60,
     "metadata": {},
     "output_type": "execute_result"
    }
   ],
   "source": [
    "train2.head()"
   ]
  },
  {
   "cell_type": "code",
   "execution_count": 61,
   "id": "1d200077",
   "metadata": {},
   "outputs": [
    {
     "data": {
      "text/plain": [
       "<AxesSubplot:xlabel='beds'>"
      ]
     },
     "execution_count": 61,
     "metadata": {},
     "output_type": "execute_result"
    },
    {
     "data": {
      "image/png": "[encoded data removed]",
      "text/plain": [
       "<Figure size 432x288 with 1 Axes>"
      ]
     },
     "metadata": {
      "needs_background": "light"
     },
     "output_type": "display_data"
    }
   ],
   "source": [
    "# Plot the histogram for beds\n",
    "sns.distplot( a=train2[\"beds\"], bins=8, hist=True, kde=False, rug=False )"
   ]
  },
  {
   "cell_type": "code",
   "execution_count": 62,
   "id": "cfc383a1",
   "metadata": {},
   "outputs": [
    {
     "data": {
      "text/plain": [
       "<AxesSubplot:xlabel='sqft'>"
      ]
     },
     "execution_count": 62,
     "metadata": {},
     "output_type": "execute_result"
    },
    {
     "data": {
      "image/png": "[encoded data removed]",
      "text/plain": [
       "<Figure size 432x288 with 1 Axes>"
      ]
     },
     "metadata": {
      "needs_background": "light"
     },
     "output_type": "display_data"
    }
   ],
   "source": [
    "# Plot the histogram thanks to the distplot function\n",
    "sns.distplot( a=train2[\"sqft\"], bins=200, hist=True, kde=False, rug=False )"
   ]
  },
  {
   "cell_type": "code",
   "execution_count": 63,
   "id": "5a09b5c1",
   "metadata": {},
   "outputs": [
    {
     "data": {
      "text/plain": [
       "(array([2.000e+00, 1.020e+02, 1.189e+03, 3.247e+03, 3.220e+03, 2.384e+03,\n",
       "        1.646e+03, 1.210e+03, 8.380e+02, 6.040e+02, 3.910e+02, 2.730e+02,\n",
       "        1.710e+02, 1.030e+02, 7.700e+01, 4.500e+01, 4.300e+01, 3.300e+01,\n",
       "        2.700e+01, 2.700e+01, 1.300e+01, 6.000e+00, 4.000e+00, 2.000e+00,\n",
       "        9.000e+00, 1.000e+00, 4.000e+00, 1.000e+00, 5.000e+00, 1.000e+00]),\n",
       " array([    0.        ,   333.33333333,   666.66666667,  1000.        ,\n",
       "         1333.33333333,  1666.66666667,  2000.        ,  2333.33333333,\n",
       "         2666.66666667,  3000.        ,  3333.33333333,  3666.66666667,\n",
       "         4000.        ,  4333.33333333,  4666.66666667,  5000.        ,\n",
       "         5333.33333333,  5666.66666667,  6000.        ,  6333.33333333,\n",
       "         6666.66666667,  7000.        ,  7333.33333333,  7666.66666667,\n",
       "         8000.        ,  8333.33333333,  8666.66666667,  9000.        ,\n",
       "         9333.33333333,  9666.66666667, 10000.        ]),\n",
       " <BarContainer object of 30 artists>)"
      ]
     },
     "execution_count": 63,
     "metadata": {},
     "output_type": "execute_result"
    },
    {
     "data": {
      "image/png": "[encoded data removed]",
      "text/plain": [
       "<Figure size 432x288 with 1 Axes>"
      ]
     },
     "metadata": {
      "needs_background": "light"
     },
     "output_type": "display_data"
    }
   ],
   "source": [
    "plt.hist(train2.sqft, 30, range=[0, 10000], facecolor='gray', align='mid')"
   ]
  },
  {
   "cell_type": "markdown",
   "id": "5a4a8587",
   "metadata": {},
   "source": [
    "Takeaway from distribution plot, they were all normally distributed."
   ]
  },
  {
   "cell_type": "code",
   "execution_count": 64,
   "id": "46fcb1fa",
   "metadata": {},
   "outputs": [
    {
     "data": {
      "text/plain": [
       "<AxesSubplot:xlabel='county'>"
      ]
     },
     "execution_count": 64,
     "metadata": {},
     "output_type": "execute_result"
    },
    {
     "data": {
      "image/png": "[encoded data removed]",
      "text/plain": [
       "<Figure size 432x288 with 1 Axes>"
      ]
     },
     "metadata": {
      "needs_background": "light"
     },
     "output_type": "display_data"
    }
   ],
   "source": [
    "# Plot the histogram county\n",
    "sns.distplot( a=train2[\"county\"], hist=True, kde=False, rug=False )"
   ]
  },
  {
   "cell_type": "markdown",
   "id": "d6cdf26a",
   "metadata": {},
   "source": [
    "Takeaway from histogram is that all of the homes fall in into 3 counties."
   ]
  },
  {
   "cell_type": "code",
   "execution_count": 65,
   "id": "13fa391e",
   "metadata": {},
   "outputs": [
    {
     "data": {
      "text/plain": [
       "<AxesSubplot:xlabel='zipcode'>"
      ]
     },
     "execution_count": 65,
     "metadata": {},
     "output_type": "execute_result"
    },
    {
     "data": {
      "image/png": "[encoded data removed]",
      "text/plain": [
       "<Figure size 432x288 with 1 Axes>"
      ]
     },
     "metadata": {
      "needs_background": "light"
     },
     "output_type": "display_data"
    }
   ],
   "source": [
    "# Plot the histogram zipcode\n",
    "sns.distplot( a=train2[\"zipcode\"],bins=500,hist=True, kde=False, rug=False )"
   ]
  },
  {
   "cell_type": "code",
   "execution_count": 66,
   "id": "df5e6689",
   "metadata": {},
   "outputs": [
    {
     "data": {
      "image/png": "[encoded data removed]",
      "text/plain": [
       "<Figure size 864x576 with 1 Axes>"
      ]
     },
     "metadata": {
      "needs_background": "light"
     },
     "output_type": "display_data"
    }
   ],
   "source": [
    "# We don't want to plot the 'pacel_id' column.\n",
    "\n",
    "plt.figure(figsize=(12,8))\n",
    "\n",
    "# Create boxplots for all but parcel_id, zipcode, tax_value, taxamount, tax_rate\n",
    "sns.boxplot(data=df.drop(columns=['parcel_id','zipcode','tax_value','taxamount','tax_rate']))\n",
    "plt.show()"
   ]
  },
  {
   "cell_type": "code",
   "execution_count": 67,
   "id": "a2c4312c",
   "metadata": {},
   "outputs": [
    {
     "data": {
      "image/png": "[encoded data removed]",
      "text/plain": [
       "<Figure size 864x576 with 1 Axes>"
      ]
     },
     "metadata": {
      "needs_background": "light"
     },
     "output_type": "display_data"
    }
   ],
   "source": [
    "# create a boxplot for baths and beds so we can see them better\n",
    "plt.figure(figsize=(12,8))\n",
    "\n",
    "# Create boxplots for all but parcel_id.\n",
    "sns.boxplot(data=df.drop(columns=['parcel_id','zipcode','tax_value','taxamount','sqft','tax_rate','fips']))\n",
    "plt.show()"
   ]
  },
  {
   "cell_type": "code",
   "execution_count": 68,
   "id": "1853ca73",
   "metadata": {},
   "outputs": [],
   "source": [
    "# time to scale\n",
    "num_cols = ['beds','baths','sqft']\n",
    "def use_min_max(X_train, X_validate, X_test, num_col):\n",
    "    '''\n",
    "    this function takes in X: train, validate, and test\n",
    "    a list of numeric column names that were specified to use in the first go round of estimation,\n",
    "    and fits a min-max scaler to the first dataframe only and then transforms all\n",
    "    dataframes using this scaler. \n",
    "    it returns 3 dataframes with the same column names and scaled values. \n",
    "    '''\n",
    "    # create the scaler object and fit it to X_train (i.e. identify min and max)\n",
    "    # if copy = false, inplace row normalization happens and avoids a copy (if the input is already a numpy array).\n",
    "\n",
    "\n",
    "    scaler = MinMaxScaler(copy=True).fit(X_train[num_cols])\n",
    "\n",
    "    #scale X_train, X_validate, X_test using the mins and maxes stored in the scaler derived from X_train. \n",
    "    # \n",
    "    X_train_scaled_array = scaler.transform(X_train[num_cols])\n",
    "    X_validate_scaled_array = scaler.transform(X_validate[num_cols])\n",
    "    X_test_scaled_array = scaler.transform(X_test[num_cols])\n",
    "\n",
    "    # convert arrays to dataframes\n",
    "    X_train_scaled = pd.DataFrame(X_train_scaled_array, \n",
    "                                  columns=num_cols).\\\n",
    "                                  set_index([X_train.index.values])\n",
    "\n",
    "    X_validate_scaled = pd.DataFrame(X_validate_scaled_array, \n",
    "                                     columns=num_cols).\\\n",
    "                                     set_index([X_validate.index.values])\n",
    "\n",
    "    X_test_scaled = pd.DataFrame(X_test_scaled_array, \n",
    "                                 columns=num_cols).\\\n",
    "                                 set_index([X_test.index.values])\n",
    "\n",
    "    \n",
    "    return X_train_scaled, X_validate_scaled, X_test_scaled"
   ]
  },
  {
   "cell_type": "code",
   "execution_count": 69,
   "id": "aa8b050e",
   "metadata": {},
   "outputs": [
    {
     "data": {
      "text/plain": [
       "(       beds     baths      sqft\n",
       " 21624   0.4  0.363636  0.192061\n",
       " 13706   0.4  0.272727  0.098442\n",
       " 9146    0.3  0.181818  0.096207\n",
       " 963     0.3  0.272727  0.083034\n",
       " 26796   0.2  0.090909  0.035637\n",
       " ...     ...       ...       ...\n",
       " 2565    0.3  0.181818  0.058689\n",
       " 6669    0.5  0.181818  0.103969\n",
       " 16333   0.4  0.272727  0.109380\n",
       " 12982   0.4  0.272727  0.070626\n",
       " 5949    0.3  0.181818  0.070097\n",
       " \n",
       " [15689 rows x 3 columns],\n",
       "        beds     baths      sqft\n",
       " 20336   0.3  0.272727  0.113790\n",
       " 16156   0.1  0.181818  0.059688\n",
       " 9767    0.3  0.272727  0.164716\n",
       " 8852    0.4  0.272727  0.111144\n",
       " 22535   0.3  0.181818  0.070567\n",
       " ...     ...       ...       ...\n",
       " 24514   0.3  0.090909  0.100911\n",
       " 25652   0.3  0.181818  0.064510\n",
       " 9188    0.3  0.181818  0.075331\n",
       " 17165   0.5  0.272727  0.115907\n",
       " 4254    0.2  0.090909  0.061041\n",
       " \n",
       " [6724 rows x 3 columns],\n",
       "        beds     baths      sqft\n",
       " 12450   0.5  0.454545  0.187063\n",
       " 712     0.3  0.181818  0.068098\n",
       " 2281    0.4  0.363636  0.169832\n",
       " 8922    0.4  0.454545  0.233931\n",
       " 26594   0.3  0.181818  0.059041\n",
       " ...     ...       ...       ...\n",
       " 12996   0.3  0.181818  0.084740\n",
       " 2778    0.3  0.090909  0.090503\n",
       " 20636   0.4  0.318182  0.218642\n",
       " 11867   0.3  0.090909  0.047045\n",
       " 3028    0.3  0.227273  0.130726\n",
       " \n",
       " [5604 rows x 3 columns])"
      ]
     },
     "execution_count": 69,
     "metadata": {},
     "output_type": "execute_result"
    }
   ],
   "source": [
    "use_min_max(X_train, X_validate, X_test, num_cols)"
   ]
  },
  {
   "cell_type": "markdown",
   "id": "a2103dcd",
   "metadata": {},
   "source": [
    "##Takeaways from Prepare\n",
    "df is prepped and ready to answer questions posed\n",
    "X_train, etc. is prepped and ready for explore\n",
    "there were no outliers in the dataset after cleaning and whittling it down\n",
    "\n",
    "examples\n",
    "exam1 has 1 Null value.\n",
    "exam1 should likely be of type int64 once the Null value is addressed.\n",
    "There is likely an odd value in exam3, as it should be of type int64 but was read in as an object. We need to find that value.\n",
    "Given that there are limited attributes and limited observations with missing values, dropping the observations with missing values is probably a good way to go here"
   ]
  },
  {
   "cell_type": "code",
   "execution_count": 70,
   "id": "c18c3581",
   "metadata": {},
   "outputs": [
    {
     "data": {
      "text/plain": [
       "inf"
      ]
     },
     "execution_count": 70,
     "metadata": {},
     "output_type": "execute_result"
    }
   ],
   "source": [
    "train.tax_value.mean()"
   ]
  },
  {
   "cell_type": "code",
   "execution_count": 71,
   "id": "99f3c14d",
   "metadata": {},
   "outputs": [],
   "source": [
    "######## EXPLORE ############"
   ]
  },
  {
   "cell_type": "markdown",
   "id": "62a3a2e0",
   "metadata": {},
   "source": [
    "Hypothesis 1: Let's see if there is a relationship between sqft and tax_value.\n",
    "\n",
    "alpha = .05\n",
    "\n",
    "$H_0$: There is no relationship between sqft and tax_value, they are independent. \n",
    "\n",
    "$H_a$: There is a relationship between sqft and tax_value, they are dependent on each other.\n",
    "\n"
   ]
  },
  {
   "cell_type": "markdown",
   "id": "d1e2bb91",
   "metadata": {},
   "source": [
    "Hypothesis 2: Let's see if there is a relationship between baths and tax_value.\n",
    "\n",
    "alpha = .05\n",
    "\n",
    "$H_0$: There is no relationship between baths and tax_value, they are independent. \n",
    "\n",
    "$H_a$: There is a relationship between baths and tax_value, they are dependent on each other.\n",
    "\n"
   ]
  },
  {
   "cell_type": "code",
   "execution_count": 72,
   "id": "15918cc6",
   "metadata": {},
   "outputs": [
    {
     "data": {
      "image/png": "[encoded data removed]",
      "text/plain": [
       "<Figure size 1152x864 with 3 Axes>"
      ]
     },
     "metadata": {
      "needs_background": "light"
     },
     "output_type": "display_data"
    }
   ],
   "source": [
    "# plot histograms\n",
    "plt.figure(figsize=(16,12))\n",
    "plt.subplot(3,1,1, title='Distribution of squarefootage')\n",
    "plt.hist(data=train2, x='sqft', bins = 30,ec='black')\n",
    "\n",
    "plt.subplot(3,1,2, title='Distribution of number of bathrooms')\n",
    "plt.hist(data=train2, x='baths', ec='black')\n",
    "\n",
    "plt.subplot(3,1,3, title='Distribution of number of bedrooms')\n",
    "plt.hist(data=train2, x='beds',ec='black')\n",
    "\n",
    "plt.show()"
   ]
  },
  {
   "cell_type": "markdown",
   "id": "20b70924",
   "metadata": {},
   "source": [
    "Takeaway from histograms beds, baths and sqft all normally distributed"
   ]
  },
  {
   "cell_type": "code",
   "execution_count": 73,
   "id": "553a7004",
   "metadata": {},
   "outputs": [
    {
     "data": {
      "text/plain": [
       "<seaborn.axisgrid.PairGrid at 0x7fe76a2a2e50>"
      ]
     },
     "execution_count": 73,
     "metadata": {},
     "output_type": "execute_result"
    },
    {
     "data": {
      "image/png": "[encoded data removed]",
      "text/plain": [
       "<Figure size 1260x1260 with 56 Axes>"
      ]
     },
     "metadata": {
      "needs_background": "light"
     },
     "output_type": "display_data"
    }
   ],
   "source": [
    "#make a pairpolot\n",
    "sns.pairplot(train)"
   ]
  },
  {
   "cell_type": "code",
   "execution_count": 74,
   "id": "ad8eb3f1",
   "metadata": {},
   "outputs": [
    {
     "data": {
      "image/png": "[encoded data removed]",
      "text/plain": [
       "<Figure size 540x540 with 9 Axes>"
      ]
     },
     "metadata": {
      "needs_background": "light"
     },
     "output_type": "display_data"
    }
   ],
   "source": [
    "#Let's use sns.pairplot() to view a scatter plot visualizing the relationships between all of the numeric columns in our dataset all at once as well as individual distributions for each individual column.\n",
    "\n",
    "# We can drop the redundant information in the upper right half of the chart if we like.\n",
    "\n",
    "sns.pairplot(train[['beds', 'baths', 'sqft', 'tax_value']], corner=True)\n",
    "plt.show()"
   ]
  },
  {
   "cell_type": "markdown",
   "id": "909af3ae",
   "metadata": {},
   "source": [
    "** Takeaway from pair plot\n"
   ]
  },
  {
   "cell_type": "code",
   "execution_count": 75,
   "id": "48ec85ad",
   "metadata": {},
   "outputs": [
    {
     "data": {
      "image/png": "[encoded data removed]",
      "text/plain": [
       "<Figure size 360x360 with 1 Axes>"
      ]
     },
     "metadata": {
      "needs_background": "light"
     },
     "output_type": "display_data"
    }
   ],
   "source": [
    "# Let's do a simple scatter plot of two continuous variables in our dataset.\n",
    "\n",
    "sns.relplot(x=\"sqft\", y=\"tax_value\", data=train)\n",
    "plt.show()"
   ]
  },
  {
   "cell_type": "code",
   "execution_count": 76,
   "id": "7bcd62f7",
   "metadata": {},
   "outputs": [],
   "source": [
    "train2 = train2.drop(columns='fips')"
   ]
  },
  {
   "cell_type": "code",
   "execution_count": 77,
   "id": "4c408889",
   "metadata": {},
   "outputs": [
    {
     "data": {
      "text/html": [
       "<div>\n",
       "<style scoped>\n",
       "    .dataframe tbody tr th:only-of-type {\n",
       "        vertical-align: middle;\n",
       "    }\n",
       "\n",
       "    .dataframe tbody tr th {\n",
       "        vertical-align: top;\n",
       "    }\n",
       "\n",
       "    .dataframe thead th {\n",
       "        text-align: right;\n",
       "    }\n",
       "</style>\n",
       "<table border=\"1\" class=\"dataframe\">\n",
       "  <thead>\n",
       "    <tr style=\"text-align: right;\">\n",
       "      <th></th>\n",
       "      <th>beds</th>\n",
       "      <th>baths</th>\n",
       "      <th>sqft</th>\n",
       "    </tr>\n",
       "  </thead>\n",
       "  <tbody>\n",
       "    <tr>\n",
       "      <th>beds</th>\n",
       "      <td>1.000000</td>\n",
       "      <td>0.645160</td>\n",
       "      <td>0.628078</td>\n",
       "    </tr>\n",
       "    <tr>\n",
       "      <th>baths</th>\n",
       "      <td>0.645160</td>\n",
       "      <td>1.000000</td>\n",
       "      <td>0.849462</td>\n",
       "    </tr>\n",
       "    <tr>\n",
       "      <th>sqft</th>\n",
       "      <td>0.628078</td>\n",
       "      <td>0.849462</td>\n",
       "      <td>1.000000</td>\n",
       "    </tr>\n",
       "  </tbody>\n",
       "</table>\n",
       "</div>"
      ],
      "text/plain": [
       "           beds     baths      sqft\n",
       "beds   1.000000  0.645160  0.628078\n",
       "baths  0.645160  1.000000  0.849462\n",
       "sqft   0.628078  0.849462  1.000000"
      ]
     },
     "execution_count": 77,
     "metadata": {},
     "output_type": "execute_result"
    }
   ],
   "source": [
    "# create a correlation table\n",
    "train2.corr()"
   ]
  },
  {
   "cell_type": "code",
   "execution_count": 78,
   "id": "79ffb87f",
   "metadata": {},
   "outputs": [
    {
     "data": {
      "image/png": "[encoded data removed]",
      "text/plain": [
       "<Figure size 1008x720 with 2 Axes>"
      ]
     },
     "metadata": {
      "needs_background": "light"
     },
     "output_type": "display_data"
    }
   ],
   "source": [
    "plt.rc('font', size=14)\n",
    "plt.rc('figure', figsize=(14, 10))\n",
    "sns.heatmap(df.corr(), cmap='PiYG')\n",
    "#sns.heatmap(train2.corr(), cmap='mako', center=0, annot=True)\n",
    "plt.show()"
   ]
  },
  {
   "cell_type": "code",
   "execution_count": 79,
   "id": "6f0a2b2a",
   "metadata": {},
   "outputs": [],
   "source": [
    "# the heatmap shows me there is strong correlation between baths and sqft"
   ]
  },
  {
   "cell_type": "code",
   "execution_count": 80,
   "id": "49c0e605",
   "metadata": {},
   "outputs": [],
   "source": [
    "train.tax_value = train.tax_value.astype(float)"
   ]
  },
  {
   "cell_type": "code",
   "execution_count": 81,
   "id": "525c16cc",
   "metadata": {},
   "outputs": [
    {
     "data": {
      "text/plain": [
       "21624    613741\n",
       "13706     98329\n",
       "9146     442649\n",
       "963      244903\n",
       "26796    330000\n",
       "Name: tax_value, dtype: object"
      ]
     },
     "execution_count": 81,
     "metadata": {},
     "output_type": "execute_result"
    }
   ],
   "source": [
    "y_train.head()"
   ]
  },
  {
   "cell_type": "code",
   "execution_count": 82,
   "id": "8060fcc7",
   "metadata": {},
   "outputs": [
    {
     "data": {
      "text/html": [
       "<div>\n",
       "<style scoped>\n",
       "    .dataframe tbody tr th:only-of-type {\n",
       "        vertical-align: middle;\n",
       "    }\n",
       "\n",
       "    .dataframe tbody tr th {\n",
       "        vertical-align: top;\n",
       "    }\n",
       "\n",
       "    .dataframe thead th {\n",
       "        text-align: right;\n",
       "    }\n",
       "</style>\n",
       "<table border=\"1\" class=\"dataframe\">\n",
       "  <thead>\n",
       "    <tr style=\"text-align: right;\">\n",
       "      <th></th>\n",
       "      <th>parcel_id</th>\n",
       "      <th>beds</th>\n",
       "      <th>baths</th>\n",
       "      <th>sqft</th>\n",
       "      <th>tax_value</th>\n",
       "      <th>taxamount</th>\n",
       "      <th>assessment_year</th>\n",
       "      <th>county</th>\n",
       "      <th>zipcode</th>\n",
       "      <th>fips</th>\n",
       "      <th>tranaction_date</th>\n",
       "      <th>tax_rate</th>\n",
       "    </tr>\n",
       "  </thead>\n",
       "  <tbody>\n",
       "    <tr>\n",
       "      <th>21624</th>\n",
       "      <td>13026423</td>\n",
       "      <td>4</td>\n",
       "      <td>4.0</td>\n",
       "      <td>3506.0</td>\n",
       "      <td>613741.0</td>\n",
       "      <td>7188</td>\n",
       "      <td>2016</td>\n",
       "      <td>3101</td>\n",
       "      <td>96486</td>\n",
       "      <td>6037.0</td>\n",
       "      <td>2017-08-01</td>\n",
       "      <td>0.011712</td>\n",
       "    </tr>\n",
       "    <tr>\n",
       "      <th>13706</th>\n",
       "      <td>11083166</td>\n",
       "      <td>4</td>\n",
       "      <td>3.0</td>\n",
       "      <td>1914.0</td>\n",
       "      <td>98329.0</td>\n",
       "      <td>1352</td>\n",
       "      <td>2016</td>\n",
       "      <td>3101</td>\n",
       "      <td>96370</td>\n",
       "      <td>6037.0</td>\n",
       "      <td>2017-06-28</td>\n",
       "      <td>0.013751</td>\n",
       "    </tr>\n",
       "    <tr>\n",
       "      <th>9146</th>\n",
       "      <td>12423929</td>\n",
       "      <td>3</td>\n",
       "      <td>2.0</td>\n",
       "      <td>1876.0</td>\n",
       "      <td>442649.0</td>\n",
       "      <td>5235</td>\n",
       "      <td>2016</td>\n",
       "      <td>3101</td>\n",
       "      <td>96204</td>\n",
       "      <td>6037.0</td>\n",
       "      <td>2017-06-09</td>\n",
       "      <td>0.011827</td>\n",
       "    </tr>\n",
       "    <tr>\n",
       "      <th>963</th>\n",
       "      <td>13924568</td>\n",
       "      <td>3</td>\n",
       "      <td>3.0</td>\n",
       "      <td>1652.0</td>\n",
       "      <td>244903.0</td>\n",
       "      <td>2475</td>\n",
       "      <td>2016</td>\n",
       "      <td>1286</td>\n",
       "      <td>97026</td>\n",
       "      <td>6059.0</td>\n",
       "      <td>2017-05-04</td>\n",
       "      <td>0.010110</td>\n",
       "    </tr>\n",
       "    <tr>\n",
       "      <th>26796</th>\n",
       "      <td>11414549</td>\n",
       "      <td>2</td>\n",
       "      <td>1.0</td>\n",
       "      <td>846.0</td>\n",
       "      <td>330000.0</td>\n",
       "      <td>4574</td>\n",
       "      <td>2016</td>\n",
       "      <td>3101</td>\n",
       "      <td>96135</td>\n",
       "      <td>6037.0</td>\n",
       "      <td>2017-08-28</td>\n",
       "      <td>0.013863</td>\n",
       "    </tr>\n",
       "  </tbody>\n",
       "</table>\n",
       "</div>"
      ],
      "text/plain": [
       "      parcel_id  beds  baths    sqft  tax_value  taxamount assessment_year  \\\n",
       "21624  13026423     4    4.0  3506.0   613741.0       7188            2016   \n",
       "13706  11083166     4    3.0  1914.0    98329.0       1352            2016   \n",
       "9146   12423929     3    2.0  1876.0   442649.0       5235            2016   \n",
       "963    13924568     3    3.0  1652.0   244903.0       2475            2016   \n",
       "26796  11414549     2    1.0   846.0   330000.0       4574            2016   \n",
       "\n",
       "      county zipcode    fips tranaction_date  tax_rate  \n",
       "21624   3101   96486  6037.0      2017-08-01  0.011712  \n",
       "13706   3101   96370  6037.0      2017-06-28  0.013751  \n",
       "9146    3101   96204  6037.0      2017-06-09  0.011827  \n",
       "963     1286   97026  6059.0      2017-05-04  0.010110  \n",
       "26796   3101   96135  6037.0      2017-08-28  0.013863  "
      ]
     },
     "execution_count": 82,
     "metadata": {},
     "output_type": "execute_result"
    }
   ],
   "source": [
    "train.head()"
   ]
  },
  {
   "cell_type": "code",
   "execution_count": 83,
   "id": "82470ae0",
   "metadata": {},
   "outputs": [
    {
     "data": {
      "text/html": [
       "<div>\n",
       "<style scoped>\n",
       "    .dataframe tbody tr th:only-of-type {\n",
       "        vertical-align: middle;\n",
       "    }\n",
       "\n",
       "    .dataframe tbody tr th {\n",
       "        vertical-align: top;\n",
       "    }\n",
       "\n",
       "    .dataframe thead th {\n",
       "        text-align: right;\n",
       "    }\n",
       "</style>\n",
       "<table border=\"1\" class=\"dataframe\">\n",
       "  <thead>\n",
       "    <tr style=\"text-align: right;\">\n",
       "      <th></th>\n",
       "      <th>beds</th>\n",
       "      <th>baths</th>\n",
       "      <th>sqft</th>\n",
       "      <th>tax_value</th>\n",
       "      <th>fips</th>\n",
       "    </tr>\n",
       "  </thead>\n",
       "  <tbody>\n",
       "    <tr>\n",
       "      <th>beds</th>\n",
       "      <td>1.000000</td>\n",
       "      <td>0.645160</td>\n",
       "      <td>0.628078</td>\n",
       "      <td>0.284182</td>\n",
       "      <td>0.128928</td>\n",
       "    </tr>\n",
       "    <tr>\n",
       "      <th>baths</th>\n",
       "      <td>0.645160</td>\n",
       "      <td>1.000000</td>\n",
       "      <td>0.849462</td>\n",
       "      <td>0.530350</td>\n",
       "      <td>0.102519</td>\n",
       "    </tr>\n",
       "    <tr>\n",
       "      <th>sqft</th>\n",
       "      <td>0.628078</td>\n",
       "      <td>0.849462</td>\n",
       "      <td>1.000000</td>\n",
       "      <td>0.615376</td>\n",
       "      <td>0.103555</td>\n",
       "    </tr>\n",
       "    <tr>\n",
       "      <th>tax_value</th>\n",
       "      <td>0.284182</td>\n",
       "      <td>0.530350</td>\n",
       "      <td>0.615376</td>\n",
       "      <td>1.000000</td>\n",
       "      <td>0.019977</td>\n",
       "    </tr>\n",
       "    <tr>\n",
       "      <th>fips</th>\n",
       "      <td>0.128928</td>\n",
       "      <td>0.102519</td>\n",
       "      <td>0.103555</td>\n",
       "      <td>0.019977</td>\n",
       "      <td>1.000000</td>\n",
       "    </tr>\n",
       "  </tbody>\n",
       "</table>\n",
       "</div>"
      ],
      "text/plain": [
       "               beds     baths      sqft  tax_value      fips\n",
       "beds       1.000000  0.645160  0.628078   0.284182  0.128928\n",
       "baths      0.645160  1.000000  0.849462   0.530350  0.102519\n",
       "sqft       0.628078  0.849462  1.000000   0.615376  0.103555\n",
       "tax_value  0.284182  0.530350  0.615376   1.000000  0.019977\n",
       "fips       0.128928  0.102519  0.103555   0.019977  1.000000"
      ]
     },
     "execution_count": 83,
     "metadata": {},
     "output_type": "execute_result"
    }
   ],
   "source": [
    "# Create the correlation matrix for all features.\n",
    "\n",
    "exam_corr = train.drop(columns=['parcel_id','taxamount','assessment_year','county','zipcode','tranaction_date','tax_rate']).corr()\n",
    "exam_corr"
   ]
  },
  {
   "cell_type": "code",
   "execution_count": 84,
   "id": "1a988389",
   "metadata": {},
   "outputs": [
    {
     "data": {
      "text/plain": [
       "beds         float64\n",
       "baths        float64\n",
       "sqft         float64\n",
       "tax_value    float64\n",
       "fips         float64\n",
       "dtype: object"
      ]
     },
     "execution_count": 84,
     "metadata": {},
     "output_type": "execute_result"
    }
   ],
   "source": [
    "exam_corr.dtypes"
   ]
  },
  {
   "cell_type": "code",
   "execution_count": 85,
   "id": "9604bbd4",
   "metadata": {},
   "outputs": [
    {
     "name": "stdout",
     "output_type": "stream",
     "text": [
      "0.5303504745475505 0.0\n"
     ]
    }
   ],
   "source": [
    "# Use a scipy stats function pearsonr to calculate the correlation coefficient and the p-value.\n",
    "\n",
    "r, p_value = pearsonr(train.baths, train.tax_value)\n",
    "print(r, p_value)"
   ]
  },
  {
   "cell_type": "markdown",
   "id": "f95e69b7",
   "metadata": {},
   "source": [
    "Based on my correlation coefficient and my p-value, I reject my Null hypothesis 2 that there is no correlation \n",
    "between baths and tax_value."
   ]
  },
  {
   "cell_type": "code",
   "execution_count": 86,
   "id": "7be15a41",
   "metadata": {},
   "outputs": [
    {
     "name": "stdout",
     "output_type": "stream",
     "text": [
      "0.6153757320244508 0.0\n"
     ]
    }
   ],
   "source": [
    "# Use a scipy stats function pearsonr to calculate the correlation coefficient and the p-value.\n",
    "\n",
    "r, p_value = pearsonr(train.sqft, train.tax_value)\n",
    "print(r, p_value)"
   ]
  },
  {
   "cell_type": "code",
   "execution_count": 87,
   "id": "bc1213a4",
   "metadata": {},
   "outputs": [],
   "source": [
    "# Based on my correlation coefficient and my p-value, I reject my Null hypothesis 1 that there is no correlation \n",
    "# between sqft and tax_value."
   ]
  },
  {
   "cell_type": "code",
   "execution_count": 88,
   "id": "49b6523a",
   "metadata": {},
   "outputs": [],
   "source": [
    "# # Since my variables are not normally distributed, I might choose Spearman instead.\n",
    "\n",
    "# value_spearman = train.drop(columns=['tax_value','taxamount','tax_rate']).corr(method='spearman')\n",
    "# value_spearman"
   ]
  },
  {
   "cell_type": "code",
   "execution_count": 89,
   "id": "2d295583",
   "metadata": {},
   "outputs": [],
   "source": [
    "#sns.relplot(data=train2, x='baths', y='sqft', kind='scatter',col=y_train)"
   ]
  },
  {
   "cell_type": "code",
   "execution_count": 90,
   "id": "a7d7997e",
   "metadata": {},
   "outputs": [],
   "source": [
    "# Next I'll display some pairplots\n",
    "# sns.pairplot(X_train, hue=y_train)\n",
    "# plt.show()"
   ]
  },
  {
   "cell_type": "code",
   "execution_count": 91,
   "id": "dfb2a6e2",
   "metadata": {},
   "outputs": [],
   "source": [
    "### Univariate\n",
    "\n",
    "def explore_univariate_categorical(train, cat_var):\n",
    "    '''\n",
    "    takes in a dataframe and a categorical variable and returns\n",
    "    a frequency table and barplot of the frequencies. \n",
    "    '''\n",
    "    frequency_table = freq_table(train, cat_var)\n",
    "    plt.figure(figsize=(2,2))\n",
    "    sns.barplot(x=cat_var, y='Count', data=frequency_table, color='lightseagreen')\n",
    "    plt.title(cat_var)\n",
    "    plt.show()\n",
    "    print(frequency_table)\n",
    "\n",
    "def explore_univariate_quant(train, quant_var):\n",
    "    '''\n",
    "    takes in a dataframe and a quantitative variable and returns\n",
    "    descriptive stats table, histogram, and boxplot of the distributions. \n",
    "    '''\n",
    "    descriptive_stats = train[quant_var].describe()\n",
    "    plt.figure(figsize=(8,2))\n",
    "\n",
    "    p = plt.subplot(1, 2, 1)\n",
    "    p = plt.hist(train[quant_var], color='lightseagreen')\n",
    "    p = plt.title(quant_var)\n",
    "\n",
    "    # second plot: box plot\n",
    "    p = plt.subplot(1, 2, 2)\n",
    "    p = plt.boxplot(train[quant_var])\n",
    "    p = plt.title(quant_var)\n",
    "    return p, descriptive_stats\n",
    "    \n",
    "def freq_table(train, cat_var):\n",
    "    '''\n",
    "    for a given categorical variable, compute the frequency count and percent split\n",
    "    and return a dataframe of those values along with the different classes. \n",
    "    '''\n",
    "    class_labels = list(train[cat_var].unique())\n",
    "\n",
    "    frequency_table = (\n",
    "        pd.DataFrame({cat_var: class_labels,\n",
    "                      'Count': train[cat_var].value_counts(normalize=False), \n",
    "                      'Percent': round(train[cat_var].value_counts(normalize=True)*100,2)}\n",
    "                    )\n",
    "    )\n",
    "    return frequency_table"
   ]
  },
  {
   "cell_type": "code",
   "execution_count": 92,
   "id": "b7221a0d",
   "metadata": {},
   "outputs": [],
   "source": [
    "def explore_univariate(train, cat_vars, quant_vars):\n",
    "    for var in cat_vars:\n",
    "        explore_univariate_categorical(train, var)\n",
    "        print('_________________________________________________________________')\n",
    "    for col in quant_vars:\n",
    "        p, descriptive_stats = explore_univariate_quant(train, col)\n",
    "        plt.show(p)\n",
    "        print(descriptive_stats)"
   ]
  },
  {
   "cell_type": "code",
   "execution_count": 93,
   "id": "f4b069e2",
   "metadata": {},
   "outputs": [
    {
     "data": {
      "text/html": [
       "<div>\n",
       "<style scoped>\n",
       "    .dataframe tbody tr th:only-of-type {\n",
       "        vertical-align: middle;\n",
       "    }\n",
       "\n",
       "    .dataframe tbody tr th {\n",
       "        vertical-align: top;\n",
       "    }\n",
       "\n",
       "    .dataframe thead th {\n",
       "        text-align: right;\n",
       "    }\n",
       "</style>\n",
       "<table border=\"1\" class=\"dataframe\">\n",
       "  <thead>\n",
       "    <tr style=\"text-align: right;\">\n",
       "      <th></th>\n",
       "      <th>parcel_id</th>\n",
       "      <th>beds</th>\n",
       "      <th>baths</th>\n",
       "      <th>sqft</th>\n",
       "      <th>tax_value</th>\n",
       "      <th>taxamount</th>\n",
       "      <th>assessment_year</th>\n",
       "      <th>county</th>\n",
       "      <th>zipcode</th>\n",
       "      <th>fips</th>\n",
       "      <th>tranaction_date</th>\n",
       "      <th>tax_rate</th>\n",
       "    </tr>\n",
       "  </thead>\n",
       "  <tbody>\n",
       "    <tr>\n",
       "      <th>21624</th>\n",
       "      <td>13026423</td>\n",
       "      <td>4</td>\n",
       "      <td>4.0</td>\n",
       "      <td>3506.0</td>\n",
       "      <td>613741.0</td>\n",
       "      <td>7188</td>\n",
       "      <td>2016</td>\n",
       "      <td>3101</td>\n",
       "      <td>96486</td>\n",
       "      <td>6037.0</td>\n",
       "      <td>2017-08-01</td>\n",
       "      <td>0.011712</td>\n",
       "    </tr>\n",
       "    <tr>\n",
       "      <th>13706</th>\n",
       "      <td>11083166</td>\n",
       "      <td>4</td>\n",
       "      <td>3.0</td>\n",
       "      <td>1914.0</td>\n",
       "      <td>98329.0</td>\n",
       "      <td>1352</td>\n",
       "      <td>2016</td>\n",
       "      <td>3101</td>\n",
       "      <td>96370</td>\n",
       "      <td>6037.0</td>\n",
       "      <td>2017-06-28</td>\n",
       "      <td>0.013751</td>\n",
       "    </tr>\n",
       "    <tr>\n",
       "      <th>9146</th>\n",
       "      <td>12423929</td>\n",
       "      <td>3</td>\n",
       "      <td>2.0</td>\n",
       "      <td>1876.0</td>\n",
       "      <td>442649.0</td>\n",
       "      <td>5235</td>\n",
       "      <td>2016</td>\n",
       "      <td>3101</td>\n",
       "      <td>96204</td>\n",
       "      <td>6037.0</td>\n",
       "      <td>2017-06-09</td>\n",
       "      <td>0.011827</td>\n",
       "    </tr>\n",
       "    <tr>\n",
       "      <th>963</th>\n",
       "      <td>13924568</td>\n",
       "      <td>3</td>\n",
       "      <td>3.0</td>\n",
       "      <td>1652.0</td>\n",
       "      <td>244903.0</td>\n",
       "      <td>2475</td>\n",
       "      <td>2016</td>\n",
       "      <td>1286</td>\n",
       "      <td>97026</td>\n",
       "      <td>6059.0</td>\n",
       "      <td>2017-05-04</td>\n",
       "      <td>0.010110</td>\n",
       "    </tr>\n",
       "    <tr>\n",
       "      <th>26796</th>\n",
       "      <td>11414549</td>\n",
       "      <td>2</td>\n",
       "      <td>1.0</td>\n",
       "      <td>846.0</td>\n",
       "      <td>330000.0</td>\n",
       "      <td>4574</td>\n",
       "      <td>2016</td>\n",
       "      <td>3101</td>\n",
       "      <td>96135</td>\n",
       "      <td>6037.0</td>\n",
       "      <td>2017-08-28</td>\n",
       "      <td>0.013863</td>\n",
       "    </tr>\n",
       "  </tbody>\n",
       "</table>\n",
       "</div>"
      ],
      "text/plain": [
       "      parcel_id  beds  baths    sqft  tax_value  taxamount assessment_year  \\\n",
       "21624  13026423     4    4.0  3506.0   613741.0       7188            2016   \n",
       "13706  11083166     4    3.0  1914.0    98329.0       1352            2016   \n",
       "9146   12423929     3    2.0  1876.0   442649.0       5235            2016   \n",
       "963    13924568     3    3.0  1652.0   244903.0       2475            2016   \n",
       "26796  11414549     2    1.0   846.0   330000.0       4574            2016   \n",
       "\n",
       "      county zipcode    fips tranaction_date  tax_rate  \n",
       "21624   3101   96486  6037.0      2017-08-01  0.011712  \n",
       "13706   3101   96370  6037.0      2017-06-28  0.013751  \n",
       "9146    3101   96204  6037.0      2017-06-09  0.011827  \n",
       "963     1286   97026  6059.0      2017-05-04  0.010110  \n",
       "26796   3101   96135  6037.0      2017-08-28  0.013863  "
      ]
     },
     "execution_count": 93,
     "metadata": {},
     "output_type": "execute_result"
    }
   ],
   "source": [
    "train.head()"
   ]
  },
  {
   "cell_type": "code",
   "execution_count": 94,
   "id": "97c3dd7d",
   "metadata": {},
   "outputs": [],
   "source": [
    "cat_vars = ['zipcode','county']\n",
    "quant_vars = ['beds','baths','sqft']"
   ]
  },
  {
   "cell_type": "code",
   "execution_count": 95,
   "id": "64da5d19",
   "metadata": {},
   "outputs": [
    {
     "data": {
      "image/png": "[encoded data removed]",
      "text/plain": [
       "<Figure size 144x144 with 1 Axes>"
      ]
     },
     "metadata": {
      "needs_background": "light"
     },
     "output_type": "display_data"
    },
    {
     "name": "stdout",
     "output_type": "stream",
     "text": [
      "      zipcode  Count  Percent\n",
      "97319   96486    227     1.45\n",
      "97318   96370    185     1.18\n",
      "97329   96204    160     1.02\n",
      "97118   97026    157     1.00\n",
      "97328   96135    153     0.98\n",
      "...       ...    ...      ...\n",
      "96467   96136      1     0.01\n",
      "97108   96207      1     0.01\n",
      "96226   96151      1     0.01\n",
      "96002   96002      1     0.01\n",
      "96001   97109      1     0.01\n",
      "\n",
      "[373 rows x 3 columns]\n",
      "_________________________________________________________________\n"
     ]
    },
    {
     "data": {
      "image/png": "[encoded data removed]",
      "text/plain": [
       "<Figure size 144x144 with 1 Axes>"
      ]
     },
     "metadata": {
      "needs_background": "light"
     },
     "output_type": "display_data"
    },
    {
     "name": "stdout",
     "output_type": "stream",
     "text": [
      "     county  Count  Percent\n",
      "3101   3101  10099    64.37\n",
      "1286   1286   4245    27.06\n",
      "2061   2061   1345     8.57\n",
      "_________________________________________________________________\n"
     ]
    },
    {
     "data": {
      "image/png": "[encoded data removed]",
      "text/plain": [
       "<Figure size 576x144 with 2 Axes>"
      ]
     },
     "metadata": {
      "needs_background": "light"
     },
     "output_type": "display_data"
    },
    {
     "name": "stdout",
     "output_type": "stream",
     "text": [
      "count    15689.000000\n",
      "mean         3.316400\n",
      "std          0.935019\n",
      "min          0.000000\n",
      "25%          3.000000\n",
      "50%          3.000000\n",
      "75%          4.000000\n",
      "max         10.000000\n",
      "Name: beds, dtype: float64\n"
     ]
    },
    {
     "data": {
      "image/png": "[encoded data removed]",
      "text/plain": [
       "<Figure size 576x144 with 2 Axes>"
      ]
     },
     "metadata": {
      "needs_background": "light"
     },
     "output_type": "display_data"
    },
    {
     "name": "stdout",
     "output_type": "stream",
     "text": [
      "count    15689.000000\n",
      "mean         2.317802\n",
      "std          1.018159\n",
      "min          0.000000\n",
      "25%          2.000000\n",
      "50%          2.000000\n",
      "75%          3.000000\n",
      "max         11.000000\n",
      "Name: baths, dtype: float64\n"
     ]
    },
    {
     "data": {
      "image/png": "[encoded data removed]",
      "text/plain": [
       "<Figure size 576x144 with 2 Axes>"
      ]
     },
     "metadata": {
      "needs_background": "light"
     },
     "output_type": "display_data"
    },
    {
     "name": "stdout",
     "output_type": "stream",
     "text": [
      "count    15689.000000\n",
      "mean      1935.164128\n",
      "std       1002.002152\n",
      "min        240.000000\n",
      "25%       1276.000000\n",
      "50%       1677.000000\n",
      "75%       2328.000000\n",
      "max      17245.000000\n",
      "Name: sqft, dtype: float64\n"
     ]
    }
   ],
   "source": [
    "explore_univariate(train, cat_vars, quant_vars)"
   ]
  },
  {
   "cell_type": "code",
   "execution_count": 96,
   "id": "e03698d1",
   "metadata": {},
   "outputs": [],
   "source": [
    "# bivariate"
   ]
  },
  {
   "cell_type": "code",
   "execution_count": 97,
   "id": "1ac9a458",
   "metadata": {},
   "outputs": [],
   "source": [
    "#### Bivariate\n",
    "target = 'tax_value'\n",
    "def explore_bivariate_categorical(train, target, cat_var):\n",
    "    '''\n",
    "    takes in categorical variable and binary target variable, \n",
    "    returns a crosstab of frequencies\n",
    "    runs a chi-square test for the proportions\n",
    "    and creates a barplot, adding a horizontal line of the overall rate of the target. \n",
    "    '''\n",
    "    print(cat_var, \"\\n_____________________\\n\")\n",
    "    ct = pd.crosstab(train[cat_var], train[target], margins=True)\n",
    "    chi2_summary, observed, expected = run_chi2(train, cat_var, target)\n",
    "    p = plot_cat_by_target(train, target, cat_var)\n",
    "    \n",
    "    print(chi2_summary)\n",
    "    print(\"\\nobserved:\\n\", ct)\n",
    "    print(\"\\nexpected:\\n\", expected)\n",
    "    plt.show(p)\n",
    "    print(\"\\n_____________________\\n\")\n",
    "\n",
    "def explore_bivariate_quant(train, target, quant_var):\n",
    "    '''\n",
    "    descriptive stats by each target class. \n",
    "    compare means across 2 target groups \n",
    "    boxenplot of target x quant\n",
    "    swarmplot of target x quant\n",
    "    '''\n",
    "    print(quant_var, \"\\n____________________\\n\")\n",
    "    descriptive_stats = train.groupby(target)[quant_var].describe()\n",
    "    average = train[quant_var].mean()\n",
    "    mann_whitney = compare_means(train, target, quant_var)\n",
    "    plt.figure(figsize=(4,4))\n",
    "    boxen = plot_boxen(train, target, quant_var)\n",
    "    swarm = plot_swarm(train, target, quant_var)\n",
    "    plt.show()\n",
    "    print(descriptive_stats, \"\\n\")\n",
    "    print(\"\\nMann-Whitney Test:\\n\", mann_whitney)\n",
    "    print(\"\\n____________________\\n\")\n",
    "\n",
    "## Bivariate Categorical\n",
    "\n",
    "def run_chi2(train, cat_var, target):\n",
    "    observed = pd.crosstab(train[cat_var], train[target])\n",
    "    chi2, p, degf, expected = stats.chi2_contingency(observed)\n",
    "    chi2_summary = pd.DataFrame({'chi2': [chi2], 'p-value': [p], \n",
    "                                 'degrees of freedom': [degf]})\n",
    "    expected = pd.DataFrame(expected)\n",
    "    return chi2_summary, observed, expected\n",
    "\n",
    "def plot_cat_by_target(train, target, cat_var):\n",
    "    p = plt.figure(figsize=(2,2))\n",
    "    p = sns.barplot(cat_var, target, data=train, alpha=.8, color='lightseagreen')\n",
    "    overall_rate = train[target].mean()\n",
    "    p = plt.axhline(overall_rate, ls='--', color='gray')\n",
    "    return p\n",
    "    \n",
    "\n",
    "## Bivariate Quant\n",
    "\n",
    "def plot_swarm(train, target, quant_var):\n",
    "    average = train[quant_var].mean()\n",
    "    p = sns.swarmplot(data=train, x=target, y=quant_var, color='lightgray')\n",
    "    p = plt.title(quant_var)\n",
    "    p = plt.axhline(average, ls='--', color='black')\n",
    "    return p\n",
    "\n",
    "def plot_boxen(train, target, quant_var):\n",
    "    average = train[quant_var].mean()\n",
    "    p = sns.boxenplot(data=train, x=target, y=quant_var, color='lightseagreen')\n",
    "    p = plt.title(quant_var)\n",
    "    p = plt.axhline(average, ls='--', color='black')\n",
    "    return p\n",
    "\n",
    "# alt_hyp = ‘two-sided’, ‘less’, ‘greater’\n",
    "\n",
    "def compare_means(train, target, quant_var, alt_hyp='two-sided'):\n",
    "    x = train[train[target]==0][quant_var]\n",
    "    y = train[train[target]==1][quant_var]\n",
    "    return stats.mannwhitneyu(x, y, use_continuity=True, alternative=alt_hyp)\n",
    "\n",
    "def explore_bivariate(train, target, cat_vars, quant_vars):\n",
    "    for cat in cat_vars:\n",
    "        explore_bivariate_categorical(train, target, cat)\n",
    "    for quant in quant_vars:\n",
    "        explore_bivariate_quant(train, target, quant)\n"
   ]
  },
  {
   "cell_type": "code",
   "execution_count": 98,
   "id": "853824b4",
   "metadata": {},
   "outputs": [],
   "source": [
    "#explore_bivariate(train, target, cat_vars, quant_vars)"
   ]
  },
  {
   "cell_type": "code",
   "execution_count": 99,
   "id": "e8cc359c",
   "metadata": {},
   "outputs": [],
   "source": [
    "# the results of the bivariate \n",
    "# chi2 test shows a very low p value indicating a very likely correlation between baths and tax_value"
   ]
  },
  {
   "cell_type": "code",
   "execution_count": 100,
   "id": "d8998529",
   "metadata": {},
   "outputs": [
    {
     "data": {
      "text/plain": [
       "(           chi2       p-value  degrees of freedom\n",
       " 0  5.075454e+06  1.577880e-45             5030556,\n",
       " tax_value  11089.0     13199.0     13616.0     13820.0     14284.0     \\\n",
       " zipcode                                                                 \n",
       " 399675              0           0           0           0           0   \n",
       " 95982               0           1           0           0           0   \n",
       " 95983               0           0           0           0           0   \n",
       " 95984               0           0           1           0           0   \n",
       " 95985               0           0           0           0           0   \n",
       " ...               ...         ...         ...         ...         ...   \n",
       " 97328               0           0           0           0           0   \n",
       " 97329               0           0           0           0           0   \n",
       " 97330               0           0           0           0           0   \n",
       " 97331               0           0           0           0           0   \n",
       " 97344               0           0           0           0           0   \n",
       " \n",
       " tax_value  14439.0     15433.0     16317.0     18584.0     18589.0     ...  \\\n",
       " zipcode                                                                ...   \n",
       " 399675              0           0           0           0           0  ...   \n",
       " 95982               0           0           0           0           0  ...   \n",
       " 95983               0           0           0           0           0  ...   \n",
       " 95984               0           0           1           0           0  ...   \n",
       " 95985               0           0           0           0           0  ...   \n",
       " ...               ...         ...         ...         ...         ...  ...   \n",
       " 97328               0           0           0           0           0  ...   \n",
       " 97329               0           0           0           0           0  ...   \n",
       " 97330               0           0           0           0           0  ...   \n",
       " 97331               0           0           0           0           0  ...   \n",
       " 97344               0           0           0           0           0  ...   \n",
       " \n",
       " tax_value  9837578.0   10071018.0  10873908.0  11000000.0  11020600.0  \\\n",
       " zipcode                                                                 \n",
       " 399675              0           0           0           0           0   \n",
       " 95982               0           0           0           0           0   \n",
       " 95983               0           0           0           0           0   \n",
       " 95984               0           0           0           0           0   \n",
       " 95985               0           0           0           0           0   \n",
       " ...               ...         ...         ...         ...         ...   \n",
       " 97328               0           0           0           0           0   \n",
       " 97329               0           0           0           0           0   \n",
       " 97330               0           0           0           0           0   \n",
       " 97331               0           0           0           0           0   \n",
       " 97344               0           0           0           0           0   \n",
       " \n",
       " tax_value  13600098.0  15533020.0  15623925.0  18812604.0  22589311.0  \n",
       " zipcode                                                                \n",
       " 399675              0           0           0           0           0  \n",
       " 95982               0           0           0           0           0  \n",
       " 95983               0           0           0           0           0  \n",
       " 95984               0           0           0           0           0  \n",
       " 95985               0           0           0           0           0  \n",
       " ...               ...         ...         ...         ...         ...  \n",
       " 97328               0           0           0           0           0  \n",
       " 97329               0           0           0           0           0  \n",
       " 97330               0           0           0           0           0  \n",
       " 97331               0           0           0           0           0  \n",
       " 97344               0           0           0           0           0  \n",
       " \n",
       " [373 rows x 13524 columns],\n",
       "         0         1         2         3         4         5         6      \\\n",
       " 0    0.000382  0.000382  0.000382  0.000382  0.000382  0.000382  0.000382   \n",
       " 1    0.001339  0.001339  0.001339  0.001339  0.001339  0.001339  0.001339   \n",
       " 2    0.002741  0.002741  0.002741  0.002741  0.002741  0.002741  0.002741   \n",
       " 3    0.002231  0.002231  0.002231  0.002231  0.002231  0.002231  0.002231   \n",
       " 4    0.001593  0.001593  0.001593  0.001593  0.001593  0.001593  0.001593   \n",
       " ..        ...       ...       ...       ...       ...       ...       ...   \n",
       " 368  0.009752  0.009752  0.009752  0.009752  0.009752  0.009752  0.009752   \n",
       " 369  0.010198  0.010198  0.010198  0.010198  0.010198  0.010198  0.010198   \n",
       " 370  0.007075  0.007075  0.007075  0.007075  0.007075  0.007075  0.007075   \n",
       " 371  0.000319  0.000319  0.000319  0.000319  0.000319  0.000319  0.000319   \n",
       " 372  0.000701  0.000701  0.000701  0.000701  0.000701  0.000701  0.000701   \n",
       " \n",
       "         7         8         9      ...     13514     13515     13516  \\\n",
       " 0    0.000382  0.000382  0.000382  ...  0.000382  0.000382  0.000382   \n",
       " 1    0.001339  0.001339  0.001339  ...  0.001339  0.001339  0.001339   \n",
       " 2    0.002741  0.002741  0.002741  ...  0.002741  0.002741  0.002741   \n",
       " 3    0.002231  0.002231  0.002231  ...  0.002231  0.002231  0.002231   \n",
       " 4    0.001593  0.001593  0.001593  ...  0.001593  0.001593  0.001593   \n",
       " ..        ...       ...       ...  ...       ...       ...       ...   \n",
       " 368  0.009752  0.009752  0.009752  ...  0.009752  0.009752  0.009752   \n",
       " 369  0.010198  0.010198  0.010198  ...  0.010198  0.010198  0.010198   \n",
       " 370  0.007075  0.007075  0.007075  ...  0.007075  0.007075  0.007075   \n",
       " 371  0.000319  0.000319  0.000319  ...  0.000319  0.000319  0.000319   \n",
       " 372  0.000701  0.000701  0.000701  ...  0.000701  0.000701  0.000701   \n",
       " \n",
       "         13517     13518     13519     13520     13521     13522     13523  \n",
       " 0    0.000382  0.000382  0.000382  0.000382  0.000382  0.000382  0.000382  \n",
       " 1    0.001339  0.001339  0.001339  0.001339  0.001339  0.001339  0.001339  \n",
       " 2    0.002741  0.002741  0.002741  0.002741  0.002741  0.002741  0.002741  \n",
       " 3    0.002231  0.002231  0.002231  0.002231  0.002231  0.002231  0.002231  \n",
       " 4    0.001593  0.001593  0.001593  0.001593  0.001593  0.001593  0.001593  \n",
       " ..        ...       ...       ...       ...       ...       ...       ...  \n",
       " 368  0.009752  0.009752  0.009752  0.009752  0.009752  0.009752  0.009752  \n",
       " 369  0.010198  0.010198  0.010198  0.010198  0.010198  0.010198  0.010198  \n",
       " 370  0.007075  0.007075  0.007075  0.007075  0.007075  0.007075  0.007075  \n",
       " 371  0.000319  0.000319  0.000319  0.000319  0.000319  0.000319  0.000319  \n",
       " 372  0.000701  0.000701  0.000701  0.000701  0.000701  0.000701  0.000701  \n",
       " \n",
       " [373 rows x 13524 columns])"
      ]
     },
     "execution_count": 100,
     "metadata": {},
     "output_type": "execute_result"
    }
   ],
   "source": [
    "# check for relationship between zipcode and tax_value\n",
    "run_chi2(train, 'zipcode', target)"
   ]
  },
  {
   "cell_type": "code",
   "execution_count": 101,
   "id": "c116611c",
   "metadata": {},
   "outputs": [],
   "source": [
    "# chi2 test shows a very low p value indicating a very likely correlation between zipcode and tax_value"
   ]
  },
  {
   "cell_type": "code",
   "execution_count": 102,
   "id": "0c7d79f2",
   "metadata": {},
   "outputs": [
    {
     "data": {
      "text/plain": [
       "(           chi2       p-value  degrees of freedom\n",
       " 0  28203.814833  4.513480e-07               27046,\n",
       " tax_value  11089.0     13199.0     13616.0     13820.0     14284.0     \\\n",
       " county                                                                  \n",
       " 1286                0           0           0           0           0   \n",
       " 2061                0           0           0           0           0   \n",
       " 3101                1           1           1           1           1   \n",
       " \n",
       " tax_value  14439.0     15433.0     16317.0     18584.0     18589.0     ...  \\\n",
       " county                                                                 ...   \n",
       " 1286                0           0           0           0           0  ...   \n",
       " 2061                0           1           0           0           0  ...   \n",
       " 3101                1           0           1           1           1  ...   \n",
       " \n",
       " tax_value  9837578.0   10071018.0  10873908.0  11000000.0  11020600.0  \\\n",
       " county                                                                  \n",
       " 1286                0           0           0           0           0   \n",
       " 2061                1           0           0           0           0   \n",
       " 3101                0           1           1           1           1   \n",
       " \n",
       " tax_value  13600098.0  15533020.0  15623925.0  18812604.0  22589311.0  \n",
       " county                                                                 \n",
       " 1286                0           0           0           0           0  \n",
       " 2061                0           0           0           0           0  \n",
       " 3101                1           1           1           1           1  \n",
       " \n",
       " [3 rows x 13524 columns],\n",
       "       0         1         2         3         4         5         6      \\\n",
       " 0  0.270572  0.270572  0.270572  0.270572  0.270572  0.270572  0.270572   \n",
       " 1  0.085729  0.085729  0.085729  0.085729  0.085729  0.085729  0.085729   \n",
       " 2  0.643699  0.643699  0.643699  0.643699  0.643699  0.643699  0.643699   \n",
       " \n",
       "       7         8         9      ...     13514     13515     13516     13517  \\\n",
       " 0  0.270572  0.270572  0.270572  ...  0.270572  0.270572  0.270572  0.270572   \n",
       " 1  0.085729  0.085729  0.085729  ...  0.085729  0.085729  0.085729  0.085729   \n",
       " 2  0.643699  0.643699  0.643699  ...  0.643699  0.643699  0.643699  0.643699   \n",
       " \n",
       "       13518     13519     13520     13521     13522     13523  \n",
       " 0  0.270572  0.270572  0.270572  0.270572  0.270572  0.270572  \n",
       " 1  0.085729  0.085729  0.085729  0.085729  0.085729  0.085729  \n",
       " 2  0.643699  0.643699  0.643699  0.643699  0.643699  0.643699  \n",
       " \n",
       " [3 rows x 13524 columns])"
      ]
     },
     "execution_count": 102,
     "metadata": {},
     "output_type": "execute_result"
    }
   ],
   "source": [
    "# check for relationship between county and tax_value\n",
    "run_chi2(train, 'county', target)"
   ]
  },
  {
   "cell_type": "code",
   "execution_count": 103,
   "id": "bbf8e684",
   "metadata": {},
   "outputs": [],
   "source": [
    "# chi2 test shows a very low p value indicating a very likely correlation between county and tax_value"
   ]
  },
  {
   "cell_type": "code",
   "execution_count": 104,
   "id": "e1d7593c",
   "metadata": {},
   "outputs": [
    {
     "data": {
      "text/plain": [
       "<matplotlib.lines.Line2D at 0x7fe745b60790>"
      ]
     },
     "execution_count": 104,
     "metadata": {},
     "output_type": "execute_result"
    },
    {
     "data": {
      "image/png": "[encoded data removed]",
      "text/plain": [
       "<Figure size 1008x720 with 1 Axes>"
      ]
     },
     "metadata": {
      "needs_background": "light"
     },
     "output_type": "display_data"
    }
   ],
   "source": [
    "plot_swarm(train.head(500), target, 'baths')"
   ]
  },
  {
   "cell_type": "code",
   "execution_count": 105,
   "id": "33406bbe",
   "metadata": {},
   "outputs": [
    {
     "data": {
      "text/plain": [
       "<matplotlib.lines.Line2D at 0x7fe745b69820>"
      ]
     },
     "execution_count": 105,
     "metadata": {},
     "output_type": "execute_result"
    },
    {
     "data": {
      "image/png": "[encoded data removed]",
      "text/plain": [
       "<Figure size 1008x720 with 1 Axes>"
      ]
     },
     "metadata": {
      "needs_background": "light"
     },
     "output_type": "display_data"
    }
   ],
   "source": [
    "plot_swarm(train.head(500), target, 'beds')"
   ]
  },
  {
   "cell_type": "code",
   "execution_count": 106,
   "id": "9e0359e0",
   "metadata": {},
   "outputs": [
    {
     "data": {
      "text/plain": [
       "<matplotlib.lines.Line2D at 0x7fe7448cd190>"
      ]
     },
     "execution_count": 106,
     "metadata": {},
     "output_type": "execute_result"
    },
    {
     "data": {
      "image/png": "[encoded data removed]",
      "text/plain": [
       "<Figure size 1008x720 with 1 Axes>"
      ]
     },
     "metadata": {
      "needs_background": "light"
     },
     "output_type": "display_data"
    }
   ],
   "source": [
    "plot_swarm(train.head(500), target, 'sqft')"
   ]
  },
  {
   "cell_type": "code",
   "execution_count": 107,
   "id": "eb933cab",
   "metadata": {},
   "outputs": [],
   "source": [
    "## multivariate"
   ]
  },
  {
   "cell_type": "code",
   "execution_count": 108,
   "id": "ef014011",
   "metadata": {},
   "outputs": [],
   "source": [
    "## Multivariate\n",
    "\n",
    "def plot_all_continuous_vars(train, target, quant_vars):\n",
    "    '''\n",
    "    Melt the dataset to \"long-form\" representation\n",
    "    boxenplot of measurement x value with color representing the target variable. \n",
    "    '''\n",
    "    my_vars = [item for sublist in [quant_vars, [target]] for item in sublist]\n",
    "    sns.set(style=\"whitegrid\", palette=\"muted\")\n",
    "    melt = train[my_vars].melt(id_vars=target, var_name=\"measurement\")\n",
    "    plt.figure(figsize=(8,6))\n",
    "    p = sns.boxenplot(x=\"measurement\", y=\"value\", hue=target, data=melt)\n",
    "    p.set(yscale=\"log\", xlabel='')    \n",
    "    plt.show()\n",
    "\n",
    "def plot_violin_grid_with_color(train, target, cat_vars, quant_vars):\n",
    "    cols = len(cat_vars)\n",
    "    for quant in quant_vars:\n",
    "        _, ax = plt.subplots(nrows=1, ncols=cols, figsize=(16, 4), sharey=True)\n",
    "        for i, cat in enumerate(cat_vars):\n",
    "            sns.violinplot(x=cat, y=quant, data=train, split=True, \n",
    "                           ax=ax[i], hue=target, palette=\"Set2\")\n",
    "            ax[i].set_xlabel('')\n",
    "            ax[i].set_ylabel(quant)\n",
    "            ax[i].set_title(cat)\n",
    "        plt.show()\n",
    "    \n",
    "def plot_swarm_grid_with_color(train, target, cat_vars, quant_vars):\n",
    "    cols = len(cat_vars)\n",
    "    for quant in quant_vars:\n",
    "        _, ax = plt.subplots(nrows=1, ncols=cols, figsize=(16, 4), sharey=True)\n",
    "        for i, cat in enumerate(cat_vars):\n",
    "            sns.swarmplot(x=cat, y=quant, data=train, ax=ax[i], hue=target, palette=\"Set2\")\n",
    "            ax[i].set_xlabel('')\n",
    "            ax[i].set_ylabel(quant)\n",
    "            ax[i].set_title(cat)\n",
    "        plt.show()"
   ]
  },
  {
   "cell_type": "code",
   "execution_count": 109,
   "id": "57ffe3d8",
   "metadata": {},
   "outputs": [],
   "source": [
    "def explore_multivariate(train, target, cat_vars, quant_vars):\n",
    "    '''\n",
    "    '''\n",
    "    plot_swarm_grid_with_color(train, target, cat_vars, quant_vars)\n",
    "    plt.show()\n",
    "    violin = plot_violin_grid_with_color(train, target, cat_vars, quant_vars)\n",
    "    plt.show()\n",
    "    pair = sns.pairplot(data=train, vars=quant_vars, hue=target)\n",
    "    plt.show()\n",
    "    plot_all_continuous_vars(train, target, quant_vars)\n",
    "    plt.show()    \n"
   ]
  },
  {
   "cell_type": "code",
   "execution_count": 110,
   "id": "a159e1d3",
   "metadata": {},
   "outputs": [],
   "source": [
    "#explore_multivariate(train, target, cat_vars, quant_vars)"
   ]
  },
  {
   "cell_type": "code",
   "execution_count": 111,
   "id": "0751b654",
   "metadata": {},
   "outputs": [],
   "source": [
    "# # Next I'll display some pairplots\n",
    "# sns.pairplot(train, hue='tax_value')\n",
    "# plt.show()"
   ]
  },
  {
   "cell_type": "markdown",
   "id": "9b92bac8",
   "metadata": {},
   "source": [
    "** Takeaways from explore\n",
    "\n",
    "\n",
    "\n"
   ]
  },
  {
   "cell_type": "code",
   "execution_count": 112,
   "id": "3e591c8d",
   "metadata": {},
   "outputs": [],
   "source": [
    "#################################### Modeling ################################################"
   ]
  },
  {
   "cell_type": "code",
   "execution_count": 113,
   "id": "5633abbd",
   "metadata": {},
   "outputs": [],
   "source": [
    "# #scaled df\n",
    "# X_train_scaled, X_validate_scaled, X_test_scaled = min_max_scale(X_train, X_validate, X_test, num_cols)"
   ]
  },
  {
   "cell_type": "code",
   "execution_count": 114,
   "id": "bb57eb0c",
   "metadata": {},
   "outputs": [],
   "source": [
    "y_train =y_train.astype(float)"
   ]
  },
  {
   "cell_type": "code",
   "execution_count": 115,
   "id": "8ebfe86e",
   "metadata": {},
   "outputs": [],
   "source": [
    "# establish the baseline"
   ]
  },
  {
   "cell_type": "code",
   "execution_count": 116,
   "id": "827c3e0a",
   "metadata": {},
   "outputs": [
    {
     "name": "stdout",
     "output_type": "stream",
     "text": [
      "RMSE using Mean\n",
      "Train/In-Sample:  692709.66 \n",
      "Validate/Out-of-Sample:  743878.34\n"
     ]
    }
   ],
   "source": [
    "# We need y_train and y_validate to be dataframes to append the new columns with predicted values. \n",
    "y_train = pd.DataFrame(y_train)\n",
    "y_validate = pd.DataFrame(y_validate)\n",
    "\n",
    "# 1. Predict tax_value_pred_mean\n",
    "tax_value_pred_mean = y_train['tax_value'].mean()\n",
    "y_train['tax_value_pred_mean'] = tax_value_pred_mean\n",
    "y_validate['tax_value_pred_mean'] = tax_value_pred_mean\n",
    "\n",
    "# 2. compute tax_value_pred_median\n",
    "tax_value_pred_median = y_train['tax_value'].median()\n",
    "y_train['tax_value_pred_median'] = tax_value_pred_median\n",
    "y_validate['tax_value_pred_median'] = tax_value_pred_median\n",
    "\n",
    "# 3. RMSE of tax_value_pred_mean\n",
    "rmse_train = mean_squared_error(y_train.tax_value, y_train.tax_value_pred_mean)**(1/2)\n",
    "rmse_validate = mean_squared_error(y_validate.tax_value, y_validate.tax_value_pred_mean)**(1/2)\n",
    "\n",
    "print(\"RMSE using Mean\\nTrain/In-Sample: \", round(rmse_train, 2), \n",
    "      \"\\nValidate/Out-of-Sample: \", round(rmse_validate, 2))"
   ]
  },
  {
   "cell_type": "code",
   "execution_count": null,
   "id": "5fec79cc",
   "metadata": {},
   "outputs": [],
   "source": []
  },
  {
   "cell_type": "code",
   "execution_count": 117,
   "id": "524c74ba",
   "metadata": {},
   "outputs": [],
   "source": [
    "X_train = X_train.drop(columns=['parcel_id','taxamount','assessment_year','county','tranaction_date','tax_rate','zipcode'])\n",
    "X_validate = X_validate.drop(columns=['parcel_id','taxamount','assessment_year','county','tranaction_date','tax_rate','zipcode'])"
   ]
  },
  {
   "cell_type": "code",
   "execution_count": 118,
   "id": "7bf52b01",
   "metadata": {},
   "outputs": [
    {
     "name": "stdout",
     "output_type": "stream",
     "text": [
      "RMSE for OLS using LinearRegression\n",
      "Training/In-Sample:  536650.6442200879 \n",
      "Validation/Out-of-Sample:  578409.619489961\n"
     ]
    }
   ],
   "source": [
    "# Fit a LinearRegression model using the features suggested in the curriculum\n",
    "# create the model object\n",
    "lm = LinearRegression(normalize=True)\n",
    "\n",
    "# fit the model to our training data. We must specify the column in y_train, \n",
    "# since we have converted it to a dataframe from a series! \n",
    "lm.fit(X_train, y_train.tax_value)\n",
    "\n",
    "# predict train\n",
    "y_train['tax_value_pred_lm'] = lm.predict(X_train)\n",
    "\n",
    "# evaluate: rmse\n",
    "rmse_train = mean_squared_error(y_train.tax_value, y_train.tax_value_pred_lm)**(1/2)\n",
    "\n",
    "# predict validate\n",
    "y_validate['tax_value_pred_lm'] = lm.predict(X_validate)\n",
    "\n",
    "# evaluate: rmse\n",
    "rmse_validate = mean_squared_error(y_validate.tax_value, y_validate.tax_value_pred_lm)**(1/2)\n",
    "\n",
    "print(\"RMSE for OLS using LinearRegression\\nTraining/In-Sample: \", rmse_train, \n",
    "      \"\\nValidation/Out-of-Sample: \", rmse_validate)"
   ]
  },
  {
   "cell_type": "code",
   "execution_count": 119,
   "id": "7db6d7de",
   "metadata": {},
   "outputs": [
    {
     "name": "stdout",
     "output_type": "stream",
     "text": [
      "RMSE for Lasso + Lars\n",
      "Training/In-Sample:  536650.7473926865 \n",
      "Validation/Out-of-Sample:  578416.0715188411\n"
     ]
    }
   ],
   "source": [
    "#LassoLars model\n",
    "# create the model object\n",
    "lars = LassoLars(alpha=1.0)\n",
    "\n",
    "# fit the model to our training data. We must specify the column in y_train, \n",
    "# since we have converted it to a dataframe from a series! \n",
    "lars.fit(X_train, y_train.tax_value)\n",
    "\n",
    "# predict train\n",
    "y_train['tax_value_pred_lars'] = lars.predict(X_train)\n",
    "\n",
    "# evaluate: rmse\n",
    "rmse_train = mean_squared_error(y_train.tax_value, y_train.tax_value_pred_lars)**(1/2)\n",
    "\n",
    "# predict validate\n",
    "y_validate['tax_value_pred_lars'] = lars.predict(X_validate)\n",
    "\n",
    "# evaluate: rmse\n",
    "rmse_validate = mean_squared_error(y_validate.tax_value, y_validate.tax_value_pred_lars)**(1/2)\n",
    "\n",
    "print(\"RMSE for Lasso + Lars\\nTraining/In-Sample: \", rmse_train, \n",
    "      \"\\nValidation/Out-of-Sample: \", rmse_validate)"
   ]
  },
  {
   "cell_type": "code",
   "execution_count": 120,
   "id": "cac4bb53",
   "metadata": {},
   "outputs": [],
   "source": [
    "# Find model error to determine best model\n"
   ]
  },
  {
   "cell_type": "markdown",
   "id": "153c1744",
   "metadata": {},
   "source": [
    "#baseline error\n",
    "Train/In-Sample:  692709.66 \n",
    "Validate/Out-of-Sample:  743878.34"
   ]
  },
  {
   "cell_type": "markdown",
   "id": "c67cb37d",
   "metadata": {},
   "source": [
    "#RMSE for OLS using LinearRegression\n",
    "Training/In-Sample:  537153.0834869705 \n",
    "Validation/Out-of-Sample:  579157.4368710583"
   ]
  },
  {
   "cell_type": "markdown",
   "id": "575ba971",
   "metadata": {},
   "source": [
    "#RMSE for Lasso + Lars\n",
    "Training/In-Sample:  537153.1735234142 \n",
    "Validation/Out-of-Sample:  579162.4635582954"
   ]
  },
  {
   "cell_type": "markdown",
   "id": "80a8c822",
   "metadata": {},
   "source": [
    "OLS_train_error =537153.0834869705 \n",
    "OLS_validate_error=579157.4368710583\n",
    "LSLRS_train_error =537153.1735234142 \n",
    "LSLRS_validate_error=579162.4635582954"
   ]
  },
  {
   "cell_type": "markdown",
   "id": "f67a3586",
   "metadata": {},
   "source": [
    "LSLRS_train_error - OLS_train_error"
   ]
  },
  {
   "cell_type": "markdown",
   "id": "42f0c09b",
   "metadata": {},
   "source": [
    "LSLRS_validate_error - OLS_validate_error"
   ]
  },
  {
   "cell_type": "code",
   "execution_count": 121,
   "id": "91360f1f",
   "metadata": {},
   "outputs": [],
   "source": [
    "# So OLS has less error in train and validate and is our best model"
   ]
  },
  {
   "cell_type": "code",
   "execution_count": 122,
   "id": "f4ed98c0",
   "metadata": {},
   "outputs": [],
   "source": [
    "# Now let's see how OLS performs on the test"
   ]
  },
  {
   "cell_type": "code",
   "execution_count": 123,
   "id": "4d8b90c9",
   "metadata": {},
   "outputs": [],
   "source": [
    "X_test = X_test.drop(columns=['parcel_id','taxamount','assessment_year','county','tranaction_date','tax_rate','zipcode'])"
   ]
  },
  {
   "cell_type": "code",
   "execution_count": 124,
   "id": "b81dd32f",
   "metadata": {},
   "outputs": [
    {
     "data": {
      "text/html": [
       "<div>\n",
       "<style scoped>\n",
       "    .dataframe tbody tr th:only-of-type {\n",
       "        vertical-align: middle;\n",
       "    }\n",
       "\n",
       "    .dataframe tbody tr th {\n",
       "        vertical-align: top;\n",
       "    }\n",
       "\n",
       "    .dataframe thead th {\n",
       "        text-align: right;\n",
       "    }\n",
       "</style>\n",
       "<table border=\"1\" class=\"dataframe\">\n",
       "  <thead>\n",
       "    <tr style=\"text-align: right;\">\n",
       "      <th></th>\n",
       "      <th>beds</th>\n",
       "      <th>baths</th>\n",
       "      <th>sqft</th>\n",
       "      <th>fips</th>\n",
       "    </tr>\n",
       "  </thead>\n",
       "  <tbody>\n",
       "    <tr>\n",
       "      <th>12450</th>\n",
       "      <td>5</td>\n",
       "      <td>5.0</td>\n",
       "      <td>3421.0</td>\n",
       "      <td>6037.0</td>\n",
       "    </tr>\n",
       "    <tr>\n",
       "      <th>712</th>\n",
       "      <td>3</td>\n",
       "      <td>2.0</td>\n",
       "      <td>1398.0</td>\n",
       "      <td>6037.0</td>\n",
       "    </tr>\n",
       "    <tr>\n",
       "      <th>2281</th>\n",
       "      <td>4</td>\n",
       "      <td>4.0</td>\n",
       "      <td>3128.0</td>\n",
       "      <td>6037.0</td>\n",
       "    </tr>\n",
       "    <tr>\n",
       "      <th>8922</th>\n",
       "      <td>4</td>\n",
       "      <td>5.0</td>\n",
       "      <td>4218.0</td>\n",
       "      <td>6037.0</td>\n",
       "    </tr>\n",
       "    <tr>\n",
       "      <th>26594</th>\n",
       "      <td>3</td>\n",
       "      <td>2.0</td>\n",
       "      <td>1244.0</td>\n",
       "      <td>6037.0</td>\n",
       "    </tr>\n",
       "  </tbody>\n",
       "</table>\n",
       "</div>"
      ],
      "text/plain": [
       "       beds  baths    sqft    fips\n",
       "12450     5    5.0  3421.0  6037.0\n",
       "712       3    2.0  1398.0  6037.0\n",
       "2281      4    4.0  3128.0  6037.0\n",
       "8922      4    5.0  4218.0  6037.0\n",
       "26594     3    2.0  1244.0  6037.0"
      ]
     },
     "execution_count": 124,
     "metadata": {},
     "output_type": "execute_result"
    }
   ],
   "source": [
    "X_test.head()"
   ]
  },
  {
   "cell_type": "code",
   "execution_count": 125,
   "id": "66eb2dd8",
   "metadata": {},
   "outputs": [
    {
     "name": "stdout",
     "output_type": "stream",
     "text": [
      "RMSE for OLS Model using LinearRegression\n",
      "Out-of-Sample Performance:  535190.5014027276\n"
     ]
    }
   ],
   "source": [
    "# Model Selection & Out-of-Sample Evaluation\n",
    "# Model selected: lm (using LinearRegression)\n",
    "    \n",
    "y_test = pd.DataFrame(y_test)\n",
    "\n",
    "# predict on test\n",
    "y_test['tax_value_pred_lm'] = lm.predict(X_test)\n",
    "\n",
    "# evaluate: rmse\n",
    "rmse_test = mean_squared_error(y_test.tax_value, y_test.tax_value_pred_lm) ** (1/2)\n",
    "\n",
    "print(\"RMSE for OLS Model using LinearRegression\\nOut-of-Sample Performance: \", rmse_test)"
   ]
  },
  {
   "cell_type": "code",
   "execution_count": null,
   "id": "9b28465e",
   "metadata": {},
   "outputs": [],
   "source": []
  },
  {
   "cell_type": "markdown",
   "id": "5ab34421",
   "metadata": {},
   "source": [
    "TO DO"
   ]
  },
  {
   "cell_type": "code",
   "execution_count": null,
   "id": "6ee688ef",
   "metadata": {},
   "outputs": [],
   "source": []
  },
  {
   "cell_type": "code",
   "execution_count": 126,
   "id": "d9b0958d",
   "metadata": {},
   "outputs": [
    {
     "data": {
      "image/png": "[encoded data removed]",
      "text/plain": [
       "<Figure size 360x360 with 1 Axes>"
      ]
     },
     "metadata": {
      "needs_background": "light"
     },
     "output_type": "display_data"
    }
   ],
   "source": [
    "# A simple scatter plot with the regression line\n",
    "\n",
    "sns.lmplot(x=\"baths\", y=\"tax_value\", data=train, line_kws={'color': 'red'})\n",
    "plt.show()"
   ]
  },
  {
   "cell_type": "code",
   "execution_count": 127,
   "id": "c91883a7",
   "metadata": {},
   "outputs": [
    {
     "data": {
      "image/png": "[encoded data removed]",
      "text/plain": [
       "<Figure size 360x360 with 1 Axes>"
      ]
     },
     "metadata": {
      "needs_background": "light"
     },
     "output_type": "display_data"
    }
   ],
   "source": [
    "#Let's make a simple scatter plot but add a regression line.\n",
    "\n",
    "sns.lmplot(x=\"sqft\", y=\"tax_value\", data=train, line_kws={'color': 'red'})\n",
    "plt.show()"
   ]
  },
  {
   "cell_type": "markdown",
   "id": "2b39b499",
   "metadata": {},
   "source": [
    "Takeaways from scatter plots is that there is a linear relationship between sqft and tax_value and also between baths and tax_value"
   ]
  }
 ],
 "metadata": {
  "kernelspec": {
   "display_name": "Python 3",
   "language": "python",
   "name": "python3"
  },
  "language_info": {
   "codemirror_mode": {
    "name": "ipython",
    "version": 3
   },
   "file_extension": ".py",
   "mimetype": "text/x-python",
   "name": "python",
   "nbconvert_exporter": "python",
   "pygments_lexer": "ipython3",
   "version": "3.8.8"
  }
 },
 "nbformat": 4,
 "nbformat_minor": 5
}
