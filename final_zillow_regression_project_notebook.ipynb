{
 "cells": [
  {
   "cell_type": "code",
   "execution_count": 1,
   "id": "e8d25c00",
   "metadata": {},
   "outputs": [],
   "source": [
    "import pandas as pd\n",
    "import numpy as np\n",
    "from env import user, password, host\n",
    "import acquire        \n",
    "from acquire import url, query\n",
    "import prepare\n",
    "from scipy import stats\n",
    "from sklearn.model_selection import train_test_split\n",
    "from scipy.stats import pearsonr, spearmanr\n",
    "\n",
    "import matplotlib.pyplot as plt\n",
    "import seaborn as sns\n",
    "\n",
    "from sklearn.model_selection import train_test_split\n",
    "from sklearn.impute import SimpleImputer\n",
    "from sklearn.preprocessing import MinMaxScaler\n",
    "\n",
    "# modeling methods\n",
    "from sklearn.metrics import mean_squared_error\n",
    "from sklearn.linear_model import LinearRegression, LassoLars, TweedieRegressor\n",
    "from sklearn.preprocessing import PolynomialFeatures\n",
    "\n",
    "import warnings\n",
    "warnings.filterwarnings(\"ignore\")"
   ]
  },
  {
   "cell_type": "markdown",
   "id": "27abc2b4",
   "metadata": {},
   "source": [
    "# Acquire"
   ]
  },
  {
   "cell_type": "code",
   "execution_count": 2,
   "id": "442b9449",
   "metadata": {},
   "outputs": [
    {
     "data": {
      "text/html": [
       "<div>\n",
       "<style scoped>\n",
       "    .dataframe tbody tr th:only-of-type {\n",
       "        vertical-align: middle;\n",
       "    }\n",
       "\n",
       "    .dataframe tbody tr th {\n",
       "        vertical-align: top;\n",
       "    }\n",
       "\n",
       "    .dataframe thead th {\n",
       "        text-align: right;\n",
       "    }\n",
       "</style>\n",
       "<table border=\"1\" class=\"dataframe\">\n",
       "  <thead>\n",
       "    <tr style=\"text-align: right;\">\n",
       "      <th></th>\n",
       "      <th>parcelid</th>\n",
       "      <th>bedroomcnt</th>\n",
       "      <th>bathroomcnt</th>\n",
       "      <th>calculatedfinishedsquarefeet</th>\n",
       "      <th>taxvaluedollarcnt</th>\n",
       "      <th>taxamount</th>\n",
       "      <th>assessmentyear</th>\n",
       "      <th>regionidcounty</th>\n",
       "      <th>regionidzip</th>\n",
       "      <th>fips</th>\n",
       "      <th>transactiondate</th>\n",
       "    </tr>\n",
       "  </thead>\n",
       "  <tbody>\n",
       "    <tr>\n",
       "      <th>0</th>\n",
       "      <td>11721753</td>\n",
       "      <td>3.0</td>\n",
       "      <td>2.0</td>\n",
       "      <td>1316.0</td>\n",
       "      <td>205123.0</td>\n",
       "      <td>2627.48</td>\n",
       "      <td>2016.0</td>\n",
       "      <td>3101.0</td>\n",
       "      <td>95997.0</td>\n",
       "      <td>6037.0</td>\n",
       "      <td>2017-07-21</td>\n",
       "    </tr>\n",
       "    <tr>\n",
       "      <th>1</th>\n",
       "      <td>11289917</td>\n",
       "      <td>3.0</td>\n",
       "      <td>2.0</td>\n",
       "      <td>1458.0</td>\n",
       "      <td>136104.0</td>\n",
       "      <td>2319.90</td>\n",
       "      <td>2016.0</td>\n",
       "      <td>3101.0</td>\n",
       "      <td>97318.0</td>\n",
       "      <td>6037.0</td>\n",
       "      <td>2017-06-23</td>\n",
       "    </tr>\n",
       "    <tr>\n",
       "      <th>2</th>\n",
       "      <td>11705026</td>\n",
       "      <td>2.0</td>\n",
       "      <td>1.0</td>\n",
       "      <td>1421.0</td>\n",
       "      <td>35606.0</td>\n",
       "      <td>543.69</td>\n",
       "      <td>2016.0</td>\n",
       "      <td>3101.0</td>\n",
       "      <td>96018.0</td>\n",
       "      <td>6037.0</td>\n",
       "      <td>2017-06-30</td>\n",
       "    </tr>\n",
       "    <tr>\n",
       "      <th>3</th>\n",
       "      <td>14269464</td>\n",
       "      <td>4.0</td>\n",
       "      <td>3.0</td>\n",
       "      <td>2541.0</td>\n",
       "      <td>880456.0</td>\n",
       "      <td>9819.72</td>\n",
       "      <td>2016.0</td>\n",
       "      <td>1286.0</td>\n",
       "      <td>96958.0</td>\n",
       "      <td>6059.0</td>\n",
       "      <td>2017-06-01</td>\n",
       "    </tr>\n",
       "    <tr>\n",
       "      <th>4</th>\n",
       "      <td>11446756</td>\n",
       "      <td>3.0</td>\n",
       "      <td>2.0</td>\n",
       "      <td>1491.0</td>\n",
       "      <td>107110.0</td>\n",
       "      <td>1399.27</td>\n",
       "      <td>2016.0</td>\n",
       "      <td>3101.0</td>\n",
       "      <td>96162.0</td>\n",
       "      <td>6037.0</td>\n",
       "      <td>2017-08-23</td>\n",
       "    </tr>\n",
       "    <tr>\n",
       "      <th>...</th>\n",
       "      <td>...</td>\n",
       "      <td>...</td>\n",
       "      <td>...</td>\n",
       "      <td>...</td>\n",
       "      <td>...</td>\n",
       "      <td>...</td>\n",
       "      <td>...</td>\n",
       "      <td>...</td>\n",
       "      <td>...</td>\n",
       "      <td>...</td>\n",
       "      <td>...</td>\n",
       "    </tr>\n",
       "    <tr>\n",
       "      <th>28119</th>\n",
       "      <td>11991766</td>\n",
       "      <td>6.0</td>\n",
       "      <td>2.0</td>\n",
       "      <td>2634.0</td>\n",
       "      <td>878190.0</td>\n",
       "      <td>12766.88</td>\n",
       "      <td>2016.0</td>\n",
       "      <td>3101.0</td>\n",
       "      <td>95985.0</td>\n",
       "      <td>6037.0</td>\n",
       "      <td>2017-08-31</td>\n",
       "    </tr>\n",
       "    <tr>\n",
       "      <th>28120</th>\n",
       "      <td>14011468</td>\n",
       "      <td>4.0</td>\n",
       "      <td>1.5</td>\n",
       "      <td>1187.0</td>\n",
       "      <td>465999.0</td>\n",
       "      <td>5552.68</td>\n",
       "      <td>2016.0</td>\n",
       "      <td>1286.0</td>\n",
       "      <td>96180.0</td>\n",
       "      <td>6059.0</td>\n",
       "      <td>2017-08-31</td>\n",
       "    </tr>\n",
       "    <tr>\n",
       "      <th>28121</th>\n",
       "      <td>14453399</td>\n",
       "      <td>5.0</td>\n",
       "      <td>3.0</td>\n",
       "      <td>3015.0</td>\n",
       "      <td>852813.0</td>\n",
       "      <td>11662.88</td>\n",
       "      <td>2016.0</td>\n",
       "      <td>1286.0</td>\n",
       "      <td>96983.0</td>\n",
       "      <td>6059.0</td>\n",
       "      <td>2017-08-31</td>\n",
       "    </tr>\n",
       "    <tr>\n",
       "      <th>28122</th>\n",
       "      <td>11128688</td>\n",
       "      <td>5.0</td>\n",
       "      <td>3.0</td>\n",
       "      <td>2992.0</td>\n",
       "      <td>1120000.0</td>\n",
       "      <td>13663.03</td>\n",
       "      <td>2016.0</td>\n",
       "      <td>3101.0</td>\n",
       "      <td>96356.0</td>\n",
       "      <td>6037.0</td>\n",
       "      <td>2017-08-31</td>\n",
       "    </tr>\n",
       "    <tr>\n",
       "      <th>28123</th>\n",
       "      <td>10713993</td>\n",
       "      <td>3.0</td>\n",
       "      <td>3.0</td>\n",
       "      <td>1574.0</td>\n",
       "      <td>563463.0</td>\n",
       "      <td>6903.66</td>\n",
       "      <td>2016.0</td>\n",
       "      <td>3101.0</td>\n",
       "      <td>96346.0</td>\n",
       "      <td>6037.0</td>\n",
       "      <td>2017-08-31</td>\n",
       "    </tr>\n",
       "  </tbody>\n",
       "</table>\n",
       "<p>28124 rows × 11 columns</p>\n",
       "</div>"
      ],
      "text/plain": [
       "       parcelid  bedroomcnt  bathroomcnt  calculatedfinishedsquarefeet  \\\n",
       "0      11721753         3.0          2.0                        1316.0   \n",
       "1      11289917         3.0          2.0                        1458.0   \n",
       "2      11705026         2.0          1.0                        1421.0   \n",
       "3      14269464         4.0          3.0                        2541.0   \n",
       "4      11446756         3.0          2.0                        1491.0   \n",
       "...         ...         ...          ...                           ...   \n",
       "28119  11991766         6.0          2.0                        2634.0   \n",
       "28120  14011468         4.0          1.5                        1187.0   \n",
       "28121  14453399         5.0          3.0                        3015.0   \n",
       "28122  11128688         5.0          3.0                        2992.0   \n",
       "28123  10713993         3.0          3.0                        1574.0   \n",
       "\n",
       "       taxvaluedollarcnt  taxamount  assessmentyear  regionidcounty  \\\n",
       "0               205123.0    2627.48          2016.0          3101.0   \n",
       "1               136104.0    2319.90          2016.0          3101.0   \n",
       "2                35606.0     543.69          2016.0          3101.0   \n",
       "3               880456.0    9819.72          2016.0          1286.0   \n",
       "4               107110.0    1399.27          2016.0          3101.0   \n",
       "...                  ...        ...             ...             ...   \n",
       "28119           878190.0   12766.88          2016.0          3101.0   \n",
       "28120           465999.0    5552.68          2016.0          1286.0   \n",
       "28121           852813.0   11662.88          2016.0          1286.0   \n",
       "28122          1120000.0   13663.03          2016.0          3101.0   \n",
       "28123           563463.0    6903.66          2016.0          3101.0   \n",
       "\n",
       "       regionidzip    fips transactiondate  \n",
       "0          95997.0  6037.0      2017-07-21  \n",
       "1          97318.0  6037.0      2017-06-23  \n",
       "2          96018.0  6037.0      2017-06-30  \n",
       "3          96958.0  6059.0      2017-06-01  \n",
       "4          96162.0  6037.0      2017-08-23  \n",
       "...            ...     ...             ...  \n",
       "28119      95985.0  6037.0      2017-08-31  \n",
       "28120      96180.0  6059.0      2017-08-31  \n",
       "28121      96983.0  6059.0      2017-08-31  \n",
       "28122      96356.0  6037.0      2017-08-31  \n",
       "28123      96346.0  6037.0      2017-08-31  \n",
       "\n",
       "[28124 rows x 11 columns]"
      ]
     },
     "execution_count": 2,
     "metadata": {},
     "output_type": "execute_result"
    }
   ],
   "source": [
    "df = pd.read_sql(query, url)\n",
    "df"
   ]
  },
  {
   "cell_type": "markdown",
   "id": "d85358f0",
   "metadata": {},
   "source": [
    "### Takeways\n",
    "- My SQL query brings in all the columns necessary to ask the questions posed by the zillow team narrowing down the database to single unit properties with transactions during May-Aug 2017\n",
    "- I am bringing in 28,124 rows and 11 columns initially"
   ]
  },
  {
   "cell_type": "markdown",
   "id": "bed1e581",
   "metadata": {},
   "source": [
    "# Prepare"
   ]
  },
  {
   "cell_type": "markdown",
   "id": "511c1a2e",
   "metadata": {},
   "source": [
    "I need to prepare one dataframe for answering the questions posed I named df that will include the tax rate, and a 2nd dataframe name df2 that is for exploring and modeling which will not include the tax rate as this would cause target leakage."
   ]
  },
  {
   "cell_type": "code",
   "execution_count": 3,
   "id": "05383a25",
   "metadata": {},
   "outputs": [
    {
     "name": "stdout",
     "output_type": "stream",
     "text": [
      "<class 'pandas.core.frame.DataFrame'>\n",
      "RangeIndex: 28124 entries, 0 to 28123\n",
      "Data columns (total 11 columns):\n",
      " #   Column                        Non-Null Count  Dtype  \n",
      "---  ------                        --------------  -----  \n",
      " 0   parcelid                      28124 non-null  int64  \n",
      " 1   bedroomcnt                    28124 non-null  float64\n",
      " 2   bathroomcnt                   28124 non-null  float64\n",
      " 3   calculatedfinishedsquarefeet  28077 non-null  float64\n",
      " 4   taxvaluedollarcnt             28123 non-null  float64\n",
      " 5   taxamount                     28123 non-null  float64\n",
      " 6   assessmentyear                28124 non-null  float64\n",
      " 7   regionidcounty                28124 non-null  float64\n",
      " 8   regionidzip                   28107 non-null  float64\n",
      " 9   fips                          28124 non-null  float64\n",
      " 10  transactiondate               28124 non-null  object \n",
      "dtypes: float64(9), int64(1), object(1)\n",
      "memory usage: 2.4+ MB\n"
     ]
    }
   ],
   "source": [
    "df.info()"
   ]
  },
  {
   "cell_type": "code",
   "execution_count": 4,
   "id": "ada1483c",
   "metadata": {},
   "outputs": [
    {
     "data": {
      "text/html": [
       "<div>\n",
       "<style scoped>\n",
       "    .dataframe tbody tr th:only-of-type {\n",
       "        vertical-align: middle;\n",
       "    }\n",
       "\n",
       "    .dataframe tbody tr th {\n",
       "        vertical-align: top;\n",
       "    }\n",
       "\n",
       "    .dataframe thead th {\n",
       "        text-align: right;\n",
       "    }\n",
       "</style>\n",
       "<table border=\"1\" class=\"dataframe\">\n",
       "  <thead>\n",
       "    <tr style=\"text-align: right;\">\n",
       "      <th></th>\n",
       "      <th>count</th>\n",
       "      <th>mean</th>\n",
       "      <th>std</th>\n",
       "      <th>min</th>\n",
       "      <th>25%</th>\n",
       "      <th>50%</th>\n",
       "      <th>75%</th>\n",
       "      <th>max</th>\n",
       "    </tr>\n",
       "  </thead>\n",
       "  <tbody>\n",
       "    <tr>\n",
       "      <th>parcelid</th>\n",
       "      <td>28124.0</td>\n",
       "      <td>1.304239e+07</td>\n",
       "      <td>3.747700e+06</td>\n",
       "      <td>10711855.00</td>\n",
       "      <td>11513802.75</td>\n",
       "      <td>12596700.00</td>\n",
       "      <td>1.414914e+07</td>\n",
       "      <td>1.676878e+08</td>\n",
       "    </tr>\n",
       "    <tr>\n",
       "      <th>bedroomcnt</th>\n",
       "      <td>28124.0</td>\n",
       "      <td>3.309487e+00</td>\n",
       "      <td>9.430731e-01</td>\n",
       "      <td>0.00</td>\n",
       "      <td>3.00</td>\n",
       "      <td>3.00</td>\n",
       "      <td>4.000000e+00</td>\n",
       "      <td>1.200000e+01</td>\n",
       "    </tr>\n",
       "    <tr>\n",
       "      <th>bathroomcnt</th>\n",
       "      <td>28124.0</td>\n",
       "      <td>2.316509e+00</td>\n",
       "      <td>1.016983e+00</td>\n",
       "      <td>0.00</td>\n",
       "      <td>2.00</td>\n",
       "      <td>2.00</td>\n",
       "      <td>3.000000e+00</td>\n",
       "      <td>1.100000e+01</td>\n",
       "    </tr>\n",
       "    <tr>\n",
       "      <th>calculatedfinishedsquarefeet</th>\n",
       "      <td>28077.0</td>\n",
       "      <td>1.934930e+03</td>\n",
       "      <td>9.956845e+02</td>\n",
       "      <td>240.00</td>\n",
       "      <td>1278.00</td>\n",
       "      <td>1675.00</td>\n",
       "      <td>2.326000e+03</td>\n",
       "      <td>1.724500e+04</td>\n",
       "    </tr>\n",
       "    <tr>\n",
       "      <th>taxvaluedollarcnt</th>\n",
       "      <td>28123.0</td>\n",
       "      <td>5.350049e+05</td>\n",
       "      <td>7.076811e+05</td>\n",
       "      <td>1000.00</td>\n",
       "      <td>198636.00</td>\n",
       "      <td>382798.00</td>\n",
       "      <td>6.327670e+05</td>\n",
       "      <td>2.385837e+07</td>\n",
       "    </tr>\n",
       "    <tr>\n",
       "      <th>taxamount</th>\n",
       "      <td>28123.0</td>\n",
       "      <td>6.508829e+03</td>\n",
       "      <td>8.221720e+03</td>\n",
       "      <td>51.26</td>\n",
       "      <td>2705.33</td>\n",
       "      <td>4735.28</td>\n",
       "      <td>7.528405e+03</td>\n",
       "      <td>2.767978e+05</td>\n",
       "    </tr>\n",
       "    <tr>\n",
       "      <th>assessmentyear</th>\n",
       "      <td>28124.0</td>\n",
       "      <td>2.016000e+03</td>\n",
       "      <td>0.000000e+00</td>\n",
       "      <td>2016.00</td>\n",
       "      <td>2016.00</td>\n",
       "      <td>2016.00</td>\n",
       "      <td>2.016000e+03</td>\n",
       "      <td>2.016000e+03</td>\n",
       "    </tr>\n",
       "    <tr>\n",
       "      <th>regionidcounty</th>\n",
       "      <td>28124.0</td>\n",
       "      <td>2.509061e+03</td>\n",
       "      <td>8.085885e+02</td>\n",
       "      <td>1286.00</td>\n",
       "      <td>1286.00</td>\n",
       "      <td>3101.00</td>\n",
       "      <td>3.101000e+03</td>\n",
       "      <td>3.101000e+03</td>\n",
       "    </tr>\n",
       "    <tr>\n",
       "      <th>regionidzip</th>\n",
       "      <td>28107.0</td>\n",
       "      <td>9.665625e+04</td>\n",
       "      <td>5.130263e+03</td>\n",
       "      <td>95982.00</td>\n",
       "      <td>96208.00</td>\n",
       "      <td>96414.00</td>\n",
       "      <td>9.699500e+04</td>\n",
       "      <td>3.996750e+05</td>\n",
       "    </tr>\n",
       "    <tr>\n",
       "      <th>fips</th>\n",
       "      <td>28124.0</td>\n",
       "      <td>6.049521e+03</td>\n",
       "      <td>2.130214e+01</td>\n",
       "      <td>6037.00</td>\n",
       "      <td>6037.00</td>\n",
       "      <td>6037.00</td>\n",
       "      <td>6.059000e+03</td>\n",
       "      <td>6.111000e+03</td>\n",
       "    </tr>\n",
       "  </tbody>\n",
       "</table>\n",
       "</div>"
      ],
      "text/plain": [
       "                                count          mean           std  \\\n",
       "parcelid                      28124.0  1.304239e+07  3.747700e+06   \n",
       "bedroomcnt                    28124.0  3.309487e+00  9.430731e-01   \n",
       "bathroomcnt                   28124.0  2.316509e+00  1.016983e+00   \n",
       "calculatedfinishedsquarefeet  28077.0  1.934930e+03  9.956845e+02   \n",
       "taxvaluedollarcnt             28123.0  5.350049e+05  7.076811e+05   \n",
       "taxamount                     28123.0  6.508829e+03  8.221720e+03   \n",
       "assessmentyear                28124.0  2.016000e+03  0.000000e+00   \n",
       "regionidcounty                28124.0  2.509061e+03  8.085885e+02   \n",
       "regionidzip                   28107.0  9.665625e+04  5.130263e+03   \n",
       "fips                          28124.0  6.049521e+03  2.130214e+01   \n",
       "\n",
       "                                      min          25%          50%  \\\n",
       "parcelid                      10711855.00  11513802.75  12596700.00   \n",
       "bedroomcnt                           0.00         3.00         3.00   \n",
       "bathroomcnt                          0.00         2.00         2.00   \n",
       "calculatedfinishedsquarefeet       240.00      1278.00      1675.00   \n",
       "taxvaluedollarcnt                 1000.00    198636.00    382798.00   \n",
       "taxamount                           51.26      2705.33      4735.28   \n",
       "assessmentyear                    2016.00      2016.00      2016.00   \n",
       "regionidcounty                    1286.00      1286.00      3101.00   \n",
       "regionidzip                      95982.00     96208.00     96414.00   \n",
       "fips                              6037.00      6037.00      6037.00   \n",
       "\n",
       "                                       75%           max  \n",
       "parcelid                      1.414914e+07  1.676878e+08  \n",
       "bedroomcnt                    4.000000e+00  1.200000e+01  \n",
       "bathroomcnt                   3.000000e+00  1.100000e+01  \n",
       "calculatedfinishedsquarefeet  2.326000e+03  1.724500e+04  \n",
       "taxvaluedollarcnt             6.327670e+05  2.385837e+07  \n",
       "taxamount                     7.528405e+03  2.767978e+05  \n",
       "assessmentyear                2.016000e+03  2.016000e+03  \n",
       "regionidcounty                3.101000e+03  3.101000e+03  \n",
       "regionidzip                   9.699500e+04  3.996750e+05  \n",
       "fips                          6.059000e+03  6.111000e+03  "
      ]
     },
     "execution_count": 4,
     "metadata": {},
     "output_type": "execute_result"
    }
   ],
   "source": [
    "df.describe().T"
   ]
  },
  {
   "cell_type": "code",
   "execution_count": 5,
   "id": "33f1d227",
   "metadata": {},
   "outputs": [
    {
     "data": {
      "text/plain": [
       "parcelid                         0\n",
       "bedroomcnt                       0\n",
       "bathroomcnt                      0\n",
       "calculatedfinishedsquarefeet    47\n",
       "taxvaluedollarcnt                1\n",
       "taxamount                        1\n",
       "assessmentyear                   0\n",
       "regionidcounty                   0\n",
       "regionidzip                     17\n",
       "fips                             0\n",
       "transactiondate                  0\n",
       "dtype: int64"
      ]
     },
     "execution_count": 5,
     "metadata": {},
     "output_type": "execute_result"
    }
   ],
   "source": [
    "# Let's check out how many missing values we have in the df\n",
    "df.isna().sum()"
   ]
  },
  {
   "cell_type": "code",
   "execution_count": 6,
   "id": "f6688c8d",
   "metadata": {},
   "outputs": [],
   "source": [
    "# Compared to the row count we have more than enough to drop these\n",
    "df = df.dropna()"
   ]
  },
  {
   "cell_type": "code",
   "execution_count": 7,
   "id": "7ef5d287",
   "metadata": {},
   "outputs": [
    {
     "data": {
      "text/plain": [
       "parcelid                          int64\n",
       "bedroomcnt                      float64\n",
       "bathroomcnt                     float64\n",
       "calculatedfinishedsquarefeet    float64\n",
       "taxvaluedollarcnt               float64\n",
       "taxamount                       float64\n",
       "assessmentyear                  float64\n",
       "regionidcounty                  float64\n",
       "regionidzip                     float64\n",
       "fips                            float64\n",
       "transactiondate                  object\n",
       "dtype: object"
      ]
     },
     "execution_count": 7,
     "metadata": {},
     "output_type": "execute_result"
    }
   ],
   "source": [
    "# Let's see if the datatypes are correct\n",
    "df.dtypes"
   ]
  },
  {
   "cell_type": "code",
   "execution_count": 8,
   "id": "e26a29f5",
   "metadata": {},
   "outputs": [],
   "source": [
    "# Next we can correct data types that are wrong\n",
    "df.parcelid = df.parcelid.astype('object')\n",
    "df.regionidcounty = df.regionidcounty.astype('object')\n",
    "df.regionidzip = df.regionidzip.astype('object')\n",
    "df.fips = df.fips.astype('object')\n",
    "df.taxvaluedollarcnt, df.assessmentyear = df.taxvaluedollarcnt.astype('int64'), df.assessmentyear.astype('int64')        "
   ]
  },
  {
   "cell_type": "code",
   "execution_count": 9,
   "id": "8587ffcf",
   "metadata": {},
   "outputs": [
    {
     "data": {
      "text/plain": [
       "(28060, 11)"
      ]
     },
     "execution_count": 9,
     "metadata": {},
     "output_type": "execute_result"
    }
   ],
   "source": [
    "df.shape"
   ]
  },
  {
   "cell_type": "code",
   "execution_count": 10,
   "id": "a33f0361",
   "metadata": {},
   "outputs": [
    {
     "data": {
      "text/plain": [
       "Index(['parcelid', 'bedroomcnt', 'bathroomcnt', 'calculatedfinishedsquarefeet',\n",
       "       'taxvaluedollarcnt', 'taxamount', 'assessmentyear', 'regionidcounty',\n",
       "       'regionidzip', 'fips', 'transactiondate'],\n",
       "      dtype='object')"
      ]
     },
     "execution_count": 10,
     "metadata": {},
     "output_type": "execute_result"
    }
   ],
   "source": [
    "df.columns"
   ]
  },
  {
   "cell_type": "code",
   "execution_count": 11,
   "id": "4b8331f4",
   "metadata": {},
   "outputs": [],
   "source": [
    "# I dont' need regionidzip so I'll drop that here\n",
    "df = df.drop(columns='regionidzip')"
   ]
  },
  {
   "cell_type": "code",
   "execution_count": 12,
   "id": "acdeb68d",
   "metadata": {},
   "outputs": [],
   "source": [
    "# Next I will rename the columns to be more recognizable\n",
    "df = df.rename(columns={\"bedroomcnt\": \"bedrooms\", \"bathroomcnt\": \"bathrooms\",\"calculatedfinishedsquarefeet\": \"area\",\"taxamount\":\"tax_amount\", \"taxvaluedollarcnt\": \"tax_value\", \"fips\": \"zipcode\", \"regionidcounty\": \"county_id\",\"assessmentyear\": \"assessment_year\", \"transactiondate\":\"transaction_date\" })"
   ]
  },
  {
   "cell_type": "code",
   "execution_count": 13,
   "id": "56b2af4c",
   "metadata": {},
   "outputs": [
    {
     "data": {
      "text/plain": [
       "(28060, 10)"
      ]
     },
     "execution_count": 13,
     "metadata": {},
     "output_type": "execute_result"
    }
   ],
   "source": [
    "df.shape"
   ]
  },
  {
   "cell_type": "code",
   "execution_count": 14,
   "id": "ce6924e0",
   "metadata": {},
   "outputs": [
    {
     "data": {
      "text/plain": [
       "Index(['parcelid', 'bedrooms', 'bathrooms', 'area', 'tax_value', 'tax_amount',\n",
       "       'assessment_year', 'county_id', 'zipcode', 'transaction_date'],\n",
       "      dtype='object')"
      ]
     },
     "execution_count": 14,
     "metadata": {},
     "output_type": "execute_result"
    }
   ],
   "source": [
    "df.columns"
   ]
  },
  {
   "cell_type": "code",
   "execution_count": 15,
   "id": "1dc48d28",
   "metadata": {},
   "outputs": [],
   "source": [
    "# Here I am going to check for possible erroneous entries and drop them\n",
    "df.drop(df[df['bedrooms'] < 1].index, inplace = True)"
   ]
  },
  {
   "cell_type": "code",
   "execution_count": 16,
   "id": "042793f5",
   "metadata": {},
   "outputs": [],
   "source": [
    "df.drop(df[df['bathrooms'] < 1].index, inplace = True)"
   ]
  },
  {
   "cell_type": "code",
   "execution_count": 17,
   "id": "a89bdfa8",
   "metadata": {},
   "outputs": [],
   "source": [
    "\n",
    "df.drop(df[df['area'] < 200].index, inplace = True)"
   ]
  },
  {
   "cell_type": "code",
   "execution_count": 18,
   "id": "45786c14",
   "metadata": {},
   "outputs": [
    {
     "data": {
      "text/plain": [
       "parcelid              int64\n",
       "bedrooms            float64\n",
       "bathrooms           float64\n",
       "area                float64\n",
       "tax_value             int64\n",
       "tax_amount          float64\n",
       "assessment_year       int64\n",
       "county_id            object\n",
       "zipcode              object\n",
       "transaction_date     object\n",
       "dtype: object"
      ]
     },
     "execution_count": 18,
     "metadata": {},
     "output_type": "execute_result"
    }
   ],
   "source": [
    "df.dtypes"
   ]
  },
  {
   "cell_type": "code",
   "execution_count": 20,
   "id": "7fadfb98",
   "metadata": {},
   "outputs": [],
   "source": [
    "# time to check for duplicates and remove them\n",
    "# dropping ALL duplicate values\n",
    "df.drop_duplicates(subset =\"parcelid\",\n",
    "                     keep = False, inplace = True)"
   ]
  },
  {
   "cell_type": "code",
   "execution_count": 21,
   "id": "bcda7bc0",
   "metadata": {},
   "outputs": [
    {
     "data": {
      "text/plain": [
       "(27981, 10)"
      ]
     },
     "execution_count": 21,
     "metadata": {},
     "output_type": "execute_result"
    }
   ],
   "source": [
    "df.shape"
   ]
  },
  {
   "cell_type": "code",
   "execution_count": null,
   "id": "44af74f9",
   "metadata": {},
   "outputs": [],
   "source": [
    "# calculate the tax rate and make a new column/feature \n",
    "df['tax_rate']= df['tax_amount']/df['tax_value']"
   ]
  },
  {
   "cell_type": "markdown",
   "id": "1858cce7",
   "metadata": {},
   "source": [
    "### With the plot below I answer the request for the distribution of tax rates for each county:\n",
    "- 3101 = Los Angeles,  1286 = Orange County,  2061 = Ventura\n",
    "- As you can see below the average tax rate for Los Angeles is the highest, followed by Orange County and then the least is Ventura."
   ]
  },
  {
   "cell_type": "code",
   "execution_count": null,
   "id": "51a37ab5",
   "metadata": {},
   "outputs": [],
   "source": [
    "# here you can see how many homes reside in each county\n",
    "df.county_id.value_counts()"
   ]
  },
  {
   "cell_type": "code",
   "execution_count": null,
   "id": "33d596de",
   "metadata": {},
   "outputs": [],
   "source": [
    "# here you can visualize the distribution\n",
    "sns.jointplot(x=df[\"county_id\"], y=df[\"tax_rate\"], kind='scatter')"
   ]
  },
  {
   "cell_type": "markdown",
   "id": "d30757fb",
   "metadata": {},
   "source": [
    "### Data dictionary"
   ]
  },
  {
   "cell_type": "markdown",
   "id": "195d7b59",
   "metadata": {},
   "source": [
    "| Feature               | Datatype               | Description                                                |\n",
    "|:----------------------|:-----------------------|:-----------------------------------------------------------|\n",
    "| assessmentyear        | int64                  | The year of the property tax assessment                    | \n",
    "| bathrooms             | float64                | Number of bathrooms in home including fractional bathrooms |\n",
    "| bedrooms              | float64                | Number of bedrooms in home                                 |\n",
    "| area                  | float64                | Calculated total finished living area of the home          |\n",
    "| parcelid              | Object                 | Unique identifier for parcels (lots)                       |\n",
    "| county_id             | Object                 | County id which the property is located                    |\n",
    "| zipcode               | Object                 | Zip code in which the property is located                  | | tax_amount            | float64                | The total property tax assessed for that assessment year   |\n",
    "| tax_value             | int64.                 | The total tax assessed value of the parcel                 |\n"
   ]
  },
  {
   "cell_type": "code",
   "execution_count": null,
   "id": "d75e4ca4",
   "metadata": {},
   "outputs": [],
   "source": []
  },
  {
   "cell_type": "code",
   "execution_count": null,
   "id": "4824b228",
   "metadata": {},
   "outputs": [],
   "source": []
  },
  {
   "cell_type": "code",
   "execution_count": null,
   "id": "03d0625e",
   "metadata": {},
   "outputs": [],
   "source": [
    "def prep_zillow_data(df):\n",
    "    ''' This function preps the data by dropping rows with nulls, correcting datatypes, renaming the columns, \n",
    "    dropping rows with erroneous entries, creating a tax_rate column,\n",
    "    for better understanding, '''\n",
    "    # Compared to the row count we have more than enough to drop these\n",
    "    df = df.dropna()\n",
    "    # Next we can correct data types that are wrong\n",
    "    df.parcelid = df.parcelid.astype('object')\n",
    "    df.regionidcounty = df.regionidcounty.astype('object')\n",
    "    df.regionidzip = df.regionidzip.astype('object')\n",
    "    df.fips = df.fips.astype('object')\n",
    "    df.taxvaluedollarcnt, df.assessmentyear = df.taxvaluedollarcnt.astype('int64'), df.assessmentyear.astype('int64')   \n",
    "    # Next I will rename the columns to be more recognizable\n",
    "    df = df.rename(columns={\"bedroomcnt\": \"bedrooms\", \"bathroomcnt\": \"bathrooms\",\"calculatedfinishedsquarefeet\": \"area\",\"taxamount\": \"tax_amount\", \"taxvaluedollarcnt\": \"tax_value\", \"fips\": \"zipcode\", \"regionidcounty\": \"county_id\",\"assessmentyear\": \"assessment_year\", \"transactiondate\":\"transaction_date\" })\n",
    "    # Here I check for erroneous entries and drop them\n",
    "    df.drop(df[df['bedrooms'] < 1].index, inplace = True)\n",
    "    df.drop(df[df['bathrooms'] < 1].index, inplace = True)\n",
    "    df.drop(df[df['area'] < 200].index, inplace = True)\n",
    "    # calculate the tax rate and make a new column/feature \n",
    "    df['tax_rate']= df['tax_amount']/df['tax_value']\n",
    "    # time to check for duplicates and remove them\n",
    "    # dropping ALL duplicate values\n",
    "    df.drop_duplicates(subset =\"parcelid\",\n",
    "                         keep = False, inplace = True)"
   ]
  },
  {
   "cell_type": "code",
   "execution_count": null,
   "id": "f6b1770a",
   "metadata": {},
   "outputs": [],
   "source": []
  }
 ],
 "metadata": {
  "kernelspec": {
   "display_name": "Python 3",
   "language": "python",
   "name": "python3"
  },
  "language_info": {
   "codemirror_mode": {
    "name": "ipython",
    "version": 3
   },
   "file_extension": ".py",
   "mimetype": "text/x-python",
   "name": "python",
   "nbconvert_exporter": "python",
   "pygments_lexer": "ipython3",
   "version": "3.8.8"
  }
 },
 "nbformat": 4,
 "nbformat_minor": 5
}
