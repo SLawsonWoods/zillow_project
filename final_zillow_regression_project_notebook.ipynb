{
 "cells": [
  {
   "cell_type": "code",
   "execution_count": 1,
   "id": "a01bba9d",
   "metadata": {},
   "outputs": [],
   "source": [
    "import pandas as pd\n",
    "import numpy as np\n",
    "from env import user, password, host\n",
    "import acquire        \n",
    "from acquire import url, query\n",
    "import prepare\n",
    "import explore\n",
    "from scipy import stats\n",
    "from sklearn.model_selection import train_test_split\n",
    "from scipy.stats import pearsonr, spearmanr\n",
    "\n",
    "import matplotlib.pyplot as plt\n",
    "from matplotlib.pyplot import figure\n",
    "import seaborn as sns\n",
    "\n",
    "import sklearn\n",
    "from sklearn.model_selection import train_test_split\n",
    "from sklearn.impute import SimpleImputer\n",
    "from sklearn.preprocessing import MinMaxScaler\n",
    "\n",
    "# modeling methods\n",
    "from sklearn.metrics import mean_squared_error\n",
    "from sklearn.linear_model import LinearRegression, LassoLars, TweedieRegressor\n",
    "from sklearn.preprocessing import PolynomialFeatures\n",
    "\n",
    "import warnings\n",
    "warnings.filterwarnings(\"ignore\")"
   ]
  },
  {
   "cell_type": "markdown",
   "id": "dd22d337",
   "metadata": {},
   "source": [
    "# Acquire"
   ]
  },
  {
   "cell_type": "code",
   "execution_count": 2,
   "id": "1cc86efd",
   "metadata": {},
   "outputs": [
    {
     "data": {
      "text/html": [
       "<div>\n",
       "<style scoped>\n",
       "    .dataframe tbody tr th:only-of-type {\n",
       "        vertical-align: middle;\n",
       "    }\n",
       "\n",
       "    .dataframe tbody tr th {\n",
       "        vertical-align: top;\n",
       "    }\n",
       "\n",
       "    .dataframe thead th {\n",
       "        text-align: right;\n",
       "    }\n",
       "</style>\n",
       "<table border=\"1\" class=\"dataframe\">\n",
       "  <thead>\n",
       "    <tr style=\"text-align: right;\">\n",
       "      <th></th>\n",
       "      <th>parcelid</th>\n",
       "      <th>bedroomcnt</th>\n",
       "      <th>bathroomcnt</th>\n",
       "      <th>calculatedfinishedsquarefeet</th>\n",
       "      <th>taxvaluedollarcnt</th>\n",
       "      <th>taxamount</th>\n",
       "      <th>assessmentyear</th>\n",
       "      <th>regionidcounty</th>\n",
       "      <th>regionidzip</th>\n",
       "      <th>fips</th>\n",
       "      <th>transactiondate</th>\n",
       "    </tr>\n",
       "  </thead>\n",
       "  <tbody>\n",
       "    <tr>\n",
       "      <th>0</th>\n",
       "      <td>11721753</td>\n",
       "      <td>3.0</td>\n",
       "      <td>2.0</td>\n",
       "      <td>1316.0</td>\n",
       "      <td>205123.0</td>\n",
       "      <td>2627.48</td>\n",
       "      <td>2016.0</td>\n",
       "      <td>3101.0</td>\n",
       "      <td>95997.0</td>\n",
       "      <td>6037.0</td>\n",
       "      <td>2017-07-21</td>\n",
       "    </tr>\n",
       "    <tr>\n",
       "      <th>1</th>\n",
       "      <td>11289917</td>\n",
       "      <td>3.0</td>\n",
       "      <td>2.0</td>\n",
       "      <td>1458.0</td>\n",
       "      <td>136104.0</td>\n",
       "      <td>2319.90</td>\n",
       "      <td>2016.0</td>\n",
       "      <td>3101.0</td>\n",
       "      <td>97318.0</td>\n",
       "      <td>6037.0</td>\n",
       "      <td>2017-06-23</td>\n",
       "    </tr>\n",
       "    <tr>\n",
       "      <th>2</th>\n",
       "      <td>11705026</td>\n",
       "      <td>2.0</td>\n",
       "      <td>1.0</td>\n",
       "      <td>1421.0</td>\n",
       "      <td>35606.0</td>\n",
       "      <td>543.69</td>\n",
       "      <td>2016.0</td>\n",
       "      <td>3101.0</td>\n",
       "      <td>96018.0</td>\n",
       "      <td>6037.0</td>\n",
       "      <td>2017-06-30</td>\n",
       "    </tr>\n",
       "    <tr>\n",
       "      <th>3</th>\n",
       "      <td>14269464</td>\n",
       "      <td>4.0</td>\n",
       "      <td>3.0</td>\n",
       "      <td>2541.0</td>\n",
       "      <td>880456.0</td>\n",
       "      <td>9819.72</td>\n",
       "      <td>2016.0</td>\n",
       "      <td>1286.0</td>\n",
       "      <td>96958.0</td>\n",
       "      <td>6059.0</td>\n",
       "      <td>2017-06-01</td>\n",
       "    </tr>\n",
       "    <tr>\n",
       "      <th>4</th>\n",
       "      <td>11446756</td>\n",
       "      <td>3.0</td>\n",
       "      <td>2.0</td>\n",
       "      <td>1491.0</td>\n",
       "      <td>107110.0</td>\n",
       "      <td>1399.27</td>\n",
       "      <td>2016.0</td>\n",
       "      <td>3101.0</td>\n",
       "      <td>96162.0</td>\n",
       "      <td>6037.0</td>\n",
       "      <td>2017-08-23</td>\n",
       "    </tr>\n",
       "    <tr>\n",
       "      <th>...</th>\n",
       "      <td>...</td>\n",
       "      <td>...</td>\n",
       "      <td>...</td>\n",
       "      <td>...</td>\n",
       "      <td>...</td>\n",
       "      <td>...</td>\n",
       "      <td>...</td>\n",
       "      <td>...</td>\n",
       "      <td>...</td>\n",
       "      <td>...</td>\n",
       "      <td>...</td>\n",
       "    </tr>\n",
       "    <tr>\n",
       "      <th>28119</th>\n",
       "      <td>11991766</td>\n",
       "      <td>6.0</td>\n",
       "      <td>2.0</td>\n",
       "      <td>2634.0</td>\n",
       "      <td>878190.0</td>\n",
       "      <td>12766.88</td>\n",
       "      <td>2016.0</td>\n",
       "      <td>3101.0</td>\n",
       "      <td>95985.0</td>\n",
       "      <td>6037.0</td>\n",
       "      <td>2017-08-31</td>\n",
       "    </tr>\n",
       "    <tr>\n",
       "      <th>28120</th>\n",
       "      <td>14011468</td>\n",
       "      <td>4.0</td>\n",
       "      <td>1.5</td>\n",
       "      <td>1187.0</td>\n",
       "      <td>465999.0</td>\n",
       "      <td>5552.68</td>\n",
       "      <td>2016.0</td>\n",
       "      <td>1286.0</td>\n",
       "      <td>96180.0</td>\n",
       "      <td>6059.0</td>\n",
       "      <td>2017-08-31</td>\n",
       "    </tr>\n",
       "    <tr>\n",
       "      <th>28121</th>\n",
       "      <td>14453399</td>\n",
       "      <td>5.0</td>\n",
       "      <td>3.0</td>\n",
       "      <td>3015.0</td>\n",
       "      <td>852813.0</td>\n",
       "      <td>11662.88</td>\n",
       "      <td>2016.0</td>\n",
       "      <td>1286.0</td>\n",
       "      <td>96983.0</td>\n",
       "      <td>6059.0</td>\n",
       "      <td>2017-08-31</td>\n",
       "    </tr>\n",
       "    <tr>\n",
       "      <th>28122</th>\n",
       "      <td>11128688</td>\n",
       "      <td>5.0</td>\n",
       "      <td>3.0</td>\n",
       "      <td>2992.0</td>\n",
       "      <td>1120000.0</td>\n",
       "      <td>13663.03</td>\n",
       "      <td>2016.0</td>\n",
       "      <td>3101.0</td>\n",
       "      <td>96356.0</td>\n",
       "      <td>6037.0</td>\n",
       "      <td>2017-08-31</td>\n",
       "    </tr>\n",
       "    <tr>\n",
       "      <th>28123</th>\n",
       "      <td>10713993</td>\n",
       "      <td>3.0</td>\n",
       "      <td>3.0</td>\n",
       "      <td>1574.0</td>\n",
       "      <td>563463.0</td>\n",
       "      <td>6903.66</td>\n",
       "      <td>2016.0</td>\n",
       "      <td>3101.0</td>\n",
       "      <td>96346.0</td>\n",
       "      <td>6037.0</td>\n",
       "      <td>2017-08-31</td>\n",
       "    </tr>\n",
       "  </tbody>\n",
       "</table>\n",
       "<p>28124 rows × 11 columns</p>\n",
       "</div>"
      ],
      "text/plain": [
       "       parcelid  bedroomcnt  bathroomcnt  calculatedfinishedsquarefeet  \\\n",
       "0      11721753         3.0          2.0                        1316.0   \n",
       "1      11289917         3.0          2.0                        1458.0   \n",
       "2      11705026         2.0          1.0                        1421.0   \n",
       "3      14269464         4.0          3.0                        2541.0   \n",
       "4      11446756         3.0          2.0                        1491.0   \n",
       "...         ...         ...          ...                           ...   \n",
       "28119  11991766         6.0          2.0                        2634.0   \n",
       "28120  14011468         4.0          1.5                        1187.0   \n",
       "28121  14453399         5.0          3.0                        3015.0   \n",
       "28122  11128688         5.0          3.0                        2992.0   \n",
       "28123  10713993         3.0          3.0                        1574.0   \n",
       "\n",
       "       taxvaluedollarcnt  taxamount  assessmentyear  regionidcounty  \\\n",
       "0               205123.0    2627.48          2016.0          3101.0   \n",
       "1               136104.0    2319.90          2016.0          3101.0   \n",
       "2                35606.0     543.69          2016.0          3101.0   \n",
       "3               880456.0    9819.72          2016.0          1286.0   \n",
       "4               107110.0    1399.27          2016.0          3101.0   \n",
       "...                  ...        ...             ...             ...   \n",
       "28119           878190.0   12766.88          2016.0          3101.0   \n",
       "28120           465999.0    5552.68          2016.0          1286.0   \n",
       "28121           852813.0   11662.88          2016.0          1286.0   \n",
       "28122          1120000.0   13663.03          2016.0          3101.0   \n",
       "28123           563463.0    6903.66          2016.0          3101.0   \n",
       "\n",
       "       regionidzip    fips transactiondate  \n",
       "0          95997.0  6037.0      2017-07-21  \n",
       "1          97318.0  6037.0      2017-06-23  \n",
       "2          96018.0  6037.0      2017-06-30  \n",
       "3          96958.0  6059.0      2017-06-01  \n",
       "4          96162.0  6037.0      2017-08-23  \n",
       "...            ...     ...             ...  \n",
       "28119      95985.0  6037.0      2017-08-31  \n",
       "28120      96180.0  6059.0      2017-08-31  \n",
       "28121      96983.0  6059.0      2017-08-31  \n",
       "28122      96356.0  6037.0      2017-08-31  \n",
       "28123      96346.0  6037.0      2017-08-31  \n",
       "\n",
       "[28124 rows x 11 columns]"
      ]
     },
     "execution_count": 2,
     "metadata": {},
     "output_type": "execute_result"
    }
   ],
   "source": [
    "df = pd.read_sql(query, url)\n",
    "df"
   ]
  },
  {
   "cell_type": "markdown",
   "id": "317737fd",
   "metadata": {},
   "source": [
    "### Takeways\n",
    "- My SQL query brings in all the columns necessary to ask the questions posed by the zillow team narrowing down the database to single unit properties with transactions during May-Aug 2017\n",
    "- I am bringing in 28,124 rows and 11 columns initially"
   ]
  },
  {
   "cell_type": "markdown",
   "id": "46466954",
   "metadata": {},
   "source": [
    "# Prepare"
   ]
  },
  {
   "cell_type": "markdown",
   "id": "b968df36",
   "metadata": {},
   "source": [
    "I need to prepare one dataframe for answering the questions posed I named df that will include the tax rate, and a 2nd dataframe name df2 that is for exploring and modeling which will not include the tax rate as this would cause target leakage."
   ]
  },
  {
   "cell_type": "code",
   "execution_count": 3,
   "id": "b81f8b9c",
   "metadata": {},
   "outputs": [
    {
     "name": "stdout",
     "output_type": "stream",
     "text": [
      "<class 'pandas.core.frame.DataFrame'>\n",
      "RangeIndex: 28124 entries, 0 to 28123\n",
      "Data columns (total 11 columns):\n",
      " #   Column                        Non-Null Count  Dtype  \n",
      "---  ------                        --------------  -----  \n",
      " 0   parcelid                      28124 non-null  int64  \n",
      " 1   bedroomcnt                    28124 non-null  float64\n",
      " 2   bathroomcnt                   28124 non-null  float64\n",
      " 3   calculatedfinishedsquarefeet  28077 non-null  float64\n",
      " 4   taxvaluedollarcnt             28123 non-null  float64\n",
      " 5   taxamount                     28123 non-null  float64\n",
      " 6   assessmentyear                28124 non-null  float64\n",
      " 7   regionidcounty                28124 non-null  float64\n",
      " 8   regionidzip                   28107 non-null  float64\n",
      " 9   fips                          28124 non-null  float64\n",
      " 10  transactiondate               28124 non-null  object \n",
      "dtypes: float64(9), int64(1), object(1)\n",
      "memory usage: 2.4+ MB\n"
     ]
    }
   ],
   "source": [
    "df.info()"
   ]
  },
  {
   "cell_type": "code",
   "execution_count": 4,
   "id": "38acffe0",
   "metadata": {},
   "outputs": [
    {
     "data": {
      "text/html": [
       "<div>\n",
       "<style scoped>\n",
       "    .dataframe tbody tr th:only-of-type {\n",
       "        vertical-align: middle;\n",
       "    }\n",
       "\n",
       "    .dataframe tbody tr th {\n",
       "        vertical-align: top;\n",
       "    }\n",
       "\n",
       "    .dataframe thead th {\n",
       "        text-align: right;\n",
       "    }\n",
       "</style>\n",
       "<table border=\"1\" class=\"dataframe\">\n",
       "  <thead>\n",
       "    <tr style=\"text-align: right;\">\n",
       "      <th></th>\n",
       "      <th>count</th>\n",
       "      <th>mean</th>\n",
       "      <th>std</th>\n",
       "      <th>min</th>\n",
       "      <th>25%</th>\n",
       "      <th>50%</th>\n",
       "      <th>75%</th>\n",
       "      <th>max</th>\n",
       "    </tr>\n",
       "  </thead>\n",
       "  <tbody>\n",
       "    <tr>\n",
       "      <th>parcelid</th>\n",
       "      <td>28124.0</td>\n",
       "      <td>1.304239e+07</td>\n",
       "      <td>3.747700e+06</td>\n",
       "      <td>10711855.00</td>\n",
       "      <td>11513802.75</td>\n",
       "      <td>12596700.00</td>\n",
       "      <td>1.414914e+07</td>\n",
       "      <td>1.676878e+08</td>\n",
       "    </tr>\n",
       "    <tr>\n",
       "      <th>bedroomcnt</th>\n",
       "      <td>28124.0</td>\n",
       "      <td>3.309487e+00</td>\n",
       "      <td>9.430731e-01</td>\n",
       "      <td>0.00</td>\n",
       "      <td>3.00</td>\n",
       "      <td>3.00</td>\n",
       "      <td>4.000000e+00</td>\n",
       "      <td>1.200000e+01</td>\n",
       "    </tr>\n",
       "    <tr>\n",
       "      <th>bathroomcnt</th>\n",
       "      <td>28124.0</td>\n",
       "      <td>2.316509e+00</td>\n",
       "      <td>1.016983e+00</td>\n",
       "      <td>0.00</td>\n",
       "      <td>2.00</td>\n",
       "      <td>2.00</td>\n",
       "      <td>3.000000e+00</td>\n",
       "      <td>1.100000e+01</td>\n",
       "    </tr>\n",
       "    <tr>\n",
       "      <th>calculatedfinishedsquarefeet</th>\n",
       "      <td>28077.0</td>\n",
       "      <td>1.934930e+03</td>\n",
       "      <td>9.956845e+02</td>\n",
       "      <td>240.00</td>\n",
       "      <td>1278.00</td>\n",
       "      <td>1675.00</td>\n",
       "      <td>2.326000e+03</td>\n",
       "      <td>1.724500e+04</td>\n",
       "    </tr>\n",
       "    <tr>\n",
       "      <th>taxvaluedollarcnt</th>\n",
       "      <td>28123.0</td>\n",
       "      <td>5.350049e+05</td>\n",
       "      <td>7.076811e+05</td>\n",
       "      <td>1000.00</td>\n",
       "      <td>198636.00</td>\n",
       "      <td>382798.00</td>\n",
       "      <td>6.327670e+05</td>\n",
       "      <td>2.385837e+07</td>\n",
       "    </tr>\n",
       "    <tr>\n",
       "      <th>taxamount</th>\n",
       "      <td>28123.0</td>\n",
       "      <td>6.508829e+03</td>\n",
       "      <td>8.221720e+03</td>\n",
       "      <td>51.26</td>\n",
       "      <td>2705.33</td>\n",
       "      <td>4735.28</td>\n",
       "      <td>7.528405e+03</td>\n",
       "      <td>2.767978e+05</td>\n",
       "    </tr>\n",
       "    <tr>\n",
       "      <th>assessmentyear</th>\n",
       "      <td>28124.0</td>\n",
       "      <td>2.016000e+03</td>\n",
       "      <td>0.000000e+00</td>\n",
       "      <td>2016.00</td>\n",
       "      <td>2016.00</td>\n",
       "      <td>2016.00</td>\n",
       "      <td>2.016000e+03</td>\n",
       "      <td>2.016000e+03</td>\n",
       "    </tr>\n",
       "    <tr>\n",
       "      <th>regionidcounty</th>\n",
       "      <td>28124.0</td>\n",
       "      <td>2.509061e+03</td>\n",
       "      <td>8.085885e+02</td>\n",
       "      <td>1286.00</td>\n",
       "      <td>1286.00</td>\n",
       "      <td>3101.00</td>\n",
       "      <td>3.101000e+03</td>\n",
       "      <td>3.101000e+03</td>\n",
       "    </tr>\n",
       "    <tr>\n",
       "      <th>regionidzip</th>\n",
       "      <td>28107.0</td>\n",
       "      <td>9.665625e+04</td>\n",
       "      <td>5.130263e+03</td>\n",
       "      <td>95982.00</td>\n",
       "      <td>96208.00</td>\n",
       "      <td>96414.00</td>\n",
       "      <td>9.699500e+04</td>\n",
       "      <td>3.996750e+05</td>\n",
       "    </tr>\n",
       "    <tr>\n",
       "      <th>fips</th>\n",
       "      <td>28124.0</td>\n",
       "      <td>6.049521e+03</td>\n",
       "      <td>2.130214e+01</td>\n",
       "      <td>6037.00</td>\n",
       "      <td>6037.00</td>\n",
       "      <td>6037.00</td>\n",
       "      <td>6.059000e+03</td>\n",
       "      <td>6.111000e+03</td>\n",
       "    </tr>\n",
       "  </tbody>\n",
       "</table>\n",
       "</div>"
      ],
      "text/plain": [
       "                                count          mean           std  \\\n",
       "parcelid                      28124.0  1.304239e+07  3.747700e+06   \n",
       "bedroomcnt                    28124.0  3.309487e+00  9.430731e-01   \n",
       "bathroomcnt                   28124.0  2.316509e+00  1.016983e+00   \n",
       "calculatedfinishedsquarefeet  28077.0  1.934930e+03  9.956845e+02   \n",
       "taxvaluedollarcnt             28123.0  5.350049e+05  7.076811e+05   \n",
       "taxamount                     28123.0  6.508829e+03  8.221720e+03   \n",
       "assessmentyear                28124.0  2.016000e+03  0.000000e+00   \n",
       "regionidcounty                28124.0  2.509061e+03  8.085885e+02   \n",
       "regionidzip                   28107.0  9.665625e+04  5.130263e+03   \n",
       "fips                          28124.0  6.049521e+03  2.130214e+01   \n",
       "\n",
       "                                      min          25%          50%  \\\n",
       "parcelid                      10711855.00  11513802.75  12596700.00   \n",
       "bedroomcnt                           0.00         3.00         3.00   \n",
       "bathroomcnt                          0.00         2.00         2.00   \n",
       "calculatedfinishedsquarefeet       240.00      1278.00      1675.00   \n",
       "taxvaluedollarcnt                 1000.00    198636.00    382798.00   \n",
       "taxamount                           51.26      2705.33      4735.28   \n",
       "assessmentyear                    2016.00      2016.00      2016.00   \n",
       "regionidcounty                    1286.00      1286.00      3101.00   \n",
       "regionidzip                      95982.00     96208.00     96414.00   \n",
       "fips                              6037.00      6037.00      6037.00   \n",
       "\n",
       "                                       75%           max  \n",
       "parcelid                      1.414914e+07  1.676878e+08  \n",
       "bedroomcnt                    4.000000e+00  1.200000e+01  \n",
       "bathroomcnt                   3.000000e+00  1.100000e+01  \n",
       "calculatedfinishedsquarefeet  2.326000e+03  1.724500e+04  \n",
       "taxvaluedollarcnt             6.327670e+05  2.385837e+07  \n",
       "taxamount                     7.528405e+03  2.767978e+05  \n",
       "assessmentyear                2.016000e+03  2.016000e+03  \n",
       "regionidcounty                3.101000e+03  3.101000e+03  \n",
       "regionidzip                   9.699500e+04  3.996750e+05  \n",
       "fips                          6.059000e+03  6.111000e+03  "
      ]
     },
     "execution_count": 4,
     "metadata": {},
     "output_type": "execute_result"
    }
   ],
   "source": [
    "df.describe().T"
   ]
  },
  {
   "cell_type": "code",
   "execution_count": 5,
   "id": "826a3b49",
   "metadata": {},
   "outputs": [
    {
     "data": {
      "text/plain": [
       "(28124, 11)"
      ]
     },
     "execution_count": 5,
     "metadata": {},
     "output_type": "execute_result"
    }
   ],
   "source": [
    "df.shape"
   ]
  },
  {
   "cell_type": "code",
   "execution_count": 6,
   "id": "b591f5c3",
   "metadata": {},
   "outputs": [
    {
     "data": {
      "text/plain": [
       "Index(['parcelid', 'bedroomcnt', 'bathroomcnt', 'calculatedfinishedsquarefeet',\n",
       "       'taxvaluedollarcnt', 'taxamount', 'assessmentyear', 'regionidcounty',\n",
       "       'regionidzip', 'fips', 'transactiondate'],\n",
       "      dtype='object')"
      ]
     },
     "execution_count": 6,
     "metadata": {},
     "output_type": "execute_result"
    }
   ],
   "source": [
    "df.columns"
   ]
  },
  {
   "cell_type": "code",
   "execution_count": 7,
   "id": "f1f6f621",
   "metadata": {},
   "outputs": [
    {
     "data": {
      "text/plain": [
       "parcelid                          int64\n",
       "bedroomcnt                      float64\n",
       "bathroomcnt                     float64\n",
       "calculatedfinishedsquarefeet    float64\n",
       "taxvaluedollarcnt               float64\n",
       "taxamount                       float64\n",
       "assessmentyear                  float64\n",
       "regionidcounty                  float64\n",
       "regionidzip                     float64\n",
       "fips                            float64\n",
       "transactiondate                  object\n",
       "dtype: object"
      ]
     },
     "execution_count": 7,
     "metadata": {},
     "output_type": "execute_result"
    }
   ],
   "source": [
    "df.dtypes"
   ]
  },
  {
   "cell_type": "code",
   "execution_count": 8,
   "id": "d0345b58",
   "metadata": {},
   "outputs": [],
   "source": [
    "df =prepare.prep_zillow_data(df)"
   ]
  },
  {
   "cell_type": "code",
   "execution_count": 9,
   "id": "d29e74e2",
   "metadata": {},
   "outputs": [
    {
     "data": {
      "text/plain": [
       "Index(['parcelid', 'bedrooms', 'bathrooms', 'area', 'tax_value', 'tax_amount',\n",
       "       'assessment_year', 'county_id', 'regionidzip', 'zipcode',\n",
       "       'transaction_date', 'tax_rate'],\n",
       "      dtype='object')"
      ]
     },
     "execution_count": 9,
     "metadata": {},
     "output_type": "execute_result"
    }
   ],
   "source": [
    "df.columns"
   ]
  },
  {
   "cell_type": "code",
   "execution_count": 10,
   "id": "e6a49c37",
   "metadata": {},
   "outputs": [
    {
     "data": {
      "text/plain": [
       "<Figure size 576x720 with 0 Axes>"
      ]
     },
     "execution_count": 10,
     "metadata": {},
     "output_type": "execute_result"
    },
    {
     "data": {
      "image/png": "[encoded data removed]",
      "text/plain": [
       "<Figure size 432x288 with 9 Axes>"
      ]
     },
     "metadata": {
      "needs_background": "light"
     },
     "output_type": "display_data"
    },
    {
     "data": {
      "text/plain": [
       "<Figure size 576x720 with 0 Axes>"
      ]
     },
     "metadata": {},
     "output_type": "display_data"
    }
   ],
   "source": [
    "df.hist()\n",
    "plt.figure(figsize=(8,10))"
   ]
  },
  {
   "cell_type": "code",
   "execution_count": 12,
   "id": "401f3df3",
   "metadata": {},
   "outputs": [],
   "source": [
    "# removing outliers\n",
    "df = prepare.remove_outliers(df, 1.5, ['bedrooms', 'bathrooms', 'area', 'tax_value'])"
   ]
  },
  {
   "cell_type": "code",
   "execution_count": 13,
   "id": "11a60d08",
   "metadata": {},
   "outputs": [],
   "source": [
    "df2 = df"
   ]
  },
  {
   "cell_type": "markdown",
   "id": "edfe5a02",
   "metadata": {},
   "source": [
    "### With the plot below I answer the request for the distribution of tax rates for each county:\n",
    "- 3101 = Los Angeles,  1286 = Orange County,  2061 = Ventura\n",
    "- As you can see below the average tax rate for Los Angeles is the highest, followed by Orange County and then the least is Ventura."
   ]
  },
  {
   "cell_type": "code",
   "execution_count": 14,
   "id": "9e00cf5c",
   "metadata": {},
   "outputs": [
    {
     "data": {
      "text/plain": [
       "3101.0    15660\n",
       "1286.0     6644\n",
       "2061.0     2168\n",
       "Name: county_id, dtype: int64"
      ]
     },
     "execution_count": 14,
     "metadata": {},
     "output_type": "execute_result"
    }
   ],
   "source": [
    "# here you can see how many homes reside in each county\n",
    "df.county_id.value_counts()"
   ]
  },
  {
   "cell_type": "code",
   "execution_count": 15,
   "id": "615b1919",
   "metadata": {},
   "outputs": [
    {
     "data": {
      "text/plain": [
       "<seaborn.axisgrid.JointGrid at 0x7f87e5c1e400>"
      ]
     },
     "execution_count": 15,
     "metadata": {},
     "output_type": "execute_result"
    },
    {
     "data": {
      "image/png": "[encoded data removed]",
      "text/plain": [
       "<Figure size 432x432 with 3 Axes>"
      ]
     },
     "metadata": {
      "needs_background": "light"
     },
     "output_type": "display_data"
    }
   ],
   "source": [
    "# here you can visualize the distribution\n",
    "sns.jointplot(x=df[\"county_id\"], y=df[\"tax_rate\"], kind='scatter')"
   ]
  },
  {
   "cell_type": "markdown",
   "id": "666adb68",
   "metadata": {},
   "source": [
    "### Data dictionary"
   ]
  },
  {
   "cell_type": "markdown",
   "id": "d8fa91fe",
   "metadata": {},
   "source": [
    "| Feature               | Datatype               | Description                                                |\n",
    "|:----------------------|:-----------------------|:-----------------------------------------------------------|\n",
    "| assessmentyear        | int64                  | The year of the property tax assessment                    | \n",
    "| bathrooms             | float64                | Number of bathrooms in home including fractional bathrooms |\n",
    "| bedrooms              | float64                | Number of bedrooms in home                                 |\n",
    "| area                  | float64                | Calculated total finished living area of the home          |\n",
    "| parcelid              | Object                 | Unique identifier for parcels (lots)                       |\n",
    "| county_id             | Object                 | County id which the property is located                    |\n",
    "| zipcode               | Object                 | Zip code in which the property is located                  | | tax_amount            | float64                | The total property tax assessed for that assessment year   |\n",
    "| tax_value             | int64.                 | The total tax assessed value of the parcel                 |\n"
   ]
  },
  {
   "cell_type": "code",
   "execution_count": 16,
   "id": "4fc8f798",
   "metadata": {},
   "outputs": [],
   "source": [
    "# before I split the df2 for exploration and modeling I need to drop anything that wont be helpful in exploration or will allow target leakage\n",
    "df2 = df2.drop(columns=['assessment_year', 'county_id', 'transaction_date','tax_rate'])"
   ]
  },
  {
   "cell_type": "code",
   "execution_count": 17,
   "id": "22f3bbd4",
   "metadata": {},
   "outputs": [],
   "source": [
    "# splitting the data\n",
    "train, validate, test, X_train, y_train, X_validate, y_validate, X_test, y_test = prepare.train_validate_test(df2, 'tax_value')"
   ]
  },
  {
   "cell_type": "code",
   "execution_count": 18,
   "id": "c8e40ecb",
   "metadata": {},
   "outputs": [
    {
     "data": {
      "text/plain": [
       "Text(0.5, 1.0, 'Scaled')"
      ]
     },
     "execution_count": 18,
     "metadata": {},
     "output_type": "execute_result"
    },
    {
     "data": {
      "image/png": "[encoded data removed]",
      "text/plain": [
       "<Figure size 936x432 with 2 Axes>"
      ]
     },
     "metadata": {
      "needs_background": "light"
     },
     "output_type": "display_data"
    }
   ],
   "source": [
    "# scaling the data\n",
    "scaler = sklearn.preprocessing.MinMaxScaler()\n",
    "# Note that we only call .fit with the training data,\n",
    "# but we use .transform to apply the scaling to all the data splits.\n",
    "scaler.fit(X_train)\n",
    "\n",
    "X_train_scaled = scaler.transform(X_train)\n",
    "X_validate_scaled = scaler.transform(X_validate)\n",
    "X_test_scaled = scaler.transform(X_test)\n",
    "\n",
    "plt.figure(figsize=(13, 6))\n",
    "plt.subplot(121)\n",
    "plt.hist(X_train, bins=25, ec='black')\n",
    "plt.title('Original')\n",
    "plt.subplot(122)\n",
    "plt.hist(X_train_scaled, bins=25, ec='black')\n",
    "plt.title('Scaled')"
   ]
  },
  {
   "cell_type": "raw",
   "id": "8819bf3f",
   "metadata": {},
   "source": [
    "#### Takeaways\n",
    "- I used the prep_zillow_data to clean and prepare the dataframe\n",
    "- I kept the zipcode column to answer the question posed about county tax_rate  \n",
    "- I got dropped tax_value, tax_amount and tax_rate to make sure there was not target leakage\n",
    "- I kept parcelid to be a unique identifier when predicting home price \n",
    "- I dropped transaction_date, county_id, and assessment_year since I know they won't help in exploration\n",
    "- I split my df into train, validate and test for exploration and modeling and split it a second time into X_train etc for use in modeling\n",
    "- I didn't scale the data I will do that at the beginning of modeling\n",
    "- I leave prep stage with a 27981 rows and  10)\n",
    "- From the hist plot I can see bedrooms and bathrooms are both normally distributed and area is right skewed"
   ]
  },
  {
   "cell_type": "markdown",
   "id": "0a546b90",
   "metadata": {},
   "source": [
    "# Explore"
   ]
  },
  {
   "cell_type": "markdown",
   "id": "a725af60",
   "metadata": {},
   "source": [
    "We are going start exploring and check for relationships between square feet and the target as well as bathrooms and the target to investigate my initial hypotheses."
   ]
  },
  {
   "cell_type": "markdown",
   "id": "464fe073",
   "metadata": {},
   "source": [
    "Hypothesis 1: Let's see if there is a relationship between sqft and tax_value.\n",
    "\n",
    "alpha = .05\n",
    "\n",
    "$H_0$: There is no relationship between sqft and tax_value, they are independent. \n",
    "\n",
    "$H_a$: There is a relationship between sqft and tax_value, they are dependent on each other.\n",
    "\n",
    "\n"
   ]
  },
  {
   "cell_type": "markdown",
   "id": "97264be0",
   "metadata": {},
   "source": [
    "Hypothesis 2: Let's see if there is a relationship between baths and tax_value.\n",
    "\n",
    "alpha = .05\n",
    "\n",
    "$H_0$: There is no relationship between baths and tax_value, they are independent. \n",
    "\n",
    "$H_a$: There is a relationship between baths and tax_value, they are dependent on each other.\n",
    "\n",
    "\n"
   ]
  },
  {
   "cell_type": "code",
   "execution_count": 19,
   "id": "466bcc25",
   "metadata": {},
   "outputs": [
    {
     "data": {
      "text/html": [
       "<div>\n",
       "<style scoped>\n",
       "    .dataframe tbody tr th:only-of-type {\n",
       "        vertical-align: middle;\n",
       "    }\n",
       "\n",
       "    .dataframe tbody tr th {\n",
       "        vertical-align: top;\n",
       "    }\n",
       "\n",
       "    .dataframe thead th {\n",
       "        text-align: right;\n",
       "    }\n",
       "</style>\n",
       "<table border=\"1\" class=\"dataframe\">\n",
       "  <thead>\n",
       "    <tr style=\"text-align: right;\">\n",
       "      <th></th>\n",
       "      <th>parcelid</th>\n",
       "      <th>bedrooms</th>\n",
       "      <th>bathrooms</th>\n",
       "      <th>area</th>\n",
       "      <th>tax_value</th>\n",
       "      <th>tax_amount</th>\n",
       "      <th>regionidzip</th>\n",
       "      <th>zipcode</th>\n",
       "    </tr>\n",
       "  </thead>\n",
       "  <tbody>\n",
       "    <tr>\n",
       "      <th>16116</th>\n",
       "      <td>13902937</td>\n",
       "      <td>4.0</td>\n",
       "      <td>2.5</td>\n",
       "      <td>1460.0</td>\n",
       "      <td>310353</td>\n",
       "      <td>3747.92</td>\n",
       "      <td>96181.0</td>\n",
       "      <td>6059.0</td>\n",
       "    </tr>\n",
       "    <tr>\n",
       "      <th>18639</th>\n",
       "      <td>11317092</td>\n",
       "      <td>3.0</td>\n",
       "      <td>2.0</td>\n",
       "      <td>1380.0</td>\n",
       "      <td>165839</td>\n",
       "      <td>2834.32</td>\n",
       "      <td>97319.0</td>\n",
       "      <td>6037.0</td>\n",
       "    </tr>\n",
       "    <tr>\n",
       "      <th>27943</th>\n",
       "      <td>10982256</td>\n",
       "      <td>4.0</td>\n",
       "      <td>2.0</td>\n",
       "      <td>1813.0</td>\n",
       "      <td>382801</td>\n",
       "      <td>4751.99</td>\n",
       "      <td>96368.0</td>\n",
       "      <td>6037.0</td>\n",
       "    </tr>\n",
       "    <tr>\n",
       "      <th>24328</th>\n",
       "      <td>14000431</td>\n",
       "      <td>3.0</td>\n",
       "      <td>2.0</td>\n",
       "      <td>1337.0</td>\n",
       "      <td>533299</td>\n",
       "      <td>6675.62</td>\n",
       "      <td>97052.0</td>\n",
       "      <td>6059.0</td>\n",
       "    </tr>\n",
       "    <tr>\n",
       "      <th>8810</th>\n",
       "      <td>11850221</td>\n",
       "      <td>3.0</td>\n",
       "      <td>2.0</td>\n",
       "      <td>1163.0</td>\n",
       "      <td>338182</td>\n",
       "      <td>4722.43</td>\n",
       "      <td>96497.0</td>\n",
       "      <td>6037.0</td>\n",
       "    </tr>\n",
       "  </tbody>\n",
       "</table>\n",
       "</div>"
      ],
      "text/plain": [
       "       parcelid  bedrooms  bathrooms    area  tax_value  tax_amount  \\\n",
       "16116  13902937       4.0        2.5  1460.0     310353     3747.92   \n",
       "18639  11317092       3.0        2.0  1380.0     165839     2834.32   \n",
       "27943  10982256       4.0        2.0  1813.0     382801     4751.99   \n",
       "24328  14000431       3.0        2.0  1337.0     533299     6675.62   \n",
       "8810   11850221       3.0        2.0  1163.0     338182     4722.43   \n",
       "\n",
       "      regionidzip zipcode  \n",
       "16116     96181.0  6059.0  \n",
       "18639     97319.0  6037.0  \n",
       "27943     96368.0  6037.0  \n",
       "24328     97052.0  6059.0  \n",
       "8810      96497.0  6037.0  "
      ]
     },
     "execution_count": 19,
     "metadata": {},
     "output_type": "execute_result"
    }
   ],
   "source": [
    "train.head()"
   ]
  },
  {
   "cell_type": "code",
   "execution_count": 20,
   "id": "a092e8de",
   "metadata": {},
   "outputs": [
    {
     "data": {
      "image/png": "[encoded data removed]",
      "text/plain": [
       "<Figure size 720x720 with 14 Axes>"
      ]
     },
     "metadata": {
      "needs_background": "light"
     },
     "output_type": "display_data"
    }
   ],
   "source": [
    "#Let's use sns.pairplot() to view a scatter plot visualizing the relationships between all of the numeric columns in our dataset all at once as well as individual distributions for each individual column.\n",
    "\n",
    "# We can drop the redundant information in the upper right half of the chart if we like.\n",
    "\n",
    "sns.pairplot(train[['bedrooms', 'bathrooms', 'area', 'tax_value']], corner=True)\n",
    "plt.show()"
   ]
  },
  {
   "cell_type": "code",
   "execution_count": 22,
   "id": "6492dce8",
   "metadata": {},
   "outputs": [
    {
     "data": {
      "image/png": "[encoded data removed]",
      "text/plain": [
       "<Figure size 1008x720 with 2 Axes>"
      ]
     },
     "metadata": {
      "needs_background": "light"
     },
     "output_type": "display_data"
    }
   ],
   "source": [
    "plt.rc('font', size=14)\n",
    "plt.rc('figure', figsize=(14, 10))\n",
    "sns.heatmap(train.corr(), cmap='PiYG')\n",
    "#sns.heatmap(train2.corr(), cmap='mako', center=0, annot=True)\n",
    "plt.show()"
   ]
  },
  {
   "cell_type": "code",
   "execution_count": 23,
   "id": "f1e08361",
   "metadata": {},
   "outputs": [
    {
     "data": {
      "text/html": [
       "<div>\n",
       "<style scoped>\n",
       "    .dataframe tbody tr th:only-of-type {\n",
       "        vertical-align: middle;\n",
       "    }\n",
       "\n",
       "    .dataframe tbody tr th {\n",
       "        vertical-align: top;\n",
       "    }\n",
       "\n",
       "    .dataframe thead th {\n",
       "        text-align: right;\n",
       "    }\n",
       "</style>\n",
       "<table border=\"1\" class=\"dataframe\">\n",
       "  <thead>\n",
       "    <tr style=\"text-align: right;\">\n",
       "      <th></th>\n",
       "      <th>bedrooms</th>\n",
       "      <th>bathrooms</th>\n",
       "      <th>area</th>\n",
       "      <th>tax_value</th>\n",
       "    </tr>\n",
       "  </thead>\n",
       "  <tbody>\n",
       "    <tr>\n",
       "      <th>bedrooms</th>\n",
       "      <td>1.000000</td>\n",
       "      <td>0.573257</td>\n",
       "      <td>0.597629</td>\n",
       "      <td>0.202765</td>\n",
       "    </tr>\n",
       "    <tr>\n",
       "      <th>bathrooms</th>\n",
       "      <td>0.573257</td>\n",
       "      <td>1.000000</td>\n",
       "      <td>0.778370</td>\n",
       "      <td>0.376551</td>\n",
       "    </tr>\n",
       "    <tr>\n",
       "      <th>area</th>\n",
       "      <td>0.597629</td>\n",
       "      <td>0.778370</td>\n",
       "      <td>1.000000</td>\n",
       "      <td>0.450107</td>\n",
       "    </tr>\n",
       "    <tr>\n",
       "      <th>tax_value</th>\n",
       "      <td>0.202765</td>\n",
       "      <td>0.376551</td>\n",
       "      <td>0.450107</td>\n",
       "      <td>1.000000</td>\n",
       "    </tr>\n",
       "  </tbody>\n",
       "</table>\n",
       "</div>"
      ],
      "text/plain": [
       "           bedrooms  bathrooms      area  tax_value\n",
       "bedrooms   1.000000   0.573257  0.597629   0.202765\n",
       "bathrooms  0.573257   1.000000  0.778370   0.376551\n",
       "area       0.597629   0.778370  1.000000   0.450107\n",
       "tax_value  0.202765   0.376551  0.450107   1.000000"
      ]
     },
     "execution_count": 23,
     "metadata": {},
     "output_type": "execute_result"
    }
   ],
   "source": [
    "# Create the correlation matrix for all features.\n",
    "\n",
    "exam_corr = train.drop(columns='tax_amount').corr()\n",
    "exam_corr"
   ]
  },
  {
   "cell_type": "code",
   "execution_count": 24,
   "id": "a05c875d",
   "metadata": {},
   "outputs": [
    {
     "name": "stdout",
     "output_type": "stream",
     "text": [
      "0.3765514206483307 0.0\n"
     ]
    }
   ],
   "source": [
    "# Use a scipy stats function pearsonr to calculate the correlation coefficient and the p-value.\n",
    "\n",
    "r, p_value = pearsonr(train.bathrooms, train.tax_value)\n",
    "print(r, p_value)"
   ]
  },
  {
   "cell_type": "markdown",
   "id": "d2aed0fc",
   "metadata": {},
   "source": [
    "Based on my correlation coefficient and my p-value, I reject my Null hypothesis 2 that there is no correlation \n",
    "between baths and tax_value."
   ]
  },
  {
   "cell_type": "code",
   "execution_count": 25,
   "id": "ef2fbd1d",
   "metadata": {},
   "outputs": [
    {
     "name": "stdout",
     "output_type": "stream",
     "text": [
      "0.4501066203370102 0.0\n"
     ]
    }
   ],
   "source": [
    "# Use a scipy stats function pearsonr to calculate the correlation coefficient and the p-value.\n",
    "\n",
    "r, p_value = pearsonr(train.area, train.tax_value)\n",
    "print(r, p_value)"
   ]
  },
  {
   "cell_type": "markdown",
   "id": "a122b86a",
   "metadata": {},
   "source": [
    "Based on my correlation coefficient and my p-value, I reject my Null hypothesis 1 that there is no correlation \n",
    "between sqft and tax_value."
   ]
  },
  {
   "cell_type": "code",
   "execution_count": 26,
   "id": "a9f005be",
   "metadata": {},
   "outputs": [
    {
     "data": {
      "text/plain": [
       "(        chi2        p-value  degrees of freedom\n",
       " 0  497.85393  2.437788e-104                   6,\n",
       " bedrooms   2.0   3.0   4.0  5.0\n",
       " zipcode                        \n",
       " 6037.0    1856  4423  2115  367\n",
       " 6059.0     406  1713  1348  242\n",
       " 6111.0      87   550   501   95,\n",
       "              0            1            2           3\n",
       " 0  1501.830913  4274.687733  2534.379625  450.101730\n",
       " 1   635.805371  1809.704006  1072.938481  190.552142\n",
       " 2   211.363716   601.608261   356.681894   63.346129)"
      ]
     },
     "execution_count": 26,
     "metadata": {},
     "output_type": "execute_result"
    }
   ],
   "source": [
    "# check for relationship between zipcode and tax_value\n",
    "explore.run_chi2(train, 'zipcode', 'bedrooms')"
   ]
  },
  {
   "cell_type": "markdown",
   "id": "e089022a",
   "metadata": {},
   "source": [
    "Based on the chi2 test we have a very low p value therefore we can conclude there is a high likelihood there is correlation between zipcode and bedrooms"
   ]
  },
  {
   "cell_type": "markdown",
   "id": "f7f21b5d",
   "metadata": {},
   "source": [
    "### Takeaways\n",
    "- bathrooms and bedrooms have a linear correlation that is not very strong\n",
    "- bedrooms and tax_value do not have a strong linear correlation\n",
    "- area and bathrooms have the strongest correlation I have seen so far\n",
    "- tax_value and bathothrooms does not look like they have a strong linear correlation\n",
    "- from the heatmap we can see area and bathrooms have the strongest correlation followed by bathrooms and bedrooms, next highest correlation is area and tax_value, and then bathrooms and and tax_value, and with the least correlation we see tax_value and bedrooms\n",
    "- the correlation matrix indicates area has the highest correlation with tax_value at .61, followed by bathrooms and then bedrooms"
   ]
  },
  {
   "cell_type": "markdown",
   "id": "e0c13e8f",
   "metadata": {},
   "source": [
    "# Modeling"
   ]
  },
  {
   "cell_type": "code",
   "execution_count": 27,
   "id": "1491ce8b",
   "metadata": {},
   "outputs": [
    {
     "data": {
      "text/plain": [
       "array([[2.09595195e-02, 6.66666667e-01, 5.00000000e-01, ...,\n",
       "        1.72570567e-01, 6.55266997e-04, 2.97297297e-01],\n",
       "       [3.97517302e-03, 3.33333333e-01, 3.33333333e-01, ...,\n",
       "        1.29921129e-01, 4.40247223e-03, 0.00000000e+00],\n",
       "       [1.77590328e-03, 6.66666667e-01, 3.33333333e-01, ...,\n",
       "        2.19443401e-01, 1.27102041e-03, 0.00000000e+00],\n",
       "       ...,\n",
       "       [1.23110724e-02, 3.33333333e-01, 0.00000000e+00, ...,\n",
       "        1.89892233e-01, 8.16614147e-04, 0.00000000e+00],\n",
       "       [4.28435395e-02, 0.00000000e+00, 0.00000000e+00, ...,\n",
       "        2.76818938e-01, 3.73403404e-03, 1.00000000e+00],\n",
       "       [5.53144227e-03, 3.33333333e-01, 3.33333333e-01, ...,\n",
       "        2.82704243e-01, 2.14031934e-04, 0.00000000e+00]])"
      ]
     },
     "execution_count": 27,
     "metadata": {},
     "output_type": "execute_result"
    }
   ],
   "source": [
    "X_train_scaled"
   ]
  },
  {
   "cell_type": "code",
   "execution_count": 28,
   "id": "0356997d",
   "metadata": {},
   "outputs": [],
   "source": [
    "def remove_outliers(df, k, col_list):\n",
    "    ''' remove outliers from a list of columns in a dataframe \n",
    "        and return that dataframe\n",
    "    '''\n",
    "    \n",
    "    for col in col_list:\n",
    "\n",
    "        q1, q3 = df[col].quantile([.25, .75])  # get quartiles\n",
    "        \n",
    "        iqr = q3 - q1   # calculate interquartile range\n",
    "        \n",
    "        upper_bound = q3 + k * iqr   # get upper bound\n",
    "        lower_bound = q1 - k * iqr   # get lower bound\n",
    "\n",
    "        # return dataframe without outliers\n",
    "        \n",
    "        df = df[(df[col] > lower_bound) & (df[col] < upper_bound)]\n",
    "        \n",
    "    return df"
   ]
  },
  {
   "cell_type": "code",
   "execution_count": 29,
   "id": "9c7d022b",
   "metadata": {},
   "outputs": [],
   "source": [
    "# removing outliers\n",
    "df = remove_outliers(df, 1.5, ['bedrooms', 'bathrooms', 'area', 'tax_value'])"
   ]
  },
  {
   "cell_type": "code",
   "execution_count": 30,
   "id": "ce843122",
   "metadata": {},
   "outputs": [],
   "source": [
    "X_train = X_train.drop(columns= ['parcelid', 'tax_amount','regionidzip','zipcode'])\n",
    "X_validate = X_validate.drop(columns =['parcelid', 'tax_amount','regionidzip','zipcode'])\n",
    "X_test = X_test.drop(columns= ['parcelid', 'tax_amount','regionidzip','zipcode'])"
   ]
  },
  {
   "cell_type": "markdown",
   "id": "9c2d9a6c",
   "metadata": {},
   "source": [
    "### Creating baseline model"
   ]
  },
  {
   "cell_type": "code",
   "execution_count": 31,
   "id": "a34fd598",
   "metadata": {},
   "outputs": [
    {
     "name": "stdout",
     "output_type": "stream",
     "text": [
      "RMSE using Mean\n",
      "Train/In-Sample:  248272.02 \n",
      "Validate/Out-of-Sample:  248209.6\n"
     ]
    }
   ],
   "source": [
    "# We need y_train and y_validate to be dataframes to append the new columns with predicted values. \n",
    "y_train = pd.DataFrame(y_train)\n",
    "y_validate = pd.DataFrame(y_validate)\n",
    "\n",
    "# 1. Predict tax_value_pred_mean\n",
    "tax_value_pred_mean = y_train['tax_value'].mean()\n",
    "y_train['tax_value_pred_mean'] = tax_value_pred_mean\n",
    "y_validate['tax_value_pred_mean'] = tax_value_pred_mean\n",
    "\n",
    "# 2. compute tax_value_pred_median\n",
    "tax_value_pred_median = y_train['tax_value'].median()\n",
    "y_train['tax_value_pred_median'] = tax_value_pred_median\n",
    "y_validate['tax_value_pred_median'] = tax_value_pred_median\n",
    "\n",
    "# 3. RMSE of tax_value_pred_mean\n",
    "rmse_train = mean_squared_error(y_train.tax_value, y_train.tax_value_pred_mean)**(1/2)\n",
    "rmse_validate = mean_squared_error(y_validate.tax_value, y_validate.tax_value_pred_mean)**(1/2)\n",
    "\n",
    "print(\"RMSE using Mean\\nTrain/In-Sample: \", round(rmse_train, 2), \n",
    "      \"\\nValidate/Out-of-Sample: \", round(rmse_validate, 2))"
   ]
  },
  {
   "cell_type": "markdown",
   "id": "494d064e",
   "metadata": {},
   "source": [
    "## OLS: Model 1"
   ]
  },
  {
   "cell_type": "code",
   "execution_count": 32,
   "id": "9d787a34",
   "metadata": {},
   "outputs": [
    {
     "name": "stdout",
     "output_type": "stream",
     "text": [
      "RMSE for OLS using LinearRegression\n",
      "Training/In-Sample:  220231.7297811005 \n",
      "Validation/Out-of-Sample:  219225.6892122211\n"
     ]
    }
   ],
   "source": [
    "# Fit a LinearRegression model using the features suggested in the curriculum\n",
    "# create the model object\n",
    "lm = LinearRegression(normalize=True)\n",
    "\n",
    "# fit the model to our training data. We must specify the column in y_train, \n",
    "# since we have converted it to a dataframe from a series! \n",
    "lm.fit(X_train, y_train.tax_value)\n",
    "\n",
    "# predict train\n",
    "y_train['tax_value_pred_lm'] = lm.predict(X_train)\n",
    "\n",
    "# evaluate: rmse\n",
    "rmse_train = mean_squared_error(y_train.tax_value, y_train.tax_value_pred_lm)**(1/2)\n",
    "\n",
    "# predict validate\n",
    "y_validate['tax_value_pred_lm'] = lm.predict(X_validate)\n",
    "\n",
    "# evaluate: rmse\n",
    "rmse_validate = mean_squared_error(y_validate.tax_value, y_validate.tax_value_pred_lm)**(1/2)\n",
    "\n",
    "print(\"RMSE for OLS using LinearRegression\\nTraining/In-Sample: \", rmse_train, \n",
    "      \"\\nValidation/Out-of-Sample: \", rmse_validate)"
   ]
  },
  {
   "cell_type": "markdown",
   "id": "006f9922",
   "metadata": {},
   "source": [
    "## LassoLars Model 2"
   ]
  },
  {
   "cell_type": "code",
   "execution_count": 33,
   "id": "fc03b0ea",
   "metadata": {},
   "outputs": [
    {
     "name": "stdout",
     "output_type": "stream",
     "text": [
      "RMSE for Lasso + Lars\n",
      "Training/In-Sample:  220231.90430342263 \n",
      "Validation/Out-of-Sample:  219228.48364714946\n"
     ]
    }
   ],
   "source": [
    "#LassoLars model\n",
    "# create the model object\n",
    "lars = LassoLars(alpha=1.0)\n",
    "\n",
    "# fit the model to our training data. We must specify the column in y_train, \n",
    "# since we have converted it to a dataframe from a series! \n",
    "lars.fit(X_train, y_train.tax_value)\n",
    "\n",
    "# predict train\n",
    "y_train['tax_value_pred_lars'] = lars.predict(X_train)\n",
    "\n",
    "# evaluate: rmse\n",
    "rmse_train = mean_squared_error(y_train.tax_value, y_train.tax_value_pred_lars)**(1/2)\n",
    "\n",
    "# predict validate\n",
    "y_validate['tax_value_pred_lars'] = lars.predict(X_validate)\n",
    "\n",
    "# evaluate: rmse\n",
    "rmse_validate = mean_squared_error(y_validate.tax_value, y_validate.tax_value_pred_lars)**(1/2)\n",
    "\n",
    "print(\"RMSE for Lasso + Lars\\nTraining/In-Sample: \", rmse_train, \n",
    "      \"\\nValidation/Out-of-Sample: \", rmse_validate)"
   ]
  },
  {
   "cell_type": "code",
   "execution_count": 35,
   "id": "7f19052f",
   "metadata": {},
   "outputs": [
    {
     "name": "stdout",
     "output_type": "stream",
     "text": [
      "RMSE for OLS Model using LinearRegression\n",
      "Out-of-Sample Performance:  219310.07211005074\n"
     ]
    }
   ],
   "source": [
    "# The OLS Model performed the best so I'll use that on my test data\n",
    "# for my final result\n",
    "# Model Selection & Out-of-Sample Evaluation\n",
    "# Model selected: lm (using LinearRegression)\n",
    "    \n",
    "y_test = pd.DataFrame(y_test)\n",
    "\n",
    "# predict on test\n",
    "y_test['tax_value_pred_lm'] = lm.predict(X_test)\n",
    "\n",
    "# evaluate: rmse\n",
    "rmse_test = mean_squared_error(y_test.tax_value, y_test.tax_value_pred_lm) ** (1/2)\n",
    "\n",
    "print(\"RMSE for OLS Model using LinearRegression\\nOut-of-Sample Performance: \", rmse_test)"
   ]
  },
  {
   "cell_type": "markdown",
   "id": "546b0a96",
   "metadata": {},
   "source": [
    "# Conclusion"
   ]
  },
  {
   "cell_type": "code",
   "execution_count": 44,
   "id": "89a32068",
   "metadata": {},
   "outputs": [],
   "source": [
    "# find how the difference between baseline performance and my best\n",
    "# model\n",
    "Baseline_RMSE = 248209.6\n",
    "OLS_RMSE = 219225.6892122211"
   ]
  },
  {
   "cell_type": "code",
   "execution_count": 45,
   "id": "f0e74bd6",
   "metadata": {},
   "outputs": [
    {
     "data": {
      "text/plain": [
       "28983.910787778907"
      ]
     },
     "execution_count": 45,
     "metadata": {},
     "output_type": "execute_result"
    }
   ],
   "source": [
    "Baseline_RMSE - OLS_RMSE"
   ]
  },
  {
   "cell_type": "markdown",
   "id": "b7f2a7d0",
   "metadata": {},
   "source": [
    "I was able to beat the baseline model by $28,984 which establishes that my model is of value."
   ]
  },
  {
   "cell_type": "markdown",
   "id": "4af86b8e",
   "metadata": {},
   "source": [
    "With more time I would create a new feature to see if I could increase my models performance, I would vary parameters of my models to optimize results and I would incorporate additional features in my model to see if that lowered my RMSE further."
   ]
  }
 ],
 "metadata": {
  "kernelspec": {
   "display_name": "Python 3",
   "language": "python",
   "name": "python3"
  },
  "language_info": {
   "codemirror_mode": {
    "name": "ipython",
    "version": 3
   },
   "file_extension": ".py",
   "mimetype": "text/x-python",
   "name": "python",
   "nbconvert_exporter": "python",
   "pygments_lexer": "ipython3",
   "version": "3.8.8"
  }
 },
 "nbformat": 4,
 "nbformat_minor": 5
}
